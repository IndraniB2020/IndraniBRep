{
 "cells": [
  {
   "cell_type": "markdown",
   "metadata": {},
   "source": [
    "# Merge_csv"
   ]
  },
  {
   "cell_type": "code",
   "execution_count": 3,
   "metadata": {},
   "outputs": [],
   "source": [
    "import os\n",
    "import glob\n",
    "import pandas as pd\n",
    "path = \"C:/Users/Indrani B/Desktop/bootcamp/Ml_proj/test_data\""
   ]
  },
  {
   "cell_type": "code",
   "execution_count": 134,
   "metadata": {},
   "outputs": [],
   "source": [
    "all_filenames = glob.glob(os.path.join(path, \"WELL*.csv\"))\n",
    "#all_filenames"
   ]
  },
  {
   "cell_type": "code",
   "execution_count": 135,
   "metadata": {},
   "outputs": [],
   "source": [
    "#df_from_each_file = (pd.read_csv(f, sep=',') for f in all_filenames)\n",
    "#df_merged = pd.concat(df_from_each_file, ignore_index=True)\n",
    "df_merged = pd.concat([pd.read_csv(fp).assign(WELL_No=os.path.basename(fp)) for fp in all_filenames])\n",
    "meged_file = df_merged.to_csv(\"merged.csv\")"
   ]
  },
  {
   "cell_type": "code",
   "execution_count": 136,
   "metadata": {},
   "outputs": [],
   "source": [
    "file = open(\"merged.csv\")\n",
    "\n",
    "numlines = len(file.readlines())"
   ]
  },
  {
   "cell_type": "code",
   "execution_count": 281,
   "metadata": {},
   "outputs": [
    {
     "name": "stdout",
     "output_type": "stream",
     "text": [
      "No. of instances: 2032442\n"
     ]
    }
   ],
   "source": [
    "print(\"No. of instances:\", numlines)"
   ]
  },
  {
   "cell_type": "markdown",
   "metadata": {},
   "source": [
    "# Preprocessing\n"
   ]
  },
  {
   "cell_type": "code",
   "execution_count": 2,
   "metadata": {},
   "outputs": [],
   "source": [
    "import numpy as np\n",
    "import matplotlib.pyplot as plt\n"
   ]
  },
  {
   "cell_type": "code",
   "execution_count": 4,
   "metadata": {},
   "outputs": [
    {
     "data": {
      "text/html": [
       "<div>\n",
       "<style scoped>\n",
       "    .dataframe tbody tr th:only-of-type {\n",
       "        vertical-align: middle;\n",
       "    }\n",
       "\n",
       "    .dataframe tbody tr th {\n",
       "        vertical-align: top;\n",
       "    }\n",
       "\n",
       "    .dataframe thead th {\n",
       "        text-align: right;\n",
       "    }\n",
       "</style>\n",
       "<table border=\"1\" class=\"dataframe\">\n",
       "  <thead>\n",
       "    <tr style=\"text-align: right;\">\n",
       "      <th></th>\n",
       "      <th>Unnamed: 0</th>\n",
       "      <th>timestamp</th>\n",
       "      <th>P-PDG</th>\n",
       "      <th>P-TPT</th>\n",
       "      <th>T-TPT</th>\n",
       "      <th>P-MON-CKP</th>\n",
       "      <th>T-JUS-CKP</th>\n",
       "      <th>P-JUS-CKGL</th>\n",
       "      <th>T-JUS-CKGL</th>\n",
       "      <th>QGL</th>\n",
       "      <th>class</th>\n",
       "      <th>WELL_No</th>\n",
       "    </tr>\n",
       "  </thead>\n",
       "  <tbody>\n",
       "    <tr>\n",
       "      <th>0</th>\n",
       "      <td>0</td>\n",
       "      <td>2014-01-24 21:31:36.000000</td>\n",
       "      <td>0.0</td>\n",
       "      <td>18433410.0</td>\n",
       "      <td>116.9109</td>\n",
       "      <td>9366608.0</td>\n",
       "      <td>75.34820</td>\n",
       "      <td>-300917.8</td>\n",
       "      <td>NaN</td>\n",
       "      <td>0.0</td>\n",
       "      <td>0.0</td>\n",
       "      <td>WELL-00001_20140124213136.csv</td>\n",
       "    </tr>\n",
       "    <tr>\n",
       "      <th>1</th>\n",
       "      <td>1</td>\n",
       "      <td>2014-01-24 21:31:37.000000</td>\n",
       "      <td>0.0</td>\n",
       "      <td>18433410.0</td>\n",
       "      <td>116.9109</td>\n",
       "      <td>9366602.0</td>\n",
       "      <td>75.34825</td>\n",
       "      <td>-300917.8</td>\n",
       "      <td>NaN</td>\n",
       "      <td>0.0</td>\n",
       "      <td>0.0</td>\n",
       "      <td>WELL-00001_20140124213136.csv</td>\n",
       "    </tr>\n",
       "    <tr>\n",
       "      <th>2</th>\n",
       "      <td>2</td>\n",
       "      <td>2014-01-24 21:31:38.000000</td>\n",
       "      <td>0.0</td>\n",
       "      <td>18433410.0</td>\n",
       "      <td>116.9109</td>\n",
       "      <td>9366598.0</td>\n",
       "      <td>75.34831</td>\n",
       "      <td>-300917.8</td>\n",
       "      <td>NaN</td>\n",
       "      <td>0.0</td>\n",
       "      <td>0.0</td>\n",
       "      <td>WELL-00001_20140124213136.csv</td>\n",
       "    </tr>\n",
       "    <tr>\n",
       "      <th>3</th>\n",
       "      <td>3</td>\n",
       "      <td>2014-01-24 21:31:39.000000</td>\n",
       "      <td>0.0</td>\n",
       "      <td>18433410.0</td>\n",
       "      <td>116.9109</td>\n",
       "      <td>9366592.0</td>\n",
       "      <td>75.34837</td>\n",
       "      <td>-300917.8</td>\n",
       "      <td>NaN</td>\n",
       "      <td>0.0</td>\n",
       "      <td>0.0</td>\n",
       "      <td>WELL-00001_20140124213136.csv</td>\n",
       "    </tr>\n",
       "    <tr>\n",
       "      <th>4</th>\n",
       "      <td>4</td>\n",
       "      <td>2014-01-24 21:31:40.000000</td>\n",
       "      <td>0.0</td>\n",
       "      <td>18433410.0</td>\n",
       "      <td>116.9109</td>\n",
       "      <td>9366588.0</td>\n",
       "      <td>75.34843</td>\n",
       "      <td>-300917.8</td>\n",
       "      <td>NaN</td>\n",
       "      <td>0.0</td>\n",
       "      <td>0.0</td>\n",
       "      <td>WELL-00001_20140124213136.csv</td>\n",
       "    </tr>\n",
       "  </tbody>\n",
       "</table>\n",
       "</div>"
      ],
      "text/plain": [
       "   Unnamed: 0                   timestamp  P-PDG       P-TPT     T-TPT  \\\n",
       "0           0  2014-01-24 21:31:36.000000    0.0  18433410.0  116.9109   \n",
       "1           1  2014-01-24 21:31:37.000000    0.0  18433410.0  116.9109   \n",
       "2           2  2014-01-24 21:31:38.000000    0.0  18433410.0  116.9109   \n",
       "3           3  2014-01-24 21:31:39.000000    0.0  18433410.0  116.9109   \n",
       "4           4  2014-01-24 21:31:40.000000    0.0  18433410.0  116.9109   \n",
       "\n",
       "   P-MON-CKP  T-JUS-CKP  P-JUS-CKGL  T-JUS-CKGL  QGL  class  \\\n",
       "0  9366608.0   75.34820   -300917.8         NaN  0.0    0.0   \n",
       "1  9366602.0   75.34825   -300917.8         NaN  0.0    0.0   \n",
       "2  9366598.0   75.34831   -300917.8         NaN  0.0    0.0   \n",
       "3  9366592.0   75.34837   -300917.8         NaN  0.0    0.0   \n",
       "4  9366588.0   75.34843   -300917.8         NaN  0.0    0.0   \n",
       "\n",
       "                         WELL_No  \n",
       "0  WELL-00001_20140124213136.csv  \n",
       "1  WELL-00001_20140124213136.csv  \n",
       "2  WELL-00001_20140124213136.csv  \n",
       "3  WELL-00001_20140124213136.csv  \n",
       "4  WELL-00001_20140124213136.csv  "
      ]
     },
     "execution_count": 4,
     "metadata": {},
     "output_type": "execute_result"
    }
   ],
   "source": [
    "df = pd.read_csv('C:/Users/Indrani B/Desktop/bootcamp/Ml_proj/test_data/merged.csv')\n",
    "df.head()\n"
   ]
  },
  {
   "cell_type": "code",
   "execution_count": 5,
   "metadata": {},
   "outputs": [
    {
     "data": {
      "text/plain": [
       "0          WELL-00001_20140124213136.csv\n",
       "1          WELL-00001_20140124213136.csv\n",
       "2          WELL-00001_20140124213136.csv\n",
       "3          WELL-00001_20140124213136.csv\n",
       "4          WELL-00001_20140124213136.csv\n",
       "                       ...              \n",
       "2032436    WELL-00021_20170509013517.csv\n",
       "2032437    WELL-00021_20170509013517.csv\n",
       "2032438    WELL-00021_20170509013517.csv\n",
       "2032439    WELL-00021_20170509013517.csv\n",
       "2032440    WELL-00021_20170509013517.csv\n",
       "Name: WELL_No, Length: 2032441, dtype: object"
      ]
     },
     "execution_count": 5,
     "metadata": {},
     "output_type": "execute_result"
    }
   ],
   "source": [
    "df['WELL_No']"
   ]
  },
  {
   "cell_type": "code",
   "execution_count": 6,
   "metadata": {},
   "outputs": [],
   "source": [
    "#splitting column string\n",
    "df[['WELL_No','Last']] = df.WELL_No.apply(lambda x: pd.Series(str(x).split(\"_\"))) "
   ]
  },
  {
   "cell_type": "code",
   "execution_count": 7,
   "metadata": {},
   "outputs": [],
   "source": [
    "#splitting column string\n",
    "df[['1st','WELL_No']] = df.WELL_No.apply(lambda x: pd.Series(str(x).split(\"WELL-\"))) "
   ]
  },
  {
   "cell_type": "code",
   "execution_count": 8,
   "metadata": {},
   "outputs": [
    {
     "name": "stdout",
     "output_type": "stream",
     "text": [
      "[  0.  nan 101.   1. 107.   7.   4. 102.   2. 106.   6.   3. 105.   5.\n",
      " 108.   8.]\n"
     ]
    }
   ],
   "source": [
    "#plt.hist(well['class'])\n",
    "#print(df[\"class\"])\n",
    "#type(df['class'].unique())\n",
    "print(df['class'].unique())"
   ]
  },
  {
   "cell_type": "code",
   "execution_count": 9,
   "metadata": {},
   "outputs": [],
   "source": [
    "df = df.drop(columns=\"1st\")"
   ]
  },
  {
   "cell_type": "code",
   "execution_count": 10,
   "metadata": {},
   "outputs": [],
   "source": [
    "df = df.drop(columns=\"Last\")"
   ]
  },
  {
   "cell_type": "code",
   "execution_count": 11,
   "metadata": {},
   "outputs": [
    {
     "data": {
      "text/html": [
       "<div>\n",
       "<style scoped>\n",
       "    .dataframe tbody tr th:only-of-type {\n",
       "        vertical-align: middle;\n",
       "    }\n",
       "\n",
       "    .dataframe tbody tr th {\n",
       "        vertical-align: top;\n",
       "    }\n",
       "\n",
       "    .dataframe thead th {\n",
       "        text-align: right;\n",
       "    }\n",
       "</style>\n",
       "<table border=\"1\" class=\"dataframe\">\n",
       "  <thead>\n",
       "    <tr style=\"text-align: right;\">\n",
       "      <th></th>\n",
       "      <th>Unnamed: 0</th>\n",
       "      <th>timestamp</th>\n",
       "      <th>P-PDG</th>\n",
       "      <th>P-TPT</th>\n",
       "      <th>T-TPT</th>\n",
       "      <th>P-MON-CKP</th>\n",
       "      <th>T-JUS-CKP</th>\n",
       "      <th>P-JUS-CKGL</th>\n",
       "      <th>T-JUS-CKGL</th>\n",
       "      <th>QGL</th>\n",
       "      <th>class</th>\n",
       "      <th>WELL_No</th>\n",
       "    </tr>\n",
       "  </thead>\n",
       "  <tbody>\n",
       "    <tr>\n",
       "      <th>0</th>\n",
       "      <td>0</td>\n",
       "      <td>2014-01-24 21:31:36.000000</td>\n",
       "      <td>0.000000e+00</td>\n",
       "      <td>1.843341e+07</td>\n",
       "      <td>116.910900</td>\n",
       "      <td>9366608.0</td>\n",
       "      <td>75.34820</td>\n",
       "      <td>-3.009178e+05</td>\n",
       "      <td>NaN</td>\n",
       "      <td>0.000000e+00</td>\n",
       "      <td>0.0</td>\n",
       "      <td>00001</td>\n",
       "    </tr>\n",
       "    <tr>\n",
       "      <th>1</th>\n",
       "      <td>1</td>\n",
       "      <td>2014-01-24 21:31:37.000000</td>\n",
       "      <td>0.000000e+00</td>\n",
       "      <td>1.843341e+07</td>\n",
       "      <td>116.910900</td>\n",
       "      <td>9366602.0</td>\n",
       "      <td>75.34825</td>\n",
       "      <td>-3.009178e+05</td>\n",
       "      <td>NaN</td>\n",
       "      <td>0.000000e+00</td>\n",
       "      <td>0.0</td>\n",
       "      <td>00001</td>\n",
       "    </tr>\n",
       "    <tr>\n",
       "      <th>2</th>\n",
       "      <td>2</td>\n",
       "      <td>2014-01-24 21:31:38.000000</td>\n",
       "      <td>0.000000e+00</td>\n",
       "      <td>1.843341e+07</td>\n",
       "      <td>116.910900</td>\n",
       "      <td>9366598.0</td>\n",
       "      <td>75.34831</td>\n",
       "      <td>-3.009178e+05</td>\n",
       "      <td>NaN</td>\n",
       "      <td>0.000000e+00</td>\n",
       "      <td>0.0</td>\n",
       "      <td>00001</td>\n",
       "    </tr>\n",
       "    <tr>\n",
       "      <th>3</th>\n",
       "      <td>3</td>\n",
       "      <td>2014-01-24 21:31:39.000000</td>\n",
       "      <td>0.000000e+00</td>\n",
       "      <td>1.843341e+07</td>\n",
       "      <td>116.910900</td>\n",
       "      <td>9366592.0</td>\n",
       "      <td>75.34837</td>\n",
       "      <td>-3.009178e+05</td>\n",
       "      <td>NaN</td>\n",
       "      <td>0.000000e+00</td>\n",
       "      <td>0.0</td>\n",
       "      <td>00001</td>\n",
       "    </tr>\n",
       "    <tr>\n",
       "      <th>4</th>\n",
       "      <td>4</td>\n",
       "      <td>2014-01-24 21:31:40.000000</td>\n",
       "      <td>0.000000e+00</td>\n",
       "      <td>1.843341e+07</td>\n",
       "      <td>116.910900</td>\n",
       "      <td>9366588.0</td>\n",
       "      <td>75.34843</td>\n",
       "      <td>-3.009178e+05</td>\n",
       "      <td>NaN</td>\n",
       "      <td>0.000000e+00</td>\n",
       "      <td>0.0</td>\n",
       "      <td>00001</td>\n",
       "    </tr>\n",
       "    <tr>\n",
       "      <th>...</th>\n",
       "      <td>...</td>\n",
       "      <td>...</td>\n",
       "      <td>...</td>\n",
       "      <td>...</td>\n",
       "      <td>...</td>\n",
       "      <td>...</td>\n",
       "      <td>...</td>\n",
       "      <td>...</td>\n",
       "      <td>...</td>\n",
       "      <td>...</td>\n",
       "      <td>...</td>\n",
       "      <td>...</td>\n",
       "    </tr>\n",
       "    <tr>\n",
       "      <th>2032431</th>\n",
       "      <td>24194</td>\n",
       "      <td>2017-05-09 08:18:31.000000</td>\n",
       "      <td>3.096646e+09</td>\n",
       "      <td>1.914609e+09</td>\n",
       "      <td>4.311329</td>\n",
       "      <td>3150674.0</td>\n",
       "      <td>NaN</td>\n",
       "      <td>1.579215e+09</td>\n",
       "      <td>NaN</td>\n",
       "      <td>1.157562e-09</td>\n",
       "      <td>8.0</td>\n",
       "      <td>00021</td>\n",
       "    </tr>\n",
       "    <tr>\n",
       "      <th>2032432</th>\n",
       "      <td>24195</td>\n",
       "      <td>2017-05-09 08:18:32.000000</td>\n",
       "      <td>3.096644e+09</td>\n",
       "      <td>1.913932e+09</td>\n",
       "      <td>4.311428</td>\n",
       "      <td>3150676.0</td>\n",
       "      <td>NaN</td>\n",
       "      <td>1.579158e+09</td>\n",
       "      <td>NaN</td>\n",
       "      <td>1.157520e-09</td>\n",
       "      <td>8.0</td>\n",
       "      <td>00021</td>\n",
       "    </tr>\n",
       "    <tr>\n",
       "      <th>2032433</th>\n",
       "      <td>24196</td>\n",
       "      <td>2017-05-09 08:18:33.000000</td>\n",
       "      <td>3.096642e+09</td>\n",
       "      <td>1.913256e+09</td>\n",
       "      <td>4.311527</td>\n",
       "      <td>3150677.0</td>\n",
       "      <td>NaN</td>\n",
       "      <td>1.579101e+09</td>\n",
       "      <td>NaN</td>\n",
       "      <td>1.157479e-09</td>\n",
       "      <td>8.0</td>\n",
       "      <td>00021</td>\n",
       "    </tr>\n",
       "    <tr>\n",
       "      <th>2032434</th>\n",
       "      <td>24197</td>\n",
       "      <td>2017-05-09 08:18:34.000000</td>\n",
       "      <td>3.096640e+09</td>\n",
       "      <td>1.912579e+09</td>\n",
       "      <td>4.311625</td>\n",
       "      <td>3150679.0</td>\n",
       "      <td>NaN</td>\n",
       "      <td>1.579044e+09</td>\n",
       "      <td>NaN</td>\n",
       "      <td>1.157438e-09</td>\n",
       "      <td>8.0</td>\n",
       "      <td>00021</td>\n",
       "    </tr>\n",
       "    <tr>\n",
       "      <th>2032435</th>\n",
       "      <td>24198</td>\n",
       "      <td>2017-05-09 08:18:35.000000</td>\n",
       "      <td>3.096638e+09</td>\n",
       "      <td>1.911957e+09</td>\n",
       "      <td>4.311705</td>\n",
       "      <td>3150681.0</td>\n",
       "      <td>NaN</td>\n",
       "      <td>1.578987e+09</td>\n",
       "      <td>NaN</td>\n",
       "      <td>1.157397e-09</td>\n",
       "      <td>8.0</td>\n",
       "      <td>00021</td>\n",
       "    </tr>\n",
       "  </tbody>\n",
       "</table>\n",
       "<p>2032436 rows × 12 columns</p>\n",
       "</div>"
      ],
      "text/plain": [
       "         Unnamed: 0                   timestamp         P-PDG         P-TPT  \\\n",
       "0                 0  2014-01-24 21:31:36.000000  0.000000e+00  1.843341e+07   \n",
       "1                 1  2014-01-24 21:31:37.000000  0.000000e+00  1.843341e+07   \n",
       "2                 2  2014-01-24 21:31:38.000000  0.000000e+00  1.843341e+07   \n",
       "3                 3  2014-01-24 21:31:39.000000  0.000000e+00  1.843341e+07   \n",
       "4                 4  2014-01-24 21:31:40.000000  0.000000e+00  1.843341e+07   \n",
       "...             ...                         ...           ...           ...   \n",
       "2032431       24194  2017-05-09 08:18:31.000000  3.096646e+09  1.914609e+09   \n",
       "2032432       24195  2017-05-09 08:18:32.000000  3.096644e+09  1.913932e+09   \n",
       "2032433       24196  2017-05-09 08:18:33.000000  3.096642e+09  1.913256e+09   \n",
       "2032434       24197  2017-05-09 08:18:34.000000  3.096640e+09  1.912579e+09   \n",
       "2032435       24198  2017-05-09 08:18:35.000000  3.096638e+09  1.911957e+09   \n",
       "\n",
       "              T-TPT  P-MON-CKP  T-JUS-CKP    P-JUS-CKGL  T-JUS-CKGL  \\\n",
       "0        116.910900  9366608.0   75.34820 -3.009178e+05         NaN   \n",
       "1        116.910900  9366602.0   75.34825 -3.009178e+05         NaN   \n",
       "2        116.910900  9366598.0   75.34831 -3.009178e+05         NaN   \n",
       "3        116.910900  9366592.0   75.34837 -3.009178e+05         NaN   \n",
       "4        116.910900  9366588.0   75.34843 -3.009178e+05         NaN   \n",
       "...             ...        ...        ...           ...         ...   \n",
       "2032431    4.311329  3150674.0        NaN  1.579215e+09         NaN   \n",
       "2032432    4.311428  3150676.0        NaN  1.579158e+09         NaN   \n",
       "2032433    4.311527  3150677.0        NaN  1.579101e+09         NaN   \n",
       "2032434    4.311625  3150679.0        NaN  1.579044e+09         NaN   \n",
       "2032435    4.311705  3150681.0        NaN  1.578987e+09         NaN   \n",
       "\n",
       "                  QGL  class WELL_No  \n",
       "0        0.000000e+00    0.0   00001  \n",
       "1        0.000000e+00    0.0   00001  \n",
       "2        0.000000e+00    0.0   00001  \n",
       "3        0.000000e+00    0.0   00001  \n",
       "4        0.000000e+00    0.0   00001  \n",
       "...               ...    ...     ...  \n",
       "2032431  1.157562e-09    8.0   00021  \n",
       "2032432  1.157520e-09    8.0   00021  \n",
       "2032433  1.157479e-09    8.0   00021  \n",
       "2032434  1.157438e-09    8.0   00021  \n",
       "2032435  1.157397e-09    8.0   00021  \n",
       "\n",
       "[2032436 rows x 12 columns]"
      ]
     },
     "execution_count": 11,
     "metadata": {},
     "output_type": "execute_result"
    }
   ],
   "source": [
    "df.head(-5)"
   ]
  },
  {
   "cell_type": "code",
   "execution_count": 12,
   "metadata": {},
   "outputs": [
    {
     "data": {
      "text/plain": [
       "array(['0.0', 'nan', '101.0', '1.0', '107.0', '7.0', '4.0', '102.0',\n",
       "       '2.0', '106.0', '6.0', '3.0', '105.0', '5.0', '108.0', '8.0'],\n",
       "      dtype='<U32')"
      ]
     },
     "execution_count": 12,
     "metadata": {},
     "output_type": "execute_result"
    }
   ],
   "source": [
    "class_type = df['class'].value_counts()\n",
    "\n",
    "#class_type\n",
    "type(df['class'].unique())\n",
    "\n",
    "int_class = df['class'].unique().astype(str)\n",
    "int_class"
   ]
  },
  {
   "cell_type": "code",
   "execution_count": 13,
   "metadata": {},
   "outputs": [],
   "source": [
    "#class_type.plot(kind='box')"
   ]
  },
  {
   "cell_type": "code",
   "execution_count": 14,
   "metadata": {},
   "outputs": [
    {
     "data": {
      "text/plain": [
       "Text(0, 0.5, 'count')"
      ]
     },
     "execution_count": 14,
     "metadata": {},
     "output_type": "execute_result"
    },
    {
     "data": {
      "image/png": "[encoded data removed]",
      "text/plain": [
       "<Figure size 432x288 with 1 Axes>"
      ]
     },
     "metadata": {
      "needs_background": "light"
     },
     "output_type": "display_data"
    }
   ],
   "source": [
    "df['class'].value_counts().plot(kind='bar', title = 'clASS TYPE')\n",
    "plt.xlabel('class', fontsize=10);\n",
    "plt.ylabel('count', fontsize=10)"
   ]
  },
  {
   "cell_type": "code",
   "execution_count": 15,
   "metadata": {},
   "outputs": [],
   "source": [
    "class_0 = df.loc[df['class'] == 0.0 ]\n",
    "class_1 = df.loc[df['class'] == 1.0 ]\n",
    "class_2 = df.loc[df['class'] == 2.0 ]\n",
    "class_3= df.loc[df['class'] == 3.0 ]\n",
    "class_4 = df.loc[df['class'] == 4.0 ]\n",
    "class_5 = df.loc[df['class'] == 5.0 ]\n",
    "class_6 = df.loc[df['class'] == 6.0 ]\n",
    "class_7 = df.loc[df['class'] == 7.0 ]\n",
    "class_8 = df.loc[df['class'] == 8.0 ]\n",
    "class_101 = df.loc[df['class'] == 101.0 ]\n",
    "class_102 = df.loc[df['class'] == 102.0 ]\n",
    "class_105 = df.loc[df['class'] == 105.0 ]\n",
    "class_106 = df.loc[df['class'] == 106.0 ]\n",
    "class_107 = df.loc[df['class'] == 107.0 ]\n",
    "class_108 = df.loc[df['class'] == 108.0 ]"
   ]
  },
  {
   "cell_type": "code",
   "execution_count": 16,
   "metadata": {},
   "outputs": [
    {
     "data": {
      "text/plain": [
       "(5870, 12)"
      ]
     },
     "execution_count": 16,
     "metadata": {},
     "output_type": "execute_result"
    }
   ],
   "source": [
    "class_1.shape"
   ]
  },
  {
   "cell_type": "code",
   "execution_count": 17,
   "metadata": {},
   "outputs": [],
   "source": [
    "import seaborn as sns\n",
    "sns.set(style=\"ticks\", color_codes=True)"
   ]
  },
  {
   "cell_type": "code",
   "execution_count": 18,
   "metadata": {},
   "outputs": [
    {
     "data": {
      "text/html": [
       "<div>\n",
       "<style scoped>\n",
       "    .dataframe tbody tr th:only-of-type {\n",
       "        vertical-align: middle;\n",
       "    }\n",
       "\n",
       "    .dataframe tbody tr th {\n",
       "        vertical-align: top;\n",
       "    }\n",
       "\n",
       "    .dataframe thead th {\n",
       "        text-align: right;\n",
       "    }\n",
       "</style>\n",
       "<table border=\"1\" class=\"dataframe\">\n",
       "  <thead>\n",
       "    <tr style=\"text-align: right;\">\n",
       "      <th></th>\n",
       "      <th>Unnamed: 0</th>\n",
       "      <th>P-PDG</th>\n",
       "      <th>P-TPT</th>\n",
       "      <th>T-TPT</th>\n",
       "      <th>P-MON-CKP</th>\n",
       "      <th>T-JUS-CKP</th>\n",
       "      <th>P-JUS-CKGL</th>\n",
       "      <th>T-JUS-CKGL</th>\n",
       "      <th>QGL</th>\n",
       "      <th>class</th>\n",
       "    </tr>\n",
       "  </thead>\n",
       "  <tbody>\n",
       "    <tr>\n",
       "      <th>Unnamed: 0</th>\n",
       "      <td>1.000000</td>\n",
       "      <td>0.964228</td>\n",
       "      <td>0.619611</td>\n",
       "      <td>0.411786</td>\n",
       "      <td>-0.656208</td>\n",
       "      <td>-0.522639</td>\n",
       "      <td>-0.310027</td>\n",
       "      <td>NaN</td>\n",
       "      <td>NaN</td>\n",
       "      <td>NaN</td>\n",
       "    </tr>\n",
       "    <tr>\n",
       "      <th>P-PDG</th>\n",
       "      <td>0.964228</td>\n",
       "      <td>1.000000</td>\n",
       "      <td>0.566359</td>\n",
       "      <td>0.483116</td>\n",
       "      <td>-0.709814</td>\n",
       "      <td>-0.463029</td>\n",
       "      <td>-0.241823</td>\n",
       "      <td>NaN</td>\n",
       "      <td>NaN</td>\n",
       "      <td>NaN</td>\n",
       "    </tr>\n",
       "    <tr>\n",
       "      <th>P-TPT</th>\n",
       "      <td>0.619611</td>\n",
       "      <td>0.566359</td>\n",
       "      <td>1.000000</td>\n",
       "      <td>-0.398278</td>\n",
       "      <td>0.115648</td>\n",
       "      <td>-0.991941</td>\n",
       "      <td>-0.930655</td>\n",
       "      <td>NaN</td>\n",
       "      <td>NaN</td>\n",
       "      <td>NaN</td>\n",
       "    </tr>\n",
       "    <tr>\n",
       "      <th>T-TPT</th>\n",
       "      <td>0.411786</td>\n",
       "      <td>0.483116</td>\n",
       "      <td>-0.398278</td>\n",
       "      <td>1.000000</td>\n",
       "      <td>-0.955714</td>\n",
       "      <td>0.511006</td>\n",
       "      <td>0.705901</td>\n",
       "      <td>NaN</td>\n",
       "      <td>NaN</td>\n",
       "      <td>NaN</td>\n",
       "    </tr>\n",
       "    <tr>\n",
       "      <th>P-MON-CKP</th>\n",
       "      <td>-0.656208</td>\n",
       "      <td>-0.709814</td>\n",
       "      <td>0.115648</td>\n",
       "      <td>-0.955714</td>\n",
       "      <td>1.000000</td>\n",
       "      <td>-0.240325</td>\n",
       "      <td>-0.470906</td>\n",
       "      <td>NaN</td>\n",
       "      <td>NaN</td>\n",
       "      <td>NaN</td>\n",
       "    </tr>\n",
       "    <tr>\n",
       "      <th>T-JUS-CKP</th>\n",
       "      <td>-0.522639</td>\n",
       "      <td>-0.463029</td>\n",
       "      <td>-0.991941</td>\n",
       "      <td>0.511006</td>\n",
       "      <td>-0.240325</td>\n",
       "      <td>1.000000</td>\n",
       "      <td>0.969484</td>\n",
       "      <td>NaN</td>\n",
       "      <td>NaN</td>\n",
       "      <td>NaN</td>\n",
       "    </tr>\n",
       "    <tr>\n",
       "      <th>P-JUS-CKGL</th>\n",
       "      <td>-0.310027</td>\n",
       "      <td>-0.241823</td>\n",
       "      <td>-0.930655</td>\n",
       "      <td>0.705901</td>\n",
       "      <td>-0.470906</td>\n",
       "      <td>0.969484</td>\n",
       "      <td>1.000000</td>\n",
       "      <td>NaN</td>\n",
       "      <td>NaN</td>\n",
       "      <td>NaN</td>\n",
       "    </tr>\n",
       "    <tr>\n",
       "      <th>T-JUS-CKGL</th>\n",
       "      <td>NaN</td>\n",
       "      <td>NaN</td>\n",
       "      <td>NaN</td>\n",
       "      <td>NaN</td>\n",
       "      <td>NaN</td>\n",
       "      <td>NaN</td>\n",
       "      <td>NaN</td>\n",
       "      <td>NaN</td>\n",
       "      <td>NaN</td>\n",
       "      <td>NaN</td>\n",
       "    </tr>\n",
       "    <tr>\n",
       "      <th>QGL</th>\n",
       "      <td>NaN</td>\n",
       "      <td>NaN</td>\n",
       "      <td>NaN</td>\n",
       "      <td>NaN</td>\n",
       "      <td>NaN</td>\n",
       "      <td>NaN</td>\n",
       "      <td>NaN</td>\n",
       "      <td>NaN</td>\n",
       "      <td>NaN</td>\n",
       "      <td>NaN</td>\n",
       "    </tr>\n",
       "    <tr>\n",
       "      <th>class</th>\n",
       "      <td>NaN</td>\n",
       "      <td>NaN</td>\n",
       "      <td>NaN</td>\n",
       "      <td>NaN</td>\n",
       "      <td>NaN</td>\n",
       "      <td>NaN</td>\n",
       "      <td>NaN</td>\n",
       "      <td>NaN</td>\n",
       "      <td>NaN</td>\n",
       "      <td>NaN</td>\n",
       "    </tr>\n",
       "  </tbody>\n",
       "</table>\n",
       "</div>"
      ],
      "text/plain": [
       "            Unnamed: 0     P-PDG     P-TPT     T-TPT  P-MON-CKP  T-JUS-CKP  \\\n",
       "Unnamed: 0    1.000000  0.964228  0.619611  0.411786  -0.656208  -0.522639   \n",
       "P-PDG         0.964228  1.000000  0.566359  0.483116  -0.709814  -0.463029   \n",
       "P-TPT         0.619611  0.566359  1.000000 -0.398278   0.115648  -0.991941   \n",
       "T-TPT         0.411786  0.483116 -0.398278  1.000000  -0.955714   0.511006   \n",
       "P-MON-CKP    -0.656208 -0.709814  0.115648 -0.955714   1.000000  -0.240325   \n",
       "T-JUS-CKP    -0.522639 -0.463029 -0.991941  0.511006  -0.240325   1.000000   \n",
       "P-JUS-CKGL   -0.310027 -0.241823 -0.930655  0.705901  -0.470906   0.969484   \n",
       "T-JUS-CKGL         NaN       NaN       NaN       NaN        NaN        NaN   \n",
       "QGL                NaN       NaN       NaN       NaN        NaN        NaN   \n",
       "class              NaN       NaN       NaN       NaN        NaN        NaN   \n",
       "\n",
       "            P-JUS-CKGL  T-JUS-CKGL  QGL  class  \n",
       "Unnamed: 0   -0.310027         NaN  NaN    NaN  \n",
       "P-PDG        -0.241823         NaN  NaN    NaN  \n",
       "P-TPT        -0.930655         NaN  NaN    NaN  \n",
       "T-TPT         0.705901         NaN  NaN    NaN  \n",
       "P-MON-CKP    -0.470906         NaN  NaN    NaN  \n",
       "T-JUS-CKP     0.969484         NaN  NaN    NaN  \n",
       "P-JUS-CKGL    1.000000         NaN  NaN    NaN  \n",
       "T-JUS-CKGL         NaN         NaN  NaN    NaN  \n",
       "QGL                NaN         NaN  NaN    NaN  \n",
       "class              NaN         NaN  NaN    NaN  "
      ]
     },
     "execution_count": 18,
     "metadata": {},
     "output_type": "execute_result"
    }
   ],
   "source": [
    "class_1.corr()"
   ]
  },
  {
   "cell_type": "code",
   "execution_count": 19,
   "metadata": {},
   "outputs": [
    {
     "data": {
      "text/plain": [
       "0          2014-01-24 21:31:36.000000\n",
       "1          2014-01-24 21:31:37.000000\n",
       "2          2014-01-24 21:31:38.000000\n",
       "3          2014-01-24 21:31:39.000000\n",
       "4          2014-01-24 21:31:40.000000\n",
       "                      ...            \n",
       "2032436    2017-05-09 08:18:36.000000\n",
       "2032437    2017-05-09 08:18:37.000000\n",
       "2032438    2017-05-09 08:18:38.000000\n",
       "2032439    2017-05-09 08:18:39.000000\n",
       "2032440    2017-05-09 08:18:40.000000\n",
       "Name: timestamp, Length: 2032441, dtype: object"
      ]
     },
     "execution_count": 19,
     "metadata": {},
     "output_type": "execute_result"
    }
   ],
   "source": [
    "df['timestamp']"
   ]
  },
  {
   "cell_type": "code",
   "execution_count": 20,
   "metadata": {},
   "outputs": [],
   "source": [
    "#converting timestamp to datetime\n",
    "datetime = pd.to_datetime(df['timestamp']).apply(lambda x: x.date())"
   ]
  },
  {
   "cell_type": "code",
   "execution_count": 21,
   "metadata": {},
   "outputs": [
    {
     "name": "stderr",
     "output_type": "stream",
     "text": [
      "<ipython-input-21-47484934c311>:1: SettingWithCopyWarning: \n",
      "A value is trying to be set on a copy of a slice from a DataFrame.\n",
      "Try using .loc[row_indexer,col_indexer] = value instead\n",
      "\n",
      "See the caveats in the documentation: https://pandas.pydata.org/pandas-docs/stable/user_guide/indexing.html#returning-a-view-versus-a-copy\n",
      "  class_1['timestamp'] =  pd.to_datetime(class_1['timestamp']).apply(lambda x: x.date())\n",
      "<ipython-input-21-47484934c311>:2: SettingWithCopyWarning: \n",
      "A value is trying to be set on a copy of a slice from a DataFrame.\n",
      "Try using .loc[row_indexer,col_indexer] = value instead\n",
      "\n",
      "See the caveats in the documentation: https://pandas.pydata.org/pandas-docs/stable/user_guide/indexing.html#returning-a-view-versus-a-copy\n",
      "  class_2['timestamp'] =  pd.to_datetime(class_2['timestamp']).apply(lambda x: x.date())\n",
      "<ipython-input-21-47484934c311>:3: SettingWithCopyWarning: \n",
      "A value is trying to be set on a copy of a slice from a DataFrame.\n",
      "Try using .loc[row_indexer,col_indexer] = value instead\n",
      "\n",
      "See the caveats in the documentation: https://pandas.pydata.org/pandas-docs/stable/user_guide/indexing.html#returning-a-view-versus-a-copy\n",
      "  class_3['timestamp'] =  pd.to_datetime(class_3['timestamp']).apply(lambda x: x.date())\n",
      "<ipython-input-21-47484934c311>:4: SettingWithCopyWarning: \n",
      "A value is trying to be set on a copy of a slice from a DataFrame.\n",
      "Try using .loc[row_indexer,col_indexer] = value instead\n",
      "\n",
      "See the caveats in the documentation: https://pandas.pydata.org/pandas-docs/stable/user_guide/indexing.html#returning-a-view-versus-a-copy\n",
      "  class_4['timestamp'] =  pd.to_datetime(class_4['timestamp']).apply(lambda x: x.date())\n",
      "<ipython-input-21-47484934c311>:5: SettingWithCopyWarning: \n",
      "A value is trying to be set on a copy of a slice from a DataFrame.\n",
      "Try using .loc[row_indexer,col_indexer] = value instead\n",
      "\n",
      "See the caveats in the documentation: https://pandas.pydata.org/pandas-docs/stable/user_guide/indexing.html#returning-a-view-versus-a-copy\n",
      "  class_5['timestamp'] =  pd.to_datetime(class_5['timestamp']).apply(lambda x: x.date())\n",
      "<ipython-input-21-47484934c311>:6: SettingWithCopyWarning: \n",
      "A value is trying to be set on a copy of a slice from a DataFrame.\n",
      "Try using .loc[row_indexer,col_indexer] = value instead\n",
      "\n",
      "See the caveats in the documentation: https://pandas.pydata.org/pandas-docs/stable/user_guide/indexing.html#returning-a-view-versus-a-copy\n",
      "  class_6['timestamp'] =  pd.to_datetime(class_6['timestamp']).apply(lambda x: x.date())\n",
      "<ipython-input-21-47484934c311>:7: SettingWithCopyWarning: \n",
      "A value is trying to be set on a copy of a slice from a DataFrame.\n",
      "Try using .loc[row_indexer,col_indexer] = value instead\n",
      "\n",
      "See the caveats in the documentation: https://pandas.pydata.org/pandas-docs/stable/user_guide/indexing.html#returning-a-view-versus-a-copy\n",
      "  class_7['timestamp'] =  pd.to_datetime(class_7['timestamp']).apply(lambda x: x.date())\n",
      "<ipython-input-21-47484934c311>:8: SettingWithCopyWarning: \n",
      "A value is trying to be set on a copy of a slice from a DataFrame.\n",
      "Try using .loc[row_indexer,col_indexer] = value instead\n",
      "\n",
      "See the caveats in the documentation: https://pandas.pydata.org/pandas-docs/stable/user_guide/indexing.html#returning-a-view-versus-a-copy\n",
      "  class_8['timestamp'] =  pd.to_datetime(class_8['timestamp']).apply(lambda x: x.date())\n",
      "<ipython-input-21-47484934c311>:11: SettingWithCopyWarning: \n",
      "A value is trying to be set on a copy of a slice from a DataFrame.\n",
      "Try using .loc[row_indexer,col_indexer] = value instead\n",
      "\n",
      "See the caveats in the documentation: https://pandas.pydata.org/pandas-docs/stable/user_guide/indexing.html#returning-a-view-versus-a-copy\n",
      "  class_0['timestamp'] =  pd.to_datetime(class_0['timestamp']).apply(lambda x: x.date())\n",
      "<ipython-input-21-47484934c311>:12: SettingWithCopyWarning: \n",
      "A value is trying to be set on a copy of a slice from a DataFrame.\n",
      "Try using .loc[row_indexer,col_indexer] = value instead\n",
      "\n",
      "See the caveats in the documentation: https://pandas.pydata.org/pandas-docs/stable/user_guide/indexing.html#returning-a-view-versus-a-copy\n",
      "  class_101['timestamp'] =  pd.to_datetime(class_101['timestamp']).apply(lambda x: x.date())\n",
      "<ipython-input-21-47484934c311>:13: SettingWithCopyWarning: \n",
      "A value is trying to be set on a copy of a slice from a DataFrame.\n",
      "Try using .loc[row_indexer,col_indexer] = value instead\n",
      "\n",
      "See the caveats in the documentation: https://pandas.pydata.org/pandas-docs/stable/user_guide/indexing.html#returning-a-view-versus-a-copy\n",
      "  class_102['timestamp'] =  pd.to_datetime(class_102['timestamp']).apply(lambda x: x.date())\n",
      "<ipython-input-21-47484934c311>:14: SettingWithCopyWarning: \n",
      "A value is trying to be set on a copy of a slice from a DataFrame.\n",
      "Try using .loc[row_indexer,col_indexer] = value instead\n",
      "\n",
      "See the caveats in the documentation: https://pandas.pydata.org/pandas-docs/stable/user_guide/indexing.html#returning-a-view-versus-a-copy\n",
      "  class_105['timestamp'] =  pd.to_datetime(class_105['timestamp']).apply(lambda x: x.date())\n",
      "<ipython-input-21-47484934c311>:15: SettingWithCopyWarning: \n",
      "A value is trying to be set on a copy of a slice from a DataFrame.\n",
      "Try using .loc[row_indexer,col_indexer] = value instead\n",
      "\n",
      "See the caveats in the documentation: https://pandas.pydata.org/pandas-docs/stable/user_guide/indexing.html#returning-a-view-versus-a-copy\n",
      "  class_106['timestamp'] =  pd.to_datetime(class_106['timestamp']).apply(lambda x: x.date())\n",
      "<ipython-input-21-47484934c311>:16: SettingWithCopyWarning: \n",
      "A value is trying to be set on a copy of a slice from a DataFrame.\n",
      "Try using .loc[row_indexer,col_indexer] = value instead\n",
      "\n",
      "See the caveats in the documentation: https://pandas.pydata.org/pandas-docs/stable/user_guide/indexing.html#returning-a-view-versus-a-copy\n",
      "  class_107['timestamp'] =  pd.to_datetime(class_107['timestamp']).apply(lambda x: x.date())\n",
      "<ipython-input-21-47484934c311>:17: SettingWithCopyWarning: \n",
      "A value is trying to be set on a copy of a slice from a DataFrame.\n",
      "Try using .loc[row_indexer,col_indexer] = value instead\n",
      "\n",
      "See the caveats in the documentation: https://pandas.pydata.org/pandas-docs/stable/user_guide/indexing.html#returning-a-view-versus-a-copy\n",
      "  class_108['timestamp'] =  pd.to_datetime(class_108['timestamp']).apply(lambda x: x.date())\n"
     ]
    }
   ],
   "source": [
    "class_1['timestamp'] =  pd.to_datetime(class_1['timestamp']).apply(lambda x: x.date())\n",
    "class_2['timestamp'] =  pd.to_datetime(class_2['timestamp']).apply(lambda x: x.date())\n",
    "class_3['timestamp'] =  pd.to_datetime(class_3['timestamp']).apply(lambda x: x.date())\n",
    "class_4['timestamp'] =  pd.to_datetime(class_4['timestamp']).apply(lambda x: x.date())\n",
    "class_5['timestamp'] =  pd.to_datetime(class_5['timestamp']).apply(lambda x: x.date())\n",
    "class_6['timestamp'] =  pd.to_datetime(class_6['timestamp']).apply(lambda x: x.date())\n",
    "class_7['timestamp'] =  pd.to_datetime(class_7['timestamp']).apply(lambda x: x.date())\n",
    "class_8['timestamp'] =  pd.to_datetime(class_8['timestamp']).apply(lambda x: x.date())\n",
    "\n",
    "\n",
    "class_0['timestamp'] =  pd.to_datetime(class_0['timestamp']).apply(lambda x: x.date())\n",
    "class_101['timestamp'] =  pd.to_datetime(class_101['timestamp']).apply(lambda x: x.date())\n",
    "class_102['timestamp'] =  pd.to_datetime(class_102['timestamp']).apply(lambda x: x.date())\n",
    "class_105['timestamp'] =  pd.to_datetime(class_105['timestamp']).apply(lambda x: x.date())\n",
    "class_106['timestamp'] =  pd.to_datetime(class_106['timestamp']).apply(lambda x: x.date())\n",
    "class_107['timestamp'] =  pd.to_datetime(class_107['timestamp']).apply(lambda x: x.date())\n",
    "class_108['timestamp'] =  pd.to_datetime(class_108['timestamp']).apply(lambda x: x.date())"
   ]
  },
  {
   "cell_type": "code",
   "execution_count": 22,
   "metadata": {},
   "outputs": [],
   "source": [
    "class_0 = class_0.drop(columns=\"Unnamed: 0\")\n",
    "\n",
    "\n",
    "class_1 = class_1.drop(columns=\"Unnamed: 0\")\n",
    "class_2 = class_2.drop(columns=\"Unnamed: 0\")\n",
    "class_3 = class_3.drop(columns=\"Unnamed: 0\")\n",
    "class_4 = class_4.drop(columns=\"Unnamed: 0\")\n",
    "class_5 = class_5.drop(columns=\"Unnamed: 0\")\n",
    "class_6 = class_6.drop(columns=\"Unnamed: 0\")\n",
    "class_7 = class_7.drop(columns=\"Unnamed: 0\")\n",
    "class_8 = class_8.drop(columns=\"Unnamed: 0\")\n",
    "\n",
    "class_101 = class_101.drop(columns=\"Unnamed: 0\")\n",
    "class_102 = class_102.drop(columns=\"Unnamed: 0\")\n",
    "class_105 = class_105.drop(columns=\"Unnamed: 0\")\n",
    "class_106 = class_106.drop(columns=\"Unnamed: 0\")\n",
    "class_107 = class_107.drop(columns=\"Unnamed: 0\")\n",
    "class_108 = class_108.drop(columns=\"Unnamed: 0\")"
   ]
  },
  {
   "cell_type": "code",
   "execution_count": 23,
   "metadata": {},
   "outputs": [
    {
     "data": {
      "text/html": [
       "<div>\n",
       "<style scoped>\n",
       "    .dataframe tbody tr th:only-of-type {\n",
       "        vertical-align: middle;\n",
       "    }\n",
       "\n",
       "    .dataframe tbody tr th {\n",
       "        vertical-align: top;\n",
       "    }\n",
       "\n",
       "    .dataframe thead th {\n",
       "        text-align: right;\n",
       "    }\n",
       "</style>\n",
       "<table border=\"1\" class=\"dataframe\">\n",
       "  <thead>\n",
       "    <tr style=\"text-align: right;\">\n",
       "      <th></th>\n",
       "      <th>timestamp</th>\n",
       "      <th>P-PDG</th>\n",
       "      <th>P-TPT</th>\n",
       "      <th>T-TPT</th>\n",
       "      <th>P-MON-CKP</th>\n",
       "      <th>T-JUS-CKP</th>\n",
       "      <th>P-JUS-CKGL</th>\n",
       "      <th>T-JUS-CKGL</th>\n",
       "      <th>QGL</th>\n",
       "      <th>class</th>\n",
       "      <th>WELL_No</th>\n",
       "    </tr>\n",
       "  </thead>\n",
       "  <tbody>\n",
       "    <tr>\n",
       "      <th>1016</th>\n",
       "      <td>2014-01-24</td>\n",
       "      <td>0.000000e+00</td>\n",
       "      <td>18428820.0</td>\n",
       "      <td>116.9109</td>\n",
       "      <td>9265374.0</td>\n",
       "      <td>75.40653</td>\n",
       "      <td>-300917.8</td>\n",
       "      <td>NaN</td>\n",
       "      <td>0.0</td>\n",
       "      <td>101.0</td>\n",
       "      <td>00001</td>\n",
       "    </tr>\n",
       "    <tr>\n",
       "      <th>1017</th>\n",
       "      <td>2014-01-24</td>\n",
       "      <td>0.000000e+00</td>\n",
       "      <td>18428620.0</td>\n",
       "      <td>116.9109</td>\n",
       "      <td>9261805.0</td>\n",
       "      <td>75.40659</td>\n",
       "      <td>-300917.8</td>\n",
       "      <td>NaN</td>\n",
       "      <td>0.0</td>\n",
       "      <td>101.0</td>\n",
       "      <td>00001</td>\n",
       "    </tr>\n",
       "    <tr>\n",
       "      <th>1018</th>\n",
       "      <td>2014-01-24</td>\n",
       "      <td>0.000000e+00</td>\n",
       "      <td>18428420.0</td>\n",
       "      <td>116.9109</td>\n",
       "      <td>9258237.0</td>\n",
       "      <td>75.40665</td>\n",
       "      <td>-300917.8</td>\n",
       "      <td>NaN</td>\n",
       "      <td>0.0</td>\n",
       "      <td>101.0</td>\n",
       "      <td>00001</td>\n",
       "    </tr>\n",
       "    <tr>\n",
       "      <th>1019</th>\n",
       "      <td>2014-01-24</td>\n",
       "      <td>0.000000e+00</td>\n",
       "      <td>18428220.0</td>\n",
       "      <td>116.9109</td>\n",
       "      <td>9254668.0</td>\n",
       "      <td>75.40670</td>\n",
       "      <td>-300917.8</td>\n",
       "      <td>NaN</td>\n",
       "      <td>0.0</td>\n",
       "      <td>101.0</td>\n",
       "      <td>00001</td>\n",
       "    </tr>\n",
       "    <tr>\n",
       "      <th>1020</th>\n",
       "      <td>2014-01-24</td>\n",
       "      <td>0.000000e+00</td>\n",
       "      <td>18428020.0</td>\n",
       "      <td>116.9109</td>\n",
       "      <td>9251099.0</td>\n",
       "      <td>75.40676</td>\n",
       "      <td>-300917.8</td>\n",
       "      <td>NaN</td>\n",
       "      <td>0.0</td>\n",
       "      <td>101.0</td>\n",
       "      <td>00001</td>\n",
       "    </tr>\n",
       "    <tr>\n",
       "      <th>...</th>\n",
       "      <td>...</td>\n",
       "      <td>...</td>\n",
       "      <td>...</td>\n",
       "      <td>...</td>\n",
       "      <td>...</td>\n",
       "      <td>...</td>\n",
       "      <td>...</td>\n",
       "      <td>...</td>\n",
       "      <td>...</td>\n",
       "      <td>...</td>\n",
       "      <td>...</td>\n",
       "    </tr>\n",
       "    <tr>\n",
       "      <th>605240</th>\n",
       "      <td>2018-06-18</td>\n",
       "      <td>-1.180116e+42</td>\n",
       "      <td>20619450.0</td>\n",
       "      <td>118.2390</td>\n",
       "      <td>9992133.0</td>\n",
       "      <td>71.26657</td>\n",
       "      <td>4108511.0</td>\n",
       "      <td>NaN</td>\n",
       "      <td>0.0</td>\n",
       "      <td>101.0</td>\n",
       "      <td>00006</td>\n",
       "    </tr>\n",
       "    <tr>\n",
       "      <th>605241</th>\n",
       "      <td>2018-06-18</td>\n",
       "      <td>-1.180116e+42</td>\n",
       "      <td>20619480.0</td>\n",
       "      <td>118.2390</td>\n",
       "      <td>9992676.0</td>\n",
       "      <td>71.26487</td>\n",
       "      <td>4108512.0</td>\n",
       "      <td>NaN</td>\n",
       "      <td>0.0</td>\n",
       "      <td>101.0</td>\n",
       "      <td>00006</td>\n",
       "    </tr>\n",
       "    <tr>\n",
       "      <th>605242</th>\n",
       "      <td>2018-06-18</td>\n",
       "      <td>-1.180116e+42</td>\n",
       "      <td>20619520.0</td>\n",
       "      <td>118.2390</td>\n",
       "      <td>9993218.0</td>\n",
       "      <td>71.26317</td>\n",
       "      <td>4108512.0</td>\n",
       "      <td>NaN</td>\n",
       "      <td>0.0</td>\n",
       "      <td>101.0</td>\n",
       "      <td>00006</td>\n",
       "    </tr>\n",
       "    <tr>\n",
       "      <th>605243</th>\n",
       "      <td>2018-06-18</td>\n",
       "      <td>-1.180116e+42</td>\n",
       "      <td>20619550.0</td>\n",
       "      <td>118.2390</td>\n",
       "      <td>9993761.0</td>\n",
       "      <td>71.26147</td>\n",
       "      <td>4108512.0</td>\n",
       "      <td>NaN</td>\n",
       "      <td>0.0</td>\n",
       "      <td>101.0</td>\n",
       "      <td>00006</td>\n",
       "    </tr>\n",
       "    <tr>\n",
       "      <th>605244</th>\n",
       "      <td>2018-06-18</td>\n",
       "      <td>-1.180116e+42</td>\n",
       "      <td>20619590.0</td>\n",
       "      <td>118.2390</td>\n",
       "      <td>9994304.0</td>\n",
       "      <td>71.25977</td>\n",
       "      <td>4108513.0</td>\n",
       "      <td>NaN</td>\n",
       "      <td>0.0</td>\n",
       "      <td>101.0</td>\n",
       "      <td>00006</td>\n",
       "    </tr>\n",
       "  </tbody>\n",
       "</table>\n",
       "<p>77814 rows × 11 columns</p>\n",
       "</div>"
      ],
      "text/plain": [
       "         timestamp         P-PDG       P-TPT     T-TPT  P-MON-CKP  T-JUS-CKP  \\\n",
       "1016    2014-01-24  0.000000e+00  18428820.0  116.9109  9265374.0   75.40653   \n",
       "1017    2014-01-24  0.000000e+00  18428620.0  116.9109  9261805.0   75.40659   \n",
       "1018    2014-01-24  0.000000e+00  18428420.0  116.9109  9258237.0   75.40665   \n",
       "1019    2014-01-24  0.000000e+00  18428220.0  116.9109  9254668.0   75.40670   \n",
       "1020    2014-01-24  0.000000e+00  18428020.0  116.9109  9251099.0   75.40676   \n",
       "...            ...           ...         ...       ...        ...        ...   \n",
       "605240  2018-06-18 -1.180116e+42  20619450.0  118.2390  9992133.0   71.26657   \n",
       "605241  2018-06-18 -1.180116e+42  20619480.0  118.2390  9992676.0   71.26487   \n",
       "605242  2018-06-18 -1.180116e+42  20619520.0  118.2390  9993218.0   71.26317   \n",
       "605243  2018-06-18 -1.180116e+42  20619550.0  118.2390  9993761.0   71.26147   \n",
       "605244  2018-06-18 -1.180116e+42  20619590.0  118.2390  9994304.0   71.25977   \n",
       "\n",
       "        P-JUS-CKGL  T-JUS-CKGL  QGL  class WELL_No  \n",
       "1016     -300917.8         NaN  0.0  101.0   00001  \n",
       "1017     -300917.8         NaN  0.0  101.0   00001  \n",
       "1018     -300917.8         NaN  0.0  101.0   00001  \n",
       "1019     -300917.8         NaN  0.0  101.0   00001  \n",
       "1020     -300917.8         NaN  0.0  101.0   00001  \n",
       "...            ...         ...  ...    ...     ...  \n",
       "605240   4108511.0         NaN  0.0  101.0   00006  \n",
       "605241   4108512.0         NaN  0.0  101.0   00006  \n",
       "605242   4108512.0         NaN  0.0  101.0   00006  \n",
       "605243   4108512.0         NaN  0.0  101.0   00006  \n",
       "605244   4108513.0         NaN  0.0  101.0   00006  \n",
       "\n",
       "[77814 rows x 11 columns]"
      ]
     },
     "execution_count": 23,
     "metadata": {},
     "output_type": "execute_result"
    }
   ],
   "source": [
    "class_101"
   ]
  },
  {
   "cell_type": "code",
   "execution_count": 24,
   "metadata": {},
   "outputs": [],
   "source": [
    "#class_1 = class_1.drop(columns=\"P-JUS-CKGL\")"
   ]
  },
  {
   "cell_type": "code",
   "execution_count": 25,
   "metadata": {},
   "outputs": [],
   "source": [
    "#class_3.head(2)"
   ]
  },
  {
   "cell_type": "code",
   "execution_count": 26,
   "metadata": {},
   "outputs": [],
   "source": [
    "final_class = class_1.append(class_2).append(class_3).append(class_4).append(class_5).append(class_6). \\\n",
    "              append(class_7).append(class_8)"
   ]
  },
  {
   "cell_type": "code",
   "execution_count": 27,
   "metadata": {},
   "outputs": [
    {
     "data": {
      "text/plain": [
       "dtype('int64')"
      ]
     },
     "execution_count": 27,
     "metadata": {},
     "output_type": "execute_result"
    }
   ],
   "source": [
    "final_class['year'] = pd.DatetimeIndex(final_class['timestamp']).year\n",
    "final_class['class'] = final_class['class'].astype('int64')\n",
    "final_class['class'].dtype"
   ]
  },
  {
   "cell_type": "markdown",
   "metadata": {},
   "source": [
    "# EDA"
   ]
  },
  {
   "cell_type": "code",
   "execution_count": 28,
   "metadata": {},
   "outputs": [
    {
     "data": {
      "text/html": [
       "<div>\n",
       "<style scoped>\n",
       "    .dataframe tbody tr th:only-of-type {\n",
       "        vertical-align: middle;\n",
       "    }\n",
       "\n",
       "    .dataframe tbody tr th {\n",
       "        vertical-align: top;\n",
       "    }\n",
       "\n",
       "    .dataframe thead th {\n",
       "        text-align: right;\n",
       "    }\n",
       "</style>\n",
       "<table border=\"1\" class=\"dataframe\">\n",
       "  <thead>\n",
       "    <tr style=\"text-align: right;\">\n",
       "      <th></th>\n",
       "      <th>P-PDG</th>\n",
       "      <th>P-TPT</th>\n",
       "      <th>T-TPT</th>\n",
       "      <th>P-MON-CKP</th>\n",
       "      <th>T-JUS-CKP</th>\n",
       "      <th>P-JUS-CKGL</th>\n",
       "      <th>T-JUS-CKGL</th>\n",
       "      <th>QGL</th>\n",
       "      <th>class</th>\n",
       "      <th>year</th>\n",
       "    </tr>\n",
       "  </thead>\n",
       "  <tbody>\n",
       "    <tr>\n",
       "      <th>count</th>\n",
       "      <td>7.969090e+05</td>\n",
       "      <td>7.969090e+05</td>\n",
       "      <td>796909.000000</td>\n",
       "      <td>7.832530e+05</td>\n",
       "      <td>779570.000000</td>\n",
       "      <td>7.809730e+05</td>\n",
       "      <td>0.0</td>\n",
       "      <td>781935.000000</td>\n",
       "      <td>797490.000000</td>\n",
       "      <td>797490.000000</td>\n",
       "    </tr>\n",
       "    <tr>\n",
       "      <th>mean</th>\n",
       "      <td>2.406340e+07</td>\n",
       "      <td>1.825469e+07</td>\n",
       "      <td>70.136117</td>\n",
       "      <td>3.429392e+06</td>\n",
       "      <td>48.456592</td>\n",
       "      <td>2.066310e+07</td>\n",
       "      <td>NaN</td>\n",
       "      <td>0.877096</td>\n",
       "      <td>3.352898</td>\n",
       "      <td>2016.672492</td>\n",
       "    </tr>\n",
       "    <tr>\n",
       "      <th>std</th>\n",
       "      <td>1.136296e+08</td>\n",
       "      <td>7.997818e+07</td>\n",
       "      <td>33.480844</td>\n",
       "      <td>2.218725e+06</td>\n",
       "      <td>36.347336</td>\n",
       "      <td>1.046656e+08</td>\n",
       "      <td>NaN</td>\n",
       "      <td>0.681865</td>\n",
       "      <td>0.722607</td>\n",
       "      <td>1.071336</td>\n",
       "    </tr>\n",
       "    <tr>\n",
       "      <th>min</th>\n",
       "      <td>-5.068086e+06</td>\n",
       "      <td>0.000000e+00</td>\n",
       "      <td>0.000000</td>\n",
       "      <td>-8.317492e+03</td>\n",
       "      <td>-2.020000</td>\n",
       "      <td>-3.009178e+05</td>\n",
       "      <td>NaN</td>\n",
       "      <td>0.000000</td>\n",
       "      <td>1.000000</td>\n",
       "      <td>2012.000000</td>\n",
       "    </tr>\n",
       "    <tr>\n",
       "      <th>25%</th>\n",
       "      <td>0.000000e+00</td>\n",
       "      <td>1.395115e+07</td>\n",
       "      <td>47.392800</td>\n",
       "      <td>1.390447e+06</td>\n",
       "      <td>28.503850</td>\n",
       "      <td>3.890555e+06</td>\n",
       "      <td>NaN</td>\n",
       "      <td>0.000000</td>\n",
       "      <td>3.000000</td>\n",
       "      <td>2017.000000</td>\n",
       "    </tr>\n",
       "    <tr>\n",
       "      <th>50%</th>\n",
       "      <td>2.394543e+07</td>\n",
       "      <td>1.447060e+07</td>\n",
       "      <td>55.823830</td>\n",
       "      <td>2.382491e+06</td>\n",
       "      <td>32.202780</td>\n",
       "      <td>1.941998e+07</td>\n",
       "      <td>NaN</td>\n",
       "      <td>1.141351</td>\n",
       "      <td>3.000000</td>\n",
       "      <td>2017.000000</td>\n",
       "    </tr>\n",
       "    <tr>\n",
       "      <th>75%</th>\n",
       "      <td>2.437595e+07</td>\n",
       "      <td>1.578415e+07</td>\n",
       "      <td>116.753300</td>\n",
       "      <td>5.995457e+06</td>\n",
       "      <td>68.654880</td>\n",
       "      <td>1.967319e+07</td>\n",
       "      <td>NaN</td>\n",
       "      <td>1.434921</td>\n",
       "      <td>4.000000</td>\n",
       "      <td>2017.000000</td>\n",
       "    </tr>\n",
       "    <tr>\n",
       "      <th>max</th>\n",
       "      <td>3.100656e+09</td>\n",
       "      <td>1.978446e+09</td>\n",
       "      <td>119.410800</td>\n",
       "      <td>9.034984e+06</td>\n",
       "      <td>173.096100</td>\n",
       "      <td>1.829582e+09</td>\n",
       "      <td>NaN</td>\n",
       "      <td>2.623792</td>\n",
       "      <td>8.000000</td>\n",
       "      <td>2018.000000</td>\n",
       "    </tr>\n",
       "  </tbody>\n",
       "</table>\n",
       "</div>"
      ],
      "text/plain": [
       "              P-PDG         P-TPT          T-TPT     P-MON-CKP      T-JUS-CKP  \\\n",
       "count  7.969090e+05  7.969090e+05  796909.000000  7.832530e+05  779570.000000   \n",
       "mean   2.406340e+07  1.825469e+07      70.136117  3.429392e+06      48.456592   \n",
       "std    1.136296e+08  7.997818e+07      33.480844  2.218725e+06      36.347336   \n",
       "min   -5.068086e+06  0.000000e+00       0.000000 -8.317492e+03      -2.020000   \n",
       "25%    0.000000e+00  1.395115e+07      47.392800  1.390447e+06      28.503850   \n",
       "50%    2.394543e+07  1.447060e+07      55.823830  2.382491e+06      32.202780   \n",
       "75%    2.437595e+07  1.578415e+07     116.753300  5.995457e+06      68.654880   \n",
       "max    3.100656e+09  1.978446e+09     119.410800  9.034984e+06     173.096100   \n",
       "\n",
       "         P-JUS-CKGL  T-JUS-CKGL            QGL          class           year  \n",
       "count  7.809730e+05         0.0  781935.000000  797490.000000  797490.000000  \n",
       "mean   2.066310e+07         NaN       0.877096       3.352898    2016.672492  \n",
       "std    1.046656e+08         NaN       0.681865       0.722607       1.071336  \n",
       "min   -3.009178e+05         NaN       0.000000       1.000000    2012.000000  \n",
       "25%    3.890555e+06         NaN       0.000000       3.000000    2017.000000  \n",
       "50%    1.941998e+07         NaN       1.141351       3.000000    2017.000000  \n",
       "75%    1.967319e+07         NaN       1.434921       4.000000    2017.000000  \n",
       "max    1.829582e+09         NaN       2.623792       8.000000    2018.000000  "
      ]
     },
     "execution_count": 28,
     "metadata": {},
     "output_type": "execute_result"
    }
   ],
   "source": [
    "final_class.describe()"
   ]
  },
  {
   "cell_type": "code",
   "execution_count": 29,
   "metadata": {},
   "outputs": [
    {
     "data": {
      "text/plain": [
       "P-PDG            581\n",
       "P-TPT            581\n",
       "T-TPT            581\n",
       "P-MON-CKP      14237\n",
       "T-JUS-CKP      17920\n",
       "P-JUS-CKGL     16517\n",
       "T-JUS-CKGL    797490\n",
       "QGL            15555\n",
       "dtype: int64"
      ]
     },
     "execution_count": 29,
     "metadata": {},
     "output_type": "execute_result"
    }
   ],
   "source": [
    "nulls = final_class.isnull().sum()\n",
    "nulls[nulls > 0]"
   ]
  },
  {
   "cell_type": "code",
   "execution_count": 30,
   "metadata": {},
   "outputs": [],
   "source": [
    "final_class['P-PDG'] = final_class['P-PDG'].fillna(final_class['P-PDG'].mean())\n",
    "final_class['P-TPT'] = final_class['P-TPT'].fillna(final_class['P-TPT'].mean())\n",
    "\n",
    "final_class['T-TPT'] = final_class['T-TPT'].fillna(final_class['T-TPT'].mean())\n",
    "final_class['P-MON-CKP'] = final_class['P-MON-CKP'].fillna(final_class['P-MON-CKP'].mean())\n",
    "\n",
    "final_class['T-JUS-CKP'] = final_class['T-JUS-CKP'].fillna(final_class['T-JUS-CKP'].mean())\n",
    "final_class['P-JUS-CKGL'] = final_class['P-JUS-CKGL'].fillna(final_class['P-JUS-CKGL'].mean())\n",
    "\n",
    "final_class['T-JUS-CKGL'] = final_class['T-JUS-CKGL'].fillna(final_class['T-JUS-CKGL'].mean())\n",
    "final_class['QGL'] = final_class['QGL'].fillna(final_class['QGL'].mean())"
   ]
  },
  {
   "cell_type": "code",
   "execution_count": null,
   "metadata": {},
   "outputs": [],
   "source": [
    "\n"
   ]
  },
  {
   "cell_type": "code",
   "execution_count": null,
   "metadata": {},
   "outputs": [],
   "source": []
  },
  {
   "cell_type": "code",
   "execution_count": null,
   "metadata": {},
   "outputs": [],
   "source": []
  },
  {
   "cell_type": "code",
   "execution_count": null,
   "metadata": {},
   "outputs": [],
   "source": []
  },
  {
   "cell_type": "code",
   "execution_count": null,
   "metadata": {},
   "outputs": [],
   "source": []
  },
  {
   "cell_type": "code",
   "execution_count": null,
   "metadata": {},
   "outputs": [],
   "source": []
  },
  {
   "cell_type": "code",
   "execution_count": null,
   "metadata": {},
   "outputs": [],
   "source": []
  },
  {
   "cell_type": "code",
   "execution_count": 31,
   "metadata": {},
   "outputs": [],
   "source": [
    "#replacing Nan with 0\n",
    "final_class = final_class.fillna(0)"
   ]
  },
  {
   "cell_type": "code",
   "execution_count": 32,
   "metadata": {},
   "outputs": [
    {
     "data": {
      "text/html": [
       "<div>\n",
       "<style scoped>\n",
       "    .dataframe tbody tr th:only-of-type {\n",
       "        vertical-align: middle;\n",
       "    }\n",
       "\n",
       "    .dataframe tbody tr th {\n",
       "        vertical-align: top;\n",
       "    }\n",
       "\n",
       "    .dataframe thead th {\n",
       "        text-align: right;\n",
       "    }\n",
       "</style>\n",
       "<table border=\"1\" class=\"dataframe\">\n",
       "  <thead>\n",
       "    <tr style=\"text-align: right;\">\n",
       "      <th></th>\n",
       "      <th>timestamp</th>\n",
       "      <th>P-PDG</th>\n",
       "      <th>P-TPT</th>\n",
       "      <th>T-TPT</th>\n",
       "      <th>P-MON-CKP</th>\n",
       "      <th>T-JUS-CKP</th>\n",
       "      <th>P-JUS-CKGL</th>\n",
       "      <th>T-JUS-CKGL</th>\n",
       "      <th>QGL</th>\n",
       "      <th>class</th>\n",
       "      <th>WELL_No</th>\n",
       "      <th>year</th>\n",
       "    </tr>\n",
       "  </thead>\n",
       "  <tbody>\n",
       "    <tr>\n",
       "      <th>10724</th>\n",
       "      <td>2014-01-25</td>\n",
       "      <td>0.000000e+00</td>\n",
       "      <td>1.747517e+07</td>\n",
       "      <td>117.569200</td>\n",
       "      <td>7950480.0</td>\n",
       "      <td>79.028330</td>\n",
       "      <td>-3.009178e+05</td>\n",
       "      <td>0.0</td>\n",
       "      <td>0.000000e+00</td>\n",
       "      <td>1</td>\n",
       "      <td>00001</td>\n",
       "      <td>2014</td>\n",
       "    </tr>\n",
       "    <tr>\n",
       "      <th>10725</th>\n",
       "      <td>2014-01-25</td>\n",
       "      <td>0.000000e+00</td>\n",
       "      <td>1.747485e+07</td>\n",
       "      <td>117.569800</td>\n",
       "      <td>7950480.0</td>\n",
       "      <td>79.028380</td>\n",
       "      <td>-3.009178e+05</td>\n",
       "      <td>0.0</td>\n",
       "      <td>0.000000e+00</td>\n",
       "      <td>1</td>\n",
       "      <td>00001</td>\n",
       "      <td>2014</td>\n",
       "    </tr>\n",
       "    <tr>\n",
       "      <th>10726</th>\n",
       "      <td>2014-01-25</td>\n",
       "      <td>0.000000e+00</td>\n",
       "      <td>1.747452e+07</td>\n",
       "      <td>117.570400</td>\n",
       "      <td>7950480.0</td>\n",
       "      <td>79.028430</td>\n",
       "      <td>-3.009178e+05</td>\n",
       "      <td>0.0</td>\n",
       "      <td>0.000000e+00</td>\n",
       "      <td>1</td>\n",
       "      <td>00001</td>\n",
       "      <td>2014</td>\n",
       "    </tr>\n",
       "    <tr>\n",
       "      <th>10727</th>\n",
       "      <td>2014-01-25</td>\n",
       "      <td>0.000000e+00</td>\n",
       "      <td>1.747419e+07</td>\n",
       "      <td>117.571100</td>\n",
       "      <td>7950480.0</td>\n",
       "      <td>79.028470</td>\n",
       "      <td>-3.009178e+05</td>\n",
       "      <td>0.0</td>\n",
       "      <td>0.000000e+00</td>\n",
       "      <td>1</td>\n",
       "      <td>00001</td>\n",
       "      <td>2014</td>\n",
       "    </tr>\n",
       "    <tr>\n",
       "      <th>10728</th>\n",
       "      <td>2014-01-25</td>\n",
       "      <td>0.000000e+00</td>\n",
       "      <td>1.747386e+07</td>\n",
       "      <td>117.571700</td>\n",
       "      <td>7950480.0</td>\n",
       "      <td>79.028530</td>\n",
       "      <td>-3.009178e+05</td>\n",
       "      <td>0.0</td>\n",
       "      <td>0.000000e+00</td>\n",
       "      <td>1</td>\n",
       "      <td>00001</td>\n",
       "      <td>2014</td>\n",
       "    </tr>\n",
       "    <tr>\n",
       "      <th>...</th>\n",
       "      <td>...</td>\n",
       "      <td>...</td>\n",
       "      <td>...</td>\n",
       "      <td>...</td>\n",
       "      <td>...</td>\n",
       "      <td>...</td>\n",
       "      <td>...</td>\n",
       "      <td>...</td>\n",
       "      <td>...</td>\n",
       "      <td>...</td>\n",
       "      <td>...</td>\n",
       "      <td>...</td>\n",
       "    </tr>\n",
       "    <tr>\n",
       "      <th>2032431</th>\n",
       "      <td>2017-05-09</td>\n",
       "      <td>3.096646e+09</td>\n",
       "      <td>1.914609e+09</td>\n",
       "      <td>4.311329</td>\n",
       "      <td>3150674.0</td>\n",
       "      <td>48.456592</td>\n",
       "      <td>1.579215e+09</td>\n",
       "      <td>0.0</td>\n",
       "      <td>1.157562e-09</td>\n",
       "      <td>8</td>\n",
       "      <td>00021</td>\n",
       "      <td>2017</td>\n",
       "    </tr>\n",
       "    <tr>\n",
       "      <th>2032432</th>\n",
       "      <td>2017-05-09</td>\n",
       "      <td>3.096644e+09</td>\n",
       "      <td>1.913932e+09</td>\n",
       "      <td>4.311428</td>\n",
       "      <td>3150676.0</td>\n",
       "      <td>48.456592</td>\n",
       "      <td>1.579158e+09</td>\n",
       "      <td>0.0</td>\n",
       "      <td>1.157520e-09</td>\n",
       "      <td>8</td>\n",
       "      <td>00021</td>\n",
       "      <td>2017</td>\n",
       "    </tr>\n",
       "    <tr>\n",
       "      <th>2032433</th>\n",
       "      <td>2017-05-09</td>\n",
       "      <td>3.096642e+09</td>\n",
       "      <td>1.913256e+09</td>\n",
       "      <td>4.311527</td>\n",
       "      <td>3150677.0</td>\n",
       "      <td>48.456592</td>\n",
       "      <td>1.579101e+09</td>\n",
       "      <td>0.0</td>\n",
       "      <td>1.157479e-09</td>\n",
       "      <td>8</td>\n",
       "      <td>00021</td>\n",
       "      <td>2017</td>\n",
       "    </tr>\n",
       "    <tr>\n",
       "      <th>2032434</th>\n",
       "      <td>2017-05-09</td>\n",
       "      <td>3.096640e+09</td>\n",
       "      <td>1.912579e+09</td>\n",
       "      <td>4.311625</td>\n",
       "      <td>3150679.0</td>\n",
       "      <td>48.456592</td>\n",
       "      <td>1.579044e+09</td>\n",
       "      <td>0.0</td>\n",
       "      <td>1.157438e-09</td>\n",
       "      <td>8</td>\n",
       "      <td>00021</td>\n",
       "      <td>2017</td>\n",
       "    </tr>\n",
       "    <tr>\n",
       "      <th>2032435</th>\n",
       "      <td>2017-05-09</td>\n",
       "      <td>3.096638e+09</td>\n",
       "      <td>1.911957e+09</td>\n",
       "      <td>4.311705</td>\n",
       "      <td>3150681.0</td>\n",
       "      <td>48.456592</td>\n",
       "      <td>1.578987e+09</td>\n",
       "      <td>0.0</td>\n",
       "      <td>1.157397e-09</td>\n",
       "      <td>8</td>\n",
       "      <td>00021</td>\n",
       "      <td>2017</td>\n",
       "    </tr>\n",
       "  </tbody>\n",
       "</table>\n",
       "<p>797485 rows × 12 columns</p>\n",
       "</div>"
      ],
      "text/plain": [
       "          timestamp         P-PDG         P-TPT       T-TPT  P-MON-CKP  \\\n",
       "10724    2014-01-25  0.000000e+00  1.747517e+07  117.569200  7950480.0   \n",
       "10725    2014-01-25  0.000000e+00  1.747485e+07  117.569800  7950480.0   \n",
       "10726    2014-01-25  0.000000e+00  1.747452e+07  117.570400  7950480.0   \n",
       "10727    2014-01-25  0.000000e+00  1.747419e+07  117.571100  7950480.0   \n",
       "10728    2014-01-25  0.000000e+00  1.747386e+07  117.571700  7950480.0   \n",
       "...             ...           ...           ...         ...        ...   \n",
       "2032431  2017-05-09  3.096646e+09  1.914609e+09    4.311329  3150674.0   \n",
       "2032432  2017-05-09  3.096644e+09  1.913932e+09    4.311428  3150676.0   \n",
       "2032433  2017-05-09  3.096642e+09  1.913256e+09    4.311527  3150677.0   \n",
       "2032434  2017-05-09  3.096640e+09  1.912579e+09    4.311625  3150679.0   \n",
       "2032435  2017-05-09  3.096638e+09  1.911957e+09    4.311705  3150681.0   \n",
       "\n",
       "         T-JUS-CKP    P-JUS-CKGL  T-JUS-CKGL           QGL  class WELL_No  \\\n",
       "10724    79.028330 -3.009178e+05         0.0  0.000000e+00      1   00001   \n",
       "10725    79.028380 -3.009178e+05         0.0  0.000000e+00      1   00001   \n",
       "10726    79.028430 -3.009178e+05         0.0  0.000000e+00      1   00001   \n",
       "10727    79.028470 -3.009178e+05         0.0  0.000000e+00      1   00001   \n",
       "10728    79.028530 -3.009178e+05         0.0  0.000000e+00      1   00001   \n",
       "...            ...           ...         ...           ...    ...     ...   \n",
       "2032431  48.456592  1.579215e+09         0.0  1.157562e-09      8   00021   \n",
       "2032432  48.456592  1.579158e+09         0.0  1.157520e-09      8   00021   \n",
       "2032433  48.456592  1.579101e+09         0.0  1.157479e-09      8   00021   \n",
       "2032434  48.456592  1.579044e+09         0.0  1.157438e-09      8   00021   \n",
       "2032435  48.456592  1.578987e+09         0.0  1.157397e-09      8   00021   \n",
       "\n",
       "         year  \n",
       "10724    2014  \n",
       "10725    2014  \n",
       "10726    2014  \n",
       "10727    2014  \n",
       "10728    2014  \n",
       "...       ...  \n",
       "2032431  2017  \n",
       "2032432  2017  \n",
       "2032433  2017  \n",
       "2032434  2017  \n",
       "2032435  2017  \n",
       "\n",
       "[797485 rows x 12 columns]"
      ]
     },
     "execution_count": 32,
     "metadata": {},
     "output_type": "execute_result"
    }
   ],
   "source": [
    "final_class.head(-5)"
   ]
  },
  {
   "cell_type": "code",
   "execution_count": 33,
   "metadata": {},
   "outputs": [
    {
     "data": {
      "text/plain": [
       "P-PDG         0\n",
       "P-TPT         0\n",
       "T-TPT         0\n",
       "P-MON-CKP     0\n",
       "T-JUS-CKP     0\n",
       "P-JUS-CKGL    0\n",
       "T-JUS-CKGL    0\n",
       "QGL           0\n",
       "dtype: int64"
      ]
     },
     "execution_count": 33,
     "metadata": {},
     "output_type": "execute_result"
    }
   ],
   "source": [
    "nulls1 = final_class.isnull().sum()\n",
    "nulls1[nulls > 0]"
   ]
  },
  {
   "cell_type": "code",
   "execution_count": 34,
   "metadata": {},
   "outputs": [
    {
     "data": {
      "text/plain": [
       "(797490, 12)"
      ]
     },
     "execution_count": 34,
     "metadata": {},
     "output_type": "execute_result"
    }
   ],
   "source": [
    "final_class.shape"
   ]
  },
  {
   "cell_type": "code",
   "execution_count": 35,
   "metadata": {},
   "outputs": [
    {
     "data": {
      "image/png": "[encoded data removed]",
      "text/plain": [
       "<Figure size 432x288 with 1 Axes>"
      ]
     },
     "metadata": {},
     "output_type": "display_data"
    }
   ],
   "source": [
    "final_class['year'].value_counts().plot(kind='bar');"
   ]
  },
  {
   "cell_type": "code",
   "execution_count": null,
   "metadata": {},
   "outputs": [],
   "source": []
  },
  {
   "cell_type": "code",
   "execution_count": 36,
   "metadata": {},
   "outputs": [
    {
     "data": {
      "text/html": [
       "<div>\n",
       "<style scoped>\n",
       "    .dataframe tbody tr th:only-of-type {\n",
       "        vertical-align: middle;\n",
       "    }\n",
       "\n",
       "    .dataframe tbody tr th {\n",
       "        vertical-align: top;\n",
       "    }\n",
       "\n",
       "    .dataframe thead th {\n",
       "        text-align: right;\n",
       "    }\n",
       "</style>\n",
       "<table border=\"1\" class=\"dataframe\">\n",
       "  <thead>\n",
       "    <tr style=\"text-align: right;\">\n",
       "      <th></th>\n",
       "      <th>class</th>\n",
       "      <th>year</th>\n",
       "    </tr>\n",
       "  </thead>\n",
       "  <tbody>\n",
       "    <tr>\n",
       "      <th>10724</th>\n",
       "      <td>1</td>\n",
       "      <td>2014</td>\n",
       "    </tr>\n",
       "    <tr>\n",
       "      <th>10725</th>\n",
       "      <td>1</td>\n",
       "      <td>2014</td>\n",
       "    </tr>\n",
       "    <tr>\n",
       "      <th>10726</th>\n",
       "      <td>1</td>\n",
       "      <td>2014</td>\n",
       "    </tr>\n",
       "    <tr>\n",
       "      <th>10727</th>\n",
       "      <td>1</td>\n",
       "      <td>2014</td>\n",
       "    </tr>\n",
       "    <tr>\n",
       "      <th>10728</th>\n",
       "      <td>1</td>\n",
       "      <td>2014</td>\n",
       "    </tr>\n",
       "    <tr>\n",
       "      <th>...</th>\n",
       "      <td>...</td>\n",
       "      <td>...</td>\n",
       "    </tr>\n",
       "    <tr>\n",
       "      <th>2032436</th>\n",
       "      <td>8</td>\n",
       "      <td>2017</td>\n",
       "    </tr>\n",
       "    <tr>\n",
       "      <th>2032437</th>\n",
       "      <td>8</td>\n",
       "      <td>2017</td>\n",
       "    </tr>\n",
       "    <tr>\n",
       "      <th>2032438</th>\n",
       "      <td>8</td>\n",
       "      <td>2017</td>\n",
       "    </tr>\n",
       "    <tr>\n",
       "      <th>2032439</th>\n",
       "      <td>8</td>\n",
       "      <td>2017</td>\n",
       "    </tr>\n",
       "    <tr>\n",
       "      <th>2032440</th>\n",
       "      <td>8</td>\n",
       "      <td>2017</td>\n",
       "    </tr>\n",
       "  </tbody>\n",
       "</table>\n",
       "<p>797490 rows × 2 columns</p>\n",
       "</div>"
      ],
      "text/plain": [
       "         class  year\n",
       "10724        1  2014\n",
       "10725        1  2014\n",
       "10726        1  2014\n",
       "10727        1  2014\n",
       "10728        1  2014\n",
       "...        ...   ...\n",
       "2032436      8  2017\n",
       "2032437      8  2017\n",
       "2032438      8  2017\n",
       "2032439      8  2017\n",
       "2032440      8  2017\n",
       "\n",
       "[797490 rows x 2 columns]"
      ]
     },
     "execution_count": 36,
     "metadata": {},
     "output_type": "execute_result"
    }
   ],
   "source": [
    "final_class.loc[:, [\"class\", \"year\"]]"
   ]
  },
  {
   "cell_type": "code",
   "execution_count": 37,
   "metadata": {},
   "outputs": [],
   "source": [
    "final_class.rename(columns={'P-PDG': 'P-sensor1', 'P-TPT': 'P-sensor2', 'T-TPT': 'T-sensor1', \\\n",
    "                            'P-MON-CKP': 'P-sensor3', 'T-JUS-CKP': 'T-sensor2', 'P-JUS-CKGL': 'P-sensor4'\\\n",
    "                             , 'T-JUS-CKGL': 'T-sensor3', 'QGL': 'P-sensor5'}, inplace=True)"
   ]
  },
  {
   "cell_type": "code",
   "execution_count": 38,
   "metadata": {},
   "outputs": [],
   "source": [
    "final_class = final_class.drop(columns=\"timestamp\")"
   ]
  },
  {
   "cell_type": "code",
   "execution_count": 39,
   "metadata": {},
   "outputs": [
    {
     "data": {
      "text/html": [
       "<div>\n",
       "<style scoped>\n",
       "    .dataframe tbody tr th:only-of-type {\n",
       "        vertical-align: middle;\n",
       "    }\n",
       "\n",
       "    .dataframe tbody tr th {\n",
       "        vertical-align: top;\n",
       "    }\n",
       "\n",
       "    .dataframe thead th {\n",
       "        text-align: right;\n",
       "    }\n",
       "</style>\n",
       "<table border=\"1\" class=\"dataframe\">\n",
       "  <thead>\n",
       "    <tr style=\"text-align: right;\">\n",
       "      <th></th>\n",
       "      <th>P-sensor1</th>\n",
       "      <th>P-sensor2</th>\n",
       "      <th>T-sensor1</th>\n",
       "      <th>P-sensor3</th>\n",
       "      <th>T-sensor2</th>\n",
       "      <th>P-sensor4</th>\n",
       "      <th>T-sensor3</th>\n",
       "      <th>P-sensor5</th>\n",
       "      <th>class</th>\n",
       "      <th>WELL_No</th>\n",
       "      <th>year</th>\n",
       "    </tr>\n",
       "  </thead>\n",
       "  <tbody>\n",
       "    <tr>\n",
       "      <th>10724</th>\n",
       "      <td>0.000000e+00</td>\n",
       "      <td>1.747517e+07</td>\n",
       "      <td>117.569200</td>\n",
       "      <td>7950480.0</td>\n",
       "      <td>79.028330</td>\n",
       "      <td>-3.009178e+05</td>\n",
       "      <td>0.0</td>\n",
       "      <td>0.000000e+00</td>\n",
       "      <td>1</td>\n",
       "      <td>00001</td>\n",
       "      <td>2014</td>\n",
       "    </tr>\n",
       "    <tr>\n",
       "      <th>10725</th>\n",
       "      <td>0.000000e+00</td>\n",
       "      <td>1.747485e+07</td>\n",
       "      <td>117.569800</td>\n",
       "      <td>7950480.0</td>\n",
       "      <td>79.028380</td>\n",
       "      <td>-3.009178e+05</td>\n",
       "      <td>0.0</td>\n",
       "      <td>0.000000e+00</td>\n",
       "      <td>1</td>\n",
       "      <td>00001</td>\n",
       "      <td>2014</td>\n",
       "    </tr>\n",
       "    <tr>\n",
       "      <th>10726</th>\n",
       "      <td>0.000000e+00</td>\n",
       "      <td>1.747452e+07</td>\n",
       "      <td>117.570400</td>\n",
       "      <td>7950480.0</td>\n",
       "      <td>79.028430</td>\n",
       "      <td>-3.009178e+05</td>\n",
       "      <td>0.0</td>\n",
       "      <td>0.000000e+00</td>\n",
       "      <td>1</td>\n",
       "      <td>00001</td>\n",
       "      <td>2014</td>\n",
       "    </tr>\n",
       "    <tr>\n",
       "      <th>10727</th>\n",
       "      <td>0.000000e+00</td>\n",
       "      <td>1.747419e+07</td>\n",
       "      <td>117.571100</td>\n",
       "      <td>7950480.0</td>\n",
       "      <td>79.028470</td>\n",
       "      <td>-3.009178e+05</td>\n",
       "      <td>0.0</td>\n",
       "      <td>0.000000e+00</td>\n",
       "      <td>1</td>\n",
       "      <td>00001</td>\n",
       "      <td>2014</td>\n",
       "    </tr>\n",
       "    <tr>\n",
       "      <th>10728</th>\n",
       "      <td>0.000000e+00</td>\n",
       "      <td>1.747386e+07</td>\n",
       "      <td>117.571700</td>\n",
       "      <td>7950480.0</td>\n",
       "      <td>79.028530</td>\n",
       "      <td>-3.009178e+05</td>\n",
       "      <td>0.0</td>\n",
       "      <td>0.000000e+00</td>\n",
       "      <td>1</td>\n",
       "      <td>00001</td>\n",
       "      <td>2014</td>\n",
       "    </tr>\n",
       "    <tr>\n",
       "      <th>...</th>\n",
       "      <td>...</td>\n",
       "      <td>...</td>\n",
       "      <td>...</td>\n",
       "      <td>...</td>\n",
       "      <td>...</td>\n",
       "      <td>...</td>\n",
       "      <td>...</td>\n",
       "      <td>...</td>\n",
       "      <td>...</td>\n",
       "      <td>...</td>\n",
       "      <td>...</td>\n",
       "    </tr>\n",
       "    <tr>\n",
       "      <th>2032436</th>\n",
       "      <td>3.096636e+09</td>\n",
       "      <td>1.911335e+09</td>\n",
       "      <td>4.311784</td>\n",
       "      <td>3150682.0</td>\n",
       "      <td>48.456592</td>\n",
       "      <td>1.578930e+09</td>\n",
       "      <td>0.0</td>\n",
       "      <td>1.157355e-09</td>\n",
       "      <td>8</td>\n",
       "      <td>00021</td>\n",
       "      <td>2017</td>\n",
       "    </tr>\n",
       "    <tr>\n",
       "      <th>2032437</th>\n",
       "      <td>3.096634e+09</td>\n",
       "      <td>1.910712e+09</td>\n",
       "      <td>4.311864</td>\n",
       "      <td>3150684.0</td>\n",
       "      <td>48.456592</td>\n",
       "      <td>1.578874e+09</td>\n",
       "      <td>0.0</td>\n",
       "      <td>1.157314e-09</td>\n",
       "      <td>8</td>\n",
       "      <td>00021</td>\n",
       "      <td>2017</td>\n",
       "    </tr>\n",
       "    <tr>\n",
       "      <th>2032438</th>\n",
       "      <td>3.096632e+09</td>\n",
       "      <td>1.910090e+09</td>\n",
       "      <td>4.311943</td>\n",
       "      <td>3150685.0</td>\n",
       "      <td>48.456592</td>\n",
       "      <td>1.578817e+09</td>\n",
       "      <td>0.0</td>\n",
       "      <td>1.157273e-09</td>\n",
       "      <td>8</td>\n",
       "      <td>00021</td>\n",
       "      <td>2017</td>\n",
       "    </tr>\n",
       "    <tr>\n",
       "      <th>2032439</th>\n",
       "      <td>3.096630e+09</td>\n",
       "      <td>1.909468e+09</td>\n",
       "      <td>4.312023</td>\n",
       "      <td>3150687.0</td>\n",
       "      <td>48.456592</td>\n",
       "      <td>1.578760e+09</td>\n",
       "      <td>0.0</td>\n",
       "      <td>1.157232e-09</td>\n",
       "      <td>8</td>\n",
       "      <td>00021</td>\n",
       "      <td>2017</td>\n",
       "    </tr>\n",
       "    <tr>\n",
       "      <th>2032440</th>\n",
       "      <td>3.096630e+09</td>\n",
       "      <td>1.908559e+09</td>\n",
       "      <td>4.311911</td>\n",
       "      <td>3150688.0</td>\n",
       "      <td>48.456592</td>\n",
       "      <td>1.578703e+09</td>\n",
       "      <td>0.0</td>\n",
       "      <td>1.157190e-09</td>\n",
       "      <td>8</td>\n",
       "      <td>00021</td>\n",
       "      <td>2017</td>\n",
       "    </tr>\n",
       "  </tbody>\n",
       "</table>\n",
       "<p>797490 rows × 11 columns</p>\n",
       "</div>"
      ],
      "text/plain": [
       "            P-sensor1     P-sensor2   T-sensor1  P-sensor3  T-sensor2  \\\n",
       "10724    0.000000e+00  1.747517e+07  117.569200  7950480.0  79.028330   \n",
       "10725    0.000000e+00  1.747485e+07  117.569800  7950480.0  79.028380   \n",
       "10726    0.000000e+00  1.747452e+07  117.570400  7950480.0  79.028430   \n",
       "10727    0.000000e+00  1.747419e+07  117.571100  7950480.0  79.028470   \n",
       "10728    0.000000e+00  1.747386e+07  117.571700  7950480.0  79.028530   \n",
       "...               ...           ...         ...        ...        ...   \n",
       "2032436  3.096636e+09  1.911335e+09    4.311784  3150682.0  48.456592   \n",
       "2032437  3.096634e+09  1.910712e+09    4.311864  3150684.0  48.456592   \n",
       "2032438  3.096632e+09  1.910090e+09    4.311943  3150685.0  48.456592   \n",
       "2032439  3.096630e+09  1.909468e+09    4.312023  3150687.0  48.456592   \n",
       "2032440  3.096630e+09  1.908559e+09    4.311911  3150688.0  48.456592   \n",
       "\n",
       "            P-sensor4  T-sensor3     P-sensor5  class WELL_No  year  \n",
       "10724   -3.009178e+05        0.0  0.000000e+00      1   00001  2014  \n",
       "10725   -3.009178e+05        0.0  0.000000e+00      1   00001  2014  \n",
       "10726   -3.009178e+05        0.0  0.000000e+00      1   00001  2014  \n",
       "10727   -3.009178e+05        0.0  0.000000e+00      1   00001  2014  \n",
       "10728   -3.009178e+05        0.0  0.000000e+00      1   00001  2014  \n",
       "...               ...        ...           ...    ...     ...   ...  \n",
       "2032436  1.578930e+09        0.0  1.157355e-09      8   00021  2017  \n",
       "2032437  1.578874e+09        0.0  1.157314e-09      8   00021  2017  \n",
       "2032438  1.578817e+09        0.0  1.157273e-09      8   00021  2017  \n",
       "2032439  1.578760e+09        0.0  1.157232e-09      8   00021  2017  \n",
       "2032440  1.578703e+09        0.0  1.157190e-09      8   00021  2017  \n",
       "\n",
       "[797490 rows x 11 columns]"
      ]
     },
     "execution_count": 39,
     "metadata": {},
     "output_type": "execute_result"
    }
   ],
   "source": [
    "final_class"
   ]
  },
  {
   "cell_type": "code",
   "execution_count": 40,
   "metadata": {},
   "outputs": [
    {
     "data": {
      "text/plain": [
       "dtype('int64')"
      ]
     },
     "execution_count": 40,
     "metadata": {},
     "output_type": "execute_result"
    }
   ],
   "source": [
    "final_class['WELL_No'] = final_class['WELL_No'].astype('int64')\n",
    "final_class['WELL_No'].dtype"
   ]
  },
  {
   "cell_type": "code",
   "execution_count": 41,
   "metadata": {
    "scrolled": true
   },
   "outputs": [
    {
     "data": {
      "text/plain": [
       "Text(0, 0.5, 'count')"
      ]
     },
     "execution_count": 41,
     "metadata": {},
     "output_type": "execute_result"
    },
    {
     "data": {
      "image/png": "[encoded data removed]",
      "text/plain": [
       "<Figure size 432x288 with 1 Axes>"
      ]
     },
     "metadata": {},
     "output_type": "display_data"
    }
   ],
   "source": [
    "final_class['WELL_No'].value_counts().plot(kind='bar', title = 'WELL_No')\n",
    "plt.xlabel('WELL_No', fontsize=10);\n",
    "plt.ylabel('count', fontsize=10)"
   ]
  },
  {
   "cell_type": "code",
   "execution_count": 42,
   "metadata": {},
   "outputs": [
    {
     "data": {
      "text/plain": [
       "<matplotlib.axes._subplots.AxesSubplot at 0x1b0b37c0970>"
      ]
     },
     "execution_count": 42,
     "metadata": {},
     "output_type": "execute_result"
    },
    {
     "data": {
      "image/png": "[encoded data removed]",
      "text/plain": [
       "<Figure size 432x288 with 1 Axes>"
      ]
     },
     "metadata": {},
     "output_type": "display_data"
    }
   ],
   "source": [
    "df_final_class = final_class.groupby(['WELL_No', 'year', 'class']).size().unstack(level=1)\n",
    "df_final_class.plot(kind = 'bar')"
   ]
  },
  {
   "cell_type": "markdown",
   "metadata": {},
   "source": [
    "# class_0 - Regular (No event)"
   ]
  },
  {
   "cell_type": "code",
   "execution_count": 43,
   "metadata": {},
   "outputs": [
    {
     "data": {
      "text/html": [
       "<div>\n",
       "<style scoped>\n",
       "    .dataframe tbody tr th:only-of-type {\n",
       "        vertical-align: middle;\n",
       "    }\n",
       "\n",
       "    .dataframe tbody tr th {\n",
       "        vertical-align: top;\n",
       "    }\n",
       "\n",
       "    .dataframe thead th {\n",
       "        text-align: right;\n",
       "    }\n",
       "</style>\n",
       "<table border=\"1\" class=\"dataframe\">\n",
       "  <thead>\n",
       "    <tr style=\"text-align: right;\">\n",
       "      <th></th>\n",
       "      <th>timestamp</th>\n",
       "      <th>P-PDG</th>\n",
       "      <th>P-TPT</th>\n",
       "      <th>T-TPT</th>\n",
       "      <th>P-MON-CKP</th>\n",
       "      <th>T-JUS-CKP</th>\n",
       "      <th>P-JUS-CKGL</th>\n",
       "      <th>T-JUS-CKGL</th>\n",
       "      <th>QGL</th>\n",
       "      <th>class</th>\n",
       "      <th>WELL_No</th>\n",
       "    </tr>\n",
       "  </thead>\n",
       "  <tbody>\n",
       "    <tr>\n",
       "      <th>0</th>\n",
       "      <td>2014-01-24</td>\n",
       "      <td>0.000000e+00</td>\n",
       "      <td>18433410.0</td>\n",
       "      <td>116.91090</td>\n",
       "      <td>9366608.0</td>\n",
       "      <td>75.34820</td>\n",
       "      <td>-3.009178e+05</td>\n",
       "      <td>NaN</td>\n",
       "      <td>0.000000</td>\n",
       "      <td>0.0</td>\n",
       "      <td>00001</td>\n",
       "    </tr>\n",
       "    <tr>\n",
       "      <th>1</th>\n",
       "      <td>2014-01-24</td>\n",
       "      <td>0.000000e+00</td>\n",
       "      <td>18433410.0</td>\n",
       "      <td>116.91090</td>\n",
       "      <td>9366602.0</td>\n",
       "      <td>75.34825</td>\n",
       "      <td>-3.009178e+05</td>\n",
       "      <td>NaN</td>\n",
       "      <td>0.000000</td>\n",
       "      <td>0.0</td>\n",
       "      <td>00001</td>\n",
       "    </tr>\n",
       "    <tr>\n",
       "      <th>2</th>\n",
       "      <td>2014-01-24</td>\n",
       "      <td>0.000000e+00</td>\n",
       "      <td>18433410.0</td>\n",
       "      <td>116.91090</td>\n",
       "      <td>9366598.0</td>\n",
       "      <td>75.34831</td>\n",
       "      <td>-3.009178e+05</td>\n",
       "      <td>NaN</td>\n",
       "      <td>0.000000</td>\n",
       "      <td>0.0</td>\n",
       "      <td>00001</td>\n",
       "    </tr>\n",
       "    <tr>\n",
       "      <th>3</th>\n",
       "      <td>2014-01-24</td>\n",
       "      <td>0.000000e+00</td>\n",
       "      <td>18433410.0</td>\n",
       "      <td>116.91090</td>\n",
       "      <td>9366592.0</td>\n",
       "      <td>75.34837</td>\n",
       "      <td>-3.009178e+05</td>\n",
       "      <td>NaN</td>\n",
       "      <td>0.000000</td>\n",
       "      <td>0.0</td>\n",
       "      <td>00001</td>\n",
       "    </tr>\n",
       "    <tr>\n",
       "      <th>4</th>\n",
       "      <td>2014-01-24</td>\n",
       "      <td>0.000000e+00</td>\n",
       "      <td>18433410.0</td>\n",
       "      <td>116.91090</td>\n",
       "      <td>9366588.0</td>\n",
       "      <td>75.34843</td>\n",
       "      <td>-3.009178e+05</td>\n",
       "      <td>NaN</td>\n",
       "      <td>0.000000</td>\n",
       "      <td>0.0</td>\n",
       "      <td>00001</td>\n",
       "    </tr>\n",
       "    <tr>\n",
       "      <th>...</th>\n",
       "      <td>...</td>\n",
       "      <td>...</td>\n",
       "      <td>...</td>\n",
       "      <td>...</td>\n",
       "      <td>...</td>\n",
       "      <td>...</td>\n",
       "      <td>...</td>\n",
       "      <td>...</td>\n",
       "      <td>...</td>\n",
       "      <td>...</td>\n",
       "      <td>...</td>\n",
       "    </tr>\n",
       "    <tr>\n",
       "      <th>2011749</th>\n",
       "      <td>2017-05-09</td>\n",
       "      <td>3.077878e+09</td>\n",
       "      <td>884358400.0</td>\n",
       "      <td>19.05132</td>\n",
       "      <td>1660601.0</td>\n",
       "      <td>NaN</td>\n",
       "      <td>1.391214e+09</td>\n",
       "      <td>NaN</td>\n",
       "      <td>0.058183</td>\n",
       "      <td>0.0</td>\n",
       "      <td>00021</td>\n",
       "    </tr>\n",
       "    <tr>\n",
       "      <th>2011750</th>\n",
       "      <td>2017-05-09</td>\n",
       "      <td>3.077878e+09</td>\n",
       "      <td>884327000.0</td>\n",
       "      <td>19.05428</td>\n",
       "      <td>1658604.0</td>\n",
       "      <td>NaN</td>\n",
       "      <td>1.391382e+09</td>\n",
       "      <td>NaN</td>\n",
       "      <td>0.058288</td>\n",
       "      <td>0.0</td>\n",
       "      <td>00021</td>\n",
       "    </tr>\n",
       "    <tr>\n",
       "      <th>2011751</th>\n",
       "      <td>2017-05-09</td>\n",
       "      <td>3.077878e+09</td>\n",
       "      <td>884295500.0</td>\n",
       "      <td>19.05724</td>\n",
       "      <td>1656607.0</td>\n",
       "      <td>NaN</td>\n",
       "      <td>1.391549e+09</td>\n",
       "      <td>NaN</td>\n",
       "      <td>0.058393</td>\n",
       "      <td>0.0</td>\n",
       "      <td>00021</td>\n",
       "    </tr>\n",
       "    <tr>\n",
       "      <th>2011752</th>\n",
       "      <td>2017-05-09</td>\n",
       "      <td>3.077878e+09</td>\n",
       "      <td>884264100.0</td>\n",
       "      <td>19.06020</td>\n",
       "      <td>1654610.0</td>\n",
       "      <td>NaN</td>\n",
       "      <td>1.391717e+09</td>\n",
       "      <td>NaN</td>\n",
       "      <td>0.058498</td>\n",
       "      <td>0.0</td>\n",
       "      <td>00021</td>\n",
       "    </tr>\n",
       "    <tr>\n",
       "      <th>2011753</th>\n",
       "      <td>2017-05-09</td>\n",
       "      <td>3.077878e+09</td>\n",
       "      <td>884232600.0</td>\n",
       "      <td>19.06316</td>\n",
       "      <td>1652613.0</td>\n",
       "      <td>NaN</td>\n",
       "      <td>1.391884e+09</td>\n",
       "      <td>NaN</td>\n",
       "      <td>0.058602</td>\n",
       "      <td>0.0</td>\n",
       "      <td>00021</td>\n",
       "    </tr>\n",
       "  </tbody>\n",
       "</table>\n",
       "<p>464320 rows × 11 columns</p>\n",
       "</div>"
      ],
      "text/plain": [
       "          timestamp         P-PDG        P-TPT      T-TPT  P-MON-CKP  \\\n",
       "0        2014-01-24  0.000000e+00   18433410.0  116.91090  9366608.0   \n",
       "1        2014-01-24  0.000000e+00   18433410.0  116.91090  9366602.0   \n",
       "2        2014-01-24  0.000000e+00   18433410.0  116.91090  9366598.0   \n",
       "3        2014-01-24  0.000000e+00   18433410.0  116.91090  9366592.0   \n",
       "4        2014-01-24  0.000000e+00   18433410.0  116.91090  9366588.0   \n",
       "...             ...           ...          ...        ...        ...   \n",
       "2011749  2017-05-09  3.077878e+09  884358400.0   19.05132  1660601.0   \n",
       "2011750  2017-05-09  3.077878e+09  884327000.0   19.05428  1658604.0   \n",
       "2011751  2017-05-09  3.077878e+09  884295500.0   19.05724  1656607.0   \n",
       "2011752  2017-05-09  3.077878e+09  884264100.0   19.06020  1654610.0   \n",
       "2011753  2017-05-09  3.077878e+09  884232600.0   19.06316  1652613.0   \n",
       "\n",
       "         T-JUS-CKP    P-JUS-CKGL  T-JUS-CKGL       QGL  class WELL_No  \n",
       "0         75.34820 -3.009178e+05         NaN  0.000000    0.0   00001  \n",
       "1         75.34825 -3.009178e+05         NaN  0.000000    0.0   00001  \n",
       "2         75.34831 -3.009178e+05         NaN  0.000000    0.0   00001  \n",
       "3         75.34837 -3.009178e+05         NaN  0.000000    0.0   00001  \n",
       "4         75.34843 -3.009178e+05         NaN  0.000000    0.0   00001  \n",
       "...            ...           ...         ...       ...    ...     ...  \n",
       "2011749        NaN  1.391214e+09         NaN  0.058183    0.0   00021  \n",
       "2011750        NaN  1.391382e+09         NaN  0.058288    0.0   00021  \n",
       "2011751        NaN  1.391549e+09         NaN  0.058393    0.0   00021  \n",
       "2011752        NaN  1.391717e+09         NaN  0.058498    0.0   00021  \n",
       "2011753        NaN  1.391884e+09         NaN  0.058602    0.0   00021  \n",
       "\n",
       "[464320 rows x 11 columns]"
      ]
     },
     "execution_count": 43,
     "metadata": {},
     "output_type": "execute_result"
    }
   ],
   "source": [
    "\n",
    "class_0"
   ]
  },
  {
   "cell_type": "code",
   "execution_count": null,
   "metadata": {},
   "outputs": [],
   "source": []
  },
  {
   "cell_type": "code",
   "execution_count": null,
   "metadata": {},
   "outputs": [],
   "source": []
  },
  {
   "cell_type": "code",
   "execution_count": 44,
   "metadata": {},
   "outputs": [
    {
     "data": {
      "text/plain": [
       "dtype('int64')"
      ]
     },
     "execution_count": 44,
     "metadata": {},
     "output_type": "execute_result"
    }
   ],
   "source": [
    "class_0['year'] = pd.DatetimeIndex(class_0['timestamp']).year\n",
    "class_0['class'] = class_0['class'].astype('int64')\n",
    "class_0['class'].dtype"
   ]
  },
  {
   "cell_type": "code",
   "execution_count": 45,
   "metadata": {},
   "outputs": [
    {
     "data": {
      "text/plain": [
       "P-PDG            616\n",
       "P-TPT            616\n",
       "T-TPT            616\n",
       "P-MON-CKP     212230\n",
       "T-JUS-CKP     228718\n",
       "P-JUS-CKGL    226345\n",
       "T-JUS-CKGL    464320\n",
       "QGL           224040\n",
       "dtype: int64"
      ]
     },
     "execution_count": 45,
     "metadata": {},
     "output_type": "execute_result"
    }
   ],
   "source": [
    "nulls = class_0.isnull().sum()\n",
    "nulls[nulls > 0]"
   ]
  },
  {
   "cell_type": "code",
   "execution_count": 46,
   "metadata": {},
   "outputs": [],
   "source": [
    "class_0['P-PDG'] = class_0['P-PDG'].fillna(class_0['P-PDG'].mean())\n",
    "class_0['P-TPT'] = class_0['P-TPT'].fillna(class_0['P-TPT'].mean())\n",
    "\n",
    "class_0['T-TPT'] = class_0['T-TPT'].fillna(class_0['T-TPT'].mean())\n",
    "class_0['P-MON-CKP'] = class_0['P-MON-CKP'].fillna(class_0['P-MON-CKP'].mean())\n",
    "\n",
    "class_0['T-JUS-CKP'] = class_0['T-JUS-CKP'].fillna(class_0['T-JUS-CKP'].mean())\n",
    "class_0['P-JUS-CKGL'] = class_0['P-JUS-CKGL'].fillna(class_0['P-JUS-CKGL'].mean())\n",
    "\n",
    "class_0['T-JUS-CKGL'] = class_0['T-JUS-CKGL'].fillna(class_0['T-JUS-CKGL'].mean())\n",
    "class_0['QGL'] = class_0['QGL'].fillna(class_0['QGL'].mean())"
   ]
  },
  {
   "cell_type": "code",
   "execution_count": 47,
   "metadata": {},
   "outputs": [],
   "source": [
    "#replacing Nan with 0\n",
    "class_0 = class_0.fillna(0)"
   ]
  },
  {
   "cell_type": "code",
   "execution_count": 48,
   "metadata": {},
   "outputs": [
    {
     "data": {
      "text/plain": [
       "P-PDG         0\n",
       "P-TPT         0\n",
       "T-TPT         0\n",
       "P-MON-CKP     0\n",
       "T-JUS-CKP     0\n",
       "P-JUS-CKGL    0\n",
       "T-JUS-CKGL    0\n",
       "QGL           0\n",
       "dtype: int64"
      ]
     },
     "execution_count": 48,
     "metadata": {},
     "output_type": "execute_result"
    }
   ],
   "source": [
    "nulls1 = class_0.isnull().sum()\n",
    "nulls1[nulls > 0]"
   ]
  },
  {
   "cell_type": "code",
   "execution_count": 49,
   "metadata": {},
   "outputs": [],
   "source": [
    "class_0.rename(columns={'P-PDG': 'P-sensor1', 'P-TPT': 'P-sensor2', 'T-TPT': 'T-sensor1', \\\n",
    "                            'P-MON-CKP': 'P-sensor3', 'T-JUS-CKP': 'T-sensor2', 'P-JUS-CKGL': 'P-sensor4'\\\n",
    "                             , 'T-JUS-CKGL': 'T-sensor3', 'QGL': 'P-sensor5'}, inplace=True)"
   ]
  },
  {
   "cell_type": "code",
   "execution_count": null,
   "metadata": {},
   "outputs": [],
   "source": []
  },
  {
   "cell_type": "code",
   "execution_count": 50,
   "metadata": {},
   "outputs": [],
   "source": [
    "class_0 = class_0.drop(columns=\"timestamp\")"
   ]
  },
  {
   "cell_type": "code",
   "execution_count": 51,
   "metadata": {},
   "outputs": [
    {
     "data": {
      "text/html": [
       "<div>\n",
       "<style scoped>\n",
       "    .dataframe tbody tr th:only-of-type {\n",
       "        vertical-align: middle;\n",
       "    }\n",
       "\n",
       "    .dataframe tbody tr th {\n",
       "        vertical-align: top;\n",
       "    }\n",
       "\n",
       "    .dataframe thead th {\n",
       "        text-align: right;\n",
       "    }\n",
       "</style>\n",
       "<table border=\"1\" class=\"dataframe\">\n",
       "  <thead>\n",
       "    <tr style=\"text-align: right;\">\n",
       "      <th></th>\n",
       "      <th>P-sensor1</th>\n",
       "      <th>P-sensor2</th>\n",
       "      <th>T-sensor1</th>\n",
       "      <th>P-sensor3</th>\n",
       "      <th>T-sensor2</th>\n",
       "      <th>P-sensor4</th>\n",
       "      <th>T-sensor3</th>\n",
       "      <th>P-sensor5</th>\n",
       "      <th>class</th>\n",
       "      <th>WELL_No</th>\n",
       "      <th>year</th>\n",
       "    </tr>\n",
       "  </thead>\n",
       "  <tbody>\n",
       "    <tr>\n",
       "      <th>0</th>\n",
       "      <td>0.000000e+00</td>\n",
       "      <td>18433410.0</td>\n",
       "      <td>116.91090</td>\n",
       "      <td>9366608.0</td>\n",
       "      <td>75.348200</td>\n",
       "      <td>-3.009178e+05</td>\n",
       "      <td>0.0</td>\n",
       "      <td>0.000000</td>\n",
       "      <td>0</td>\n",
       "      <td>00001</td>\n",
       "      <td>2014</td>\n",
       "    </tr>\n",
       "    <tr>\n",
       "      <th>1</th>\n",
       "      <td>0.000000e+00</td>\n",
       "      <td>18433410.0</td>\n",
       "      <td>116.91090</td>\n",
       "      <td>9366602.0</td>\n",
       "      <td>75.348250</td>\n",
       "      <td>-3.009178e+05</td>\n",
       "      <td>0.0</td>\n",
       "      <td>0.000000</td>\n",
       "      <td>0</td>\n",
       "      <td>00001</td>\n",
       "      <td>2014</td>\n",
       "    </tr>\n",
       "    <tr>\n",
       "      <th>2</th>\n",
       "      <td>0.000000e+00</td>\n",
       "      <td>18433410.0</td>\n",
       "      <td>116.91090</td>\n",
       "      <td>9366598.0</td>\n",
       "      <td>75.348310</td>\n",
       "      <td>-3.009178e+05</td>\n",
       "      <td>0.0</td>\n",
       "      <td>0.000000</td>\n",
       "      <td>0</td>\n",
       "      <td>00001</td>\n",
       "      <td>2014</td>\n",
       "    </tr>\n",
       "    <tr>\n",
       "      <th>3</th>\n",
       "      <td>0.000000e+00</td>\n",
       "      <td>18433410.0</td>\n",
       "      <td>116.91090</td>\n",
       "      <td>9366592.0</td>\n",
       "      <td>75.348370</td>\n",
       "      <td>-3.009178e+05</td>\n",
       "      <td>0.0</td>\n",
       "      <td>0.000000</td>\n",
       "      <td>0</td>\n",
       "      <td>00001</td>\n",
       "      <td>2014</td>\n",
       "    </tr>\n",
       "    <tr>\n",
       "      <th>4</th>\n",
       "      <td>0.000000e+00</td>\n",
       "      <td>18433410.0</td>\n",
       "      <td>116.91090</td>\n",
       "      <td>9366588.0</td>\n",
       "      <td>75.348430</td>\n",
       "      <td>-3.009178e+05</td>\n",
       "      <td>0.0</td>\n",
       "      <td>0.000000</td>\n",
       "      <td>0</td>\n",
       "      <td>00001</td>\n",
       "      <td>2014</td>\n",
       "    </tr>\n",
       "    <tr>\n",
       "      <th>...</th>\n",
       "      <td>...</td>\n",
       "      <td>...</td>\n",
       "      <td>...</td>\n",
       "      <td>...</td>\n",
       "      <td>...</td>\n",
       "      <td>...</td>\n",
       "      <td>...</td>\n",
       "      <td>...</td>\n",
       "      <td>...</td>\n",
       "      <td>...</td>\n",
       "      <td>...</td>\n",
       "    </tr>\n",
       "    <tr>\n",
       "      <th>2011749</th>\n",
       "      <td>3.077878e+09</td>\n",
       "      <td>884358400.0</td>\n",
       "      <td>19.05132</td>\n",
       "      <td>1660601.0</td>\n",
       "      <td>79.311388</td>\n",
       "      <td>1.391214e+09</td>\n",
       "      <td>0.0</td>\n",
       "      <td>0.058183</td>\n",
       "      <td>0</td>\n",
       "      <td>00021</td>\n",
       "      <td>2017</td>\n",
       "    </tr>\n",
       "    <tr>\n",
       "      <th>2011750</th>\n",
       "      <td>3.077878e+09</td>\n",
       "      <td>884327000.0</td>\n",
       "      <td>19.05428</td>\n",
       "      <td>1658604.0</td>\n",
       "      <td>79.311388</td>\n",
       "      <td>1.391382e+09</td>\n",
       "      <td>0.0</td>\n",
       "      <td>0.058288</td>\n",
       "      <td>0</td>\n",
       "      <td>00021</td>\n",
       "      <td>2017</td>\n",
       "    </tr>\n",
       "    <tr>\n",
       "      <th>2011751</th>\n",
       "      <td>3.077878e+09</td>\n",
       "      <td>884295500.0</td>\n",
       "      <td>19.05724</td>\n",
       "      <td>1656607.0</td>\n",
       "      <td>79.311388</td>\n",
       "      <td>1.391549e+09</td>\n",
       "      <td>0.0</td>\n",
       "      <td>0.058393</td>\n",
       "      <td>0</td>\n",
       "      <td>00021</td>\n",
       "      <td>2017</td>\n",
       "    </tr>\n",
       "    <tr>\n",
       "      <th>2011752</th>\n",
       "      <td>3.077878e+09</td>\n",
       "      <td>884264100.0</td>\n",
       "      <td>19.06020</td>\n",
       "      <td>1654610.0</td>\n",
       "      <td>79.311388</td>\n",
       "      <td>1.391717e+09</td>\n",
       "      <td>0.0</td>\n",
       "      <td>0.058498</td>\n",
       "      <td>0</td>\n",
       "      <td>00021</td>\n",
       "      <td>2017</td>\n",
       "    </tr>\n",
       "    <tr>\n",
       "      <th>2011753</th>\n",
       "      <td>3.077878e+09</td>\n",
       "      <td>884232600.0</td>\n",
       "      <td>19.06316</td>\n",
       "      <td>1652613.0</td>\n",
       "      <td>79.311388</td>\n",
       "      <td>1.391884e+09</td>\n",
       "      <td>0.0</td>\n",
       "      <td>0.058602</td>\n",
       "      <td>0</td>\n",
       "      <td>00021</td>\n",
       "      <td>2017</td>\n",
       "    </tr>\n",
       "  </tbody>\n",
       "</table>\n",
       "<p>464320 rows × 11 columns</p>\n",
       "</div>"
      ],
      "text/plain": [
       "            P-sensor1    P-sensor2  T-sensor1  P-sensor3  T-sensor2  \\\n",
       "0        0.000000e+00   18433410.0  116.91090  9366608.0  75.348200   \n",
       "1        0.000000e+00   18433410.0  116.91090  9366602.0  75.348250   \n",
       "2        0.000000e+00   18433410.0  116.91090  9366598.0  75.348310   \n",
       "3        0.000000e+00   18433410.0  116.91090  9366592.0  75.348370   \n",
       "4        0.000000e+00   18433410.0  116.91090  9366588.0  75.348430   \n",
       "...               ...          ...        ...        ...        ...   \n",
       "2011749  3.077878e+09  884358400.0   19.05132  1660601.0  79.311388   \n",
       "2011750  3.077878e+09  884327000.0   19.05428  1658604.0  79.311388   \n",
       "2011751  3.077878e+09  884295500.0   19.05724  1656607.0  79.311388   \n",
       "2011752  3.077878e+09  884264100.0   19.06020  1654610.0  79.311388   \n",
       "2011753  3.077878e+09  884232600.0   19.06316  1652613.0  79.311388   \n",
       "\n",
       "            P-sensor4  T-sensor3  P-sensor5  class WELL_No  year  \n",
       "0       -3.009178e+05        0.0   0.000000      0   00001  2014  \n",
       "1       -3.009178e+05        0.0   0.000000      0   00001  2014  \n",
       "2       -3.009178e+05        0.0   0.000000      0   00001  2014  \n",
       "3       -3.009178e+05        0.0   0.000000      0   00001  2014  \n",
       "4       -3.009178e+05        0.0   0.000000      0   00001  2014  \n",
       "...               ...        ...        ...    ...     ...   ...  \n",
       "2011749  1.391214e+09        0.0   0.058183      0   00021  2017  \n",
       "2011750  1.391382e+09        0.0   0.058288      0   00021  2017  \n",
       "2011751  1.391549e+09        0.0   0.058393      0   00021  2017  \n",
       "2011752  1.391717e+09        0.0   0.058498      0   00021  2017  \n",
       "2011753  1.391884e+09        0.0   0.058602      0   00021  2017  \n",
       "\n",
       "[464320 rows x 11 columns]"
      ]
     },
     "execution_count": 51,
     "metadata": {},
     "output_type": "execute_result"
    }
   ],
   "source": [
    "class_0"
   ]
  },
  {
   "cell_type": "code",
   "execution_count": 52,
   "metadata": {},
   "outputs": [
    {
     "ename": "SyntaxError",
     "evalue": "invalid syntax (<ipython-input-52-960b831f4383>, line 2)",
     "output_type": "error",
     "traceback": [
      "\u001b[1;36m  File \u001b[1;32m\"<ipython-input-52-960b831f4383>\"\u001b[1;36m, line \u001b[1;32m2\u001b[0m\n\u001b[1;33m    plt.xlabel('WELL_No', fontsize=10);\u001b[0m\n\u001b[1;37m    ^\u001b[0m\n\u001b[1;31mSyntaxError\u001b[0m\u001b[1;31m:\u001b[0m invalid syntax\n"
     ]
    }
   ],
   "source": [
    "class_0.groupby(['WELL_No','year'].size().plot(kind='bar', title = 'WELL_No ¦ year')\n",
    "plt.xlabel('WELL_No', fontsize=10);\n",
    "plt.ylabel('count', fontsize=10)"
   ]
  },
  {
   "cell_type": "code",
   "execution_count": null,
   "metadata": {},
   "outputs": [],
   "source": [
    "df_class_0 = class_0.groupby(['WELL_No', 'year']).size().unstack(level=1)\n",
    "df_class_0.plot(kind = 'bar')"
   ]
  },
  {
   "cell_type": "markdown",
   "metadata": {},
   "source": [
    "# class_101 "
   ]
  },
  {
   "cell_type": "code",
   "execution_count": null,
   "metadata": {},
   "outputs": [],
   "source": [
    "class_101"
   ]
  },
  {
   "cell_type": "code",
   "execution_count": null,
   "metadata": {},
   "outputs": [],
   "source": [
    "class_101['year'] = pd.DatetimeIndex(class_101['timestamp']).year\n",
    "class_101['class'] = class_101['class'].astype('int64')\n",
    "class_101['class'].dtype"
   ]
  },
  {
   "cell_type": "code",
   "execution_count": null,
   "metadata": {},
   "outputs": [],
   "source": [
    "nulls = class_101.isnull().sum()\n",
    "nulls[nulls > 0]"
   ]
  },
  {
   "cell_type": "code",
   "execution_count": null,
   "metadata": {},
   "outputs": [],
   "source": [
    "class_101['P-PDG'] = class_101['P-PDG'].fillna(class_101['P-PDG'].mean())\n",
    "class_101['P-TPT'] = class_101['P-TPT'].fillna(class_101['P-TPT'].mean())\n",
    "\n",
    "class_101['T-TPT'] = class_101['T-TPT'].fillna(class_101['T-TPT'].mean())\n",
    "class_101['P-MON-CKP'] = class_101['P-MON-CKP'].fillna(class_101['P-MON-CKP'].mean())\n",
    "\n",
    "class_101['T-JUS-CKP'] = class_101['T-JUS-CKP'].fillna(class_101['T-JUS-CKP'].mean())\n",
    "class_101['P-JUS-CKGL'] = class_101['P-JUS-CKGL'].fillna(class_101['P-JUS-CKGL'].mean())\n",
    "\n",
    "class_101['T-JUS-CKGL'] = class_101['T-JUS-CKGL'].fillna(class_101['T-JUS-CKGL'].mean())\n",
    "class_101['QGL'] = class_101['QGL'].fillna(class_101['QGL'].mean())"
   ]
  },
  {
   "cell_type": "code",
   "execution_count": null,
   "metadata": {},
   "outputs": [],
   "source": [
    "#replacing Nan with 0\n",
    "class_101 = class_101.fillna(0)"
   ]
  },
  {
   "cell_type": "code",
   "execution_count": null,
   "metadata": {},
   "outputs": [],
   "source": [
    "nulls1 = class_101.isnull().sum()\n",
    "nulls1[nulls > 0]"
   ]
  },
  {
   "cell_type": "code",
   "execution_count": null,
   "metadata": {},
   "outputs": [],
   "source": [
    "class_101.rename(columns={'P-PDG': 'P-sensor1', 'P-TPT': 'P-sensor2', 'T-TPT': 'T-sensor1', \\\n",
    "                            'P-MON-CKP': 'P-sensor3', 'T-JUS-CKP': 'T-sensor2', 'P-JUS-CKGL': 'P-sensor4'\\\n",
    "                             , 'T-JUS-CKGL': 'T-sensor3', 'QGL': 'P-sensor5'}, inplace=True)\n",
    "class_101 = class_101.drop(columns=\"timestamp\")"
   ]
  },
  {
   "cell_type": "code",
   "execution_count": null,
   "metadata": {},
   "outputs": [],
   "source": [
    "class_101"
   ]
  },
  {
   "cell_type": "code",
   "execution_count": null,
   "metadata": {},
   "outputs": [],
   "source": [
    "df_class_101 = class_101.groupby(['WELL_No', 'year']).size().unstack(level=1)\n",
    "df_class_101.plot(kind = 'bar')"
   ]
  },
  {
   "cell_type": "markdown",
   "metadata": {},
   "source": [
    "# class_102"
   ]
  },
  {
   "cell_type": "code",
   "execution_count": null,
   "metadata": {},
   "outputs": [],
   "source": [
    "class_102"
   ]
  },
  {
   "cell_type": "code",
   "execution_count": null,
   "metadata": {},
   "outputs": [],
   "source": [
    "class_102['year'] = pd.DatetimeIndex(class_102['timestamp']).year\n",
    "class_102['class'] = class_102['class'].astype('int64')\n",
    "class_102['class'].dtype"
   ]
  },
  {
   "cell_type": "code",
   "execution_count": null,
   "metadata": {},
   "outputs": [],
   "source": [
    "nulls = class_102.isnull().sum()\n",
    "nulls[nulls > 0]\n",
    "\n",
    "class_102['P-PDG'] = class_102['P-PDG'].fillna(class_102['P-PDG'].mean())\n",
    "class_102['P-TPT'] = class_102['P-TPT'].fillna(class_102['P-TPT'].mean())\n",
    "\n",
    "class_102['T-TPT'] = class_102['T-TPT'].fillna(class_102['T-TPT'].mean())\n",
    "class_102['P-MON-CKP'] = class_102['P-MON-CKP'].fillna(class_102['P-MON-CKP'].mean())\n",
    "\n",
    "class_102['T-JUS-CKP'] = class_102['T-JUS-CKP'].fillna(class_102['T-JUS-CKP'].mean())\n",
    "class_102['P-JUS-CKGL'] = class_102['P-JUS-CKGL'].fillna(class_102['P-JUS-CKGL'].mean())\n",
    "\n",
    "class_102['T-JUS-CKGL'] = class_102['T-JUS-CKGL'].fillna(class_102['T-JUS-CKGL'].mean())\n",
    "class_102['QGL'] = class_102['QGL'].fillna(class_102['QGL'].mean())\n",
    "\n",
    "#replacing Nan with 0\n",
    "class_102 = class_102.fillna(0)\n",
    "\n",
    "nulls1 = class_102.isnull().sum()\n",
    "nulls1[nulls > 0]\n",
    "\n",
    "class_102.rename(columns={'P-PDG': 'P-sensor1', 'P-TPT': 'P-sensor2', 'T-TPT': 'T-sensor1', \\\n",
    "                            'P-MON-CKP': 'P-sensor3', 'T-JUS-CKP': 'T-sensor2', 'P-JUS-CKGL': 'P-sensor4'\\\n",
    "                             , 'T-JUS-CKGL': 'T-sensor3', 'QGL': 'P-sensor5'}, inplace=True)\n",
    "class_102 = class_102.drop(columns=\"timestamp\")"
   ]
  },
  {
   "cell_type": "code",
   "execution_count": null,
   "metadata": {},
   "outputs": [],
   "source": [
    "class_102"
   ]
  },
  {
   "cell_type": "code",
   "execution_count": null,
   "metadata": {},
   "outputs": [],
   "source": [
    "df_class_102 = class_102.groupby(['WELL_No', 'year']).size().unstack(level=1)\n",
    "df_class_102.plot(kind = 'bar')"
   ]
  },
  {
   "cell_type": "markdown",
   "metadata": {},
   "source": [
    "# class_105"
   ]
  },
  {
   "cell_type": "code",
   "execution_count": null,
   "metadata": {},
   "outputs": [],
   "source": []
  },
  {
   "cell_type": "code",
   "execution_count": null,
   "metadata": {},
   "outputs": [],
   "source": [
    "class_105['year'] = pd.DatetimeIndex(class_105['timestamp']).year\n",
    "class_105['class'] = class_105['class'].astype('int64')\n",
    "class_105['class'].dtype\n",
    "\n",
    "nulls = class_105.isnull().sum()\n",
    "nulls[nulls > 0]\n",
    "\n",
    "class_105['P-PDG'] = class_105['P-PDG'].fillna(class_105['P-PDG'].mean())\n",
    "class_105['P-TPT'] = class_105['P-TPT'].fillna(class_105['P-TPT'].mean())\n",
    "\n",
    "class_105['T-TPT'] = class_105['T-TPT'].fillna(class_105['T-TPT'].mean())\n",
    "class_105['P-MON-CKP'] = class_105['P-MON-CKP'].fillna(class_105['P-MON-CKP'].mean())\n",
    "\n",
    "class_105['T-JUS-CKP'] = class_105['T-JUS-CKP'].fillna(class_105['T-JUS-CKP'].mean())\n",
    "class_105['P-JUS-CKGL'] = class_105['P-JUS-CKGL'].fillna(class_105['P-JUS-CKGL'].mean())\n",
    "\n",
    "class_105['T-JUS-CKGL'] = class_105['T-JUS-CKGL'].fillna(class_105['T-JUS-CKGL'].mean())\n",
    "class_105['QGL'] = class_105['QGL'].fillna(class_105['QGL'].mean())\n",
    "\n",
    "#replacing Nan with 0\n",
    "class_105 = class_105.fillna(0)\n",
    "\n",
    "nulls1 = class_105.isnull().sum()\n",
    "nulls1[nulls > 0]\n",
    "\n",
    "class_105.rename(columns={'P-PDG': 'P-sensor1', 'P-TPT': 'P-sensor2', 'T-TPT': 'T-sensor1', \\\n",
    "                            'P-MON-CKP': 'P-sensor3', 'T-JUS-CKP': 'T-sensor2', 'P-JUS-CKGL': 'P-sensor4'\\\n",
    "                             , 'T-JUS-CKGL': 'T-sensor3', 'QGL': 'P-sensor5'}, inplace=True)\n",
    "class_105 = class_105.drop(columns=\"timestamp\")"
   ]
  },
  {
   "cell_type": "code",
   "execution_count": null,
   "metadata": {},
   "outputs": [],
   "source": []
  },
  {
   "cell_type": "code",
   "execution_count": null,
   "metadata": {},
   "outputs": [],
   "source": [
    "df_class_105 = class_105.groupby(['WELL_No', 'year']).size().unstack(level=1)\n",
    "df_class_105.plot(kind = 'bar')"
   ]
  },
  {
   "cell_type": "markdown",
   "metadata": {},
   "source": [
    "# class_106"
   ]
  },
  {
   "cell_type": "code",
   "execution_count": null,
   "metadata": {},
   "outputs": [],
   "source": [
    "class_106['year'] = pd.DatetimeIndex(class_106['timestamp']).year\n",
    "class_106['class'] = class_106['class'].astype('int64')\n",
    "class_106['class'].dtype\n",
    "\n",
    "nulls = class_106.isnull().sum()\n",
    "nulls[nulls > 0]\n",
    "\n",
    "class_106['P-PDG'] = class_106['P-PDG'].fillna(class_106['P-PDG'].mean())\n",
    "class_106['P-TPT'] = class_106['P-TPT'].fillna(class_106['P-TPT'].mean())\n",
    "\n",
    "class_106['T-TPT'] = class_106['T-TPT'].fillna(class_106['T-TPT'].mean())\n",
    "class_106['P-MON-CKP'] = class_106['P-MON-CKP'].fillna(class_106['P-MON-CKP'].mean())\n",
    "\n",
    "class_106['T-JUS-CKP'] = class_106['T-JUS-CKP'].fillna(class_106['T-JUS-CKP'].mean())\n",
    "class_106['P-JUS-CKGL'] = class_106['P-JUS-CKGL'].fillna(class_106['P-JUS-CKGL'].mean())\n",
    "\n",
    "class_106['T-JUS-CKGL'] = class_106['T-JUS-CKGL'].fillna(class_106['T-JUS-CKGL'].mean())\n",
    "class_106['QGL'] = class_106['QGL'].fillna(class_106['QGL'].mean())\n",
    "\n",
    "#replacing Nan with 0\n",
    "class_106 = class_106.fillna(0)\n",
    "\n",
    "nulls1 = class_106.isnull().sum()\n",
    "nulls1[nulls > 0]\n",
    "\n",
    "class_106.rename(columns={'P-PDG': 'P-sensor1', 'P-TPT': 'P-sensor2', 'T-TPT': 'T-sensor1', \\\n",
    "                            'P-MON-CKP': 'P-sensor3', 'T-JUS-CKP': 'T-sensor2', 'P-JUS-CKGL': 'P-sensor4'\\\n",
    "                             , 'T-JUS-CKGL': 'T-sensor3', 'QGL': 'P-sensor5'}, inplace=True)\n",
    "class_106 = class_106.drop(columns=\"timestamp\")"
   ]
  },
  {
   "cell_type": "code",
   "execution_count": null,
   "metadata": {},
   "outputs": [],
   "source": [
    "class_106"
   ]
  },
  {
   "cell_type": "code",
   "execution_count": null,
   "metadata": {},
   "outputs": [],
   "source": [
    "df_class_106 = class_106.groupby(['WELL_No', 'year']).size().unstack(level=1)\n",
    "df_class_106.plot(kind = 'bar')"
   ]
  },
  {
   "cell_type": "markdown",
   "metadata": {},
   "source": [
    "# class_107"
   ]
  },
  {
   "cell_type": "code",
   "execution_count": null,
   "metadata": {},
   "outputs": [],
   "source": [
    "class_107['year'] = pd.DatetimeIndex(class_107['timestamp']).year\n",
    "class_107['class'] = class_107['class'].astype('int64')\n",
    "class_107['class'].dtype\n",
    "\n",
    "nulls = class_107.isnull().sum()\n",
    "nulls[nulls > 0]\n",
    "\n",
    "class_107['P-PDG'] = class_107['P-PDG'].fillna(class_107['P-PDG'].mean())\n",
    "class_107['P-TPT'] = class_107['P-TPT'].fillna(class_107['P-TPT'].mean())\n",
    "\n",
    "class_107['T-TPT'] = class_107['T-TPT'].fillna(class_107['T-TPT'].mean())\n",
    "class_107['P-MON-CKP'] = class_107['P-MON-CKP'].fillna(class_107['P-MON-CKP'].mean())\n",
    "\n",
    "class_107['T-JUS-CKP'] = class_107['T-JUS-CKP'].fillna(class_107['T-JUS-CKP'].mean())\n",
    "class_107['P-JUS-CKGL'] = class_107['P-JUS-CKGL'].fillna(class_107['P-JUS-CKGL'].mean())\n",
    "\n",
    "class_107['T-JUS-CKGL'] = class_107['T-JUS-CKGL'].fillna(class_107['T-JUS-CKGL'].mean())\n",
    "class_107['QGL'] = class_107['QGL'].fillna(class_107['QGL'].mean())\n",
    "\n",
    "#replacing Nan with 0\n",
    "class_107 = class_107.fillna(0)\n",
    "\n",
    "nulls1 = class_107.isnull().sum()\n",
    "nulls1[nulls > 0]\n",
    "\n",
    "class_107.rename(columns={'P-PDG': 'P-sensor1', 'P-TPT': 'P-sensor2', 'T-TPT': 'T-sensor1', \\\n",
    "                            'P-MON-CKP': 'P-sensor3', 'T-JUS-CKP': 'T-sensor2', 'P-JUS-CKGL': 'P-sensor4'\\\n",
    "                             , 'T-JUS-CKGL': 'T-sensor3', 'QGL': 'P-sensor5'}, inplace=True)\n",
    "class_107 = class_107.drop(columns=\"timestamp\")"
   ]
  },
  {
   "cell_type": "code",
   "execution_count": null,
   "metadata": {},
   "outputs": [],
   "source": [
    "df_class_107 = class_107.groupby(['WELL_No', 'year']).size().unstack(level=1)\n",
    "df_class_107.plot(kind = 'bar')"
   ]
  },
  {
   "cell_type": "markdown",
   "metadata": {},
   "source": [
    "# class_108"
   ]
  },
  {
   "cell_type": "code",
   "execution_count": null,
   "metadata": {},
   "outputs": [],
   "source": [
    "class_108['year'] = pd.DatetimeIndex(class_108['timestamp']).year\n",
    "class_108['class'] = class_108['class'].astype('int64')\n",
    "class_108['class'].dtype\n",
    "\n",
    "nulls = class_108.isnull().sum()\n",
    "nulls[nulls > 0]\n",
    "\n",
    "class_108['P-PDG'] = class_108['P-PDG'].fillna(class_108['P-PDG'].mean())\n",
    "class_108['P-TPT'] = class_108['P-TPT'].fillna(class_108['P-TPT'].mean())\n",
    "\n",
    "class_108['T-TPT'] = class_108['T-TPT'].fillna(class_108['T-TPT'].mean())\n",
    "class_108['P-MON-CKP'] = class_108['P-MON-CKP'].fillna(class_108['P-MON-CKP'].mean())\n",
    "\n",
    "class_108['T-JUS-CKP'] = class_108['T-JUS-CKP'].fillna(class_108['T-JUS-CKP'].mean())\n",
    "class_108['P-JUS-CKGL'] = class_108['P-JUS-CKGL'].fillna(class_108['P-JUS-CKGL'].mean())\n",
    "\n",
    "class_108['T-JUS-CKGL'] = class_108['T-JUS-CKGL'].fillna(class_108['T-JUS-CKGL'].mean())\n",
    "class_108['QGL'] = class_108['QGL'].fillna(class_108['QGL'].mean())\n",
    "\n",
    "#replacing Nan with 0\n",
    "class_108 = class_108.fillna(0)\n",
    "\n",
    "nulls1 = class_108.isnull().sum()\n",
    "nulls1[nulls > 0]\n",
    "\n",
    "class_108.rename(columns={'P-PDG': 'P-sensor1', 'P-TPT': 'P-sensor2', 'T-TPT': 'T-sensor1', \\\n",
    "                            'P-MON-CKP': 'P-sensor3', 'T-JUS-CKP': 'T-sensor2', 'P-JUS-CKGL': 'P-sensor4'\\\n",
    "                             , 'T-JUS-CKGL': 'T-sensor3', 'QGL': 'P-sensor5'}, inplace=True)\n",
    "class_108 = class_108.drop(columns=\"timestamp\")"
   ]
  },
  {
   "cell_type": "code",
   "execution_count": null,
   "metadata": {},
   "outputs": [],
   "source": [
    "df_class_108 = class_108.groupby(['WELL_No', 'year']).size().unstack(level=1)\n",
    "df_class_108.plot(kind = 'bar')"
   ]
  },
  {
   "cell_type": "code",
   "execution_count": null,
   "metadata": {},
   "outputs": [],
   "source": []
  },
  {
   "cell_type": "code",
   "execution_count": null,
   "metadata": {},
   "outputs": [],
   "source": [
    "mega_class = final_class.append(class_101).append(class_102).append(class_105). \\\n",
    "              append(class_106).append(class_107).append(class_108)"
   ]
  },
  {
   "cell_type": "code",
   "execution_count": null,
   "metadata": {},
   "outputs": [],
   "source": [
    "nulls = mega_class.isnull().sum()\n",
    "nulls[nulls > 0]"
   ]
  },
  {
   "cell_type": "code",
   "execution_count": null,
   "metadata": {},
   "outputs": [],
   "source": []
  },
  {
   "cell_type": "code",
   "execution_count": null,
   "metadata": {},
   "outputs": [],
   "source": [
    "sns.scatterplot(x=\"year\", y=\"WELL_No\", data=final_class, hue=\"class\",size=\"class\")"
   ]
  },
  {
   "cell_type": "code",
   "execution_count": null,
   "metadata": {},
   "outputs": [],
   "source": []
  },
  {
   "cell_type": "code",
   "execution_count": null,
   "metadata": {},
   "outputs": [],
   "source": []
  },
  {
   "cell_type": "code",
   "execution_count": null,
   "metadata": {},
   "outputs": [],
   "source": []
  },
  {
   "cell_type": "code",
   "execution_count": null,
   "metadata": {},
   "outputs": [],
   "source": []
  },
  {
   "cell_type": "code",
   "execution_count": null,
   "metadata": {},
   "outputs": [],
   "source": []
  },
  {
   "cell_type": "code",
   "execution_count": null,
   "metadata": {},
   "outputs": [],
   "source": []
  },
  {
   "cell_type": "code",
   "execution_count": null,
   "metadata": {},
   "outputs": [],
   "source": []
  },
  {
   "cell_type": "code",
   "execution_count": null,
   "metadata": {},
   "outputs": [],
   "source": []
  },
  {
   "cell_type": "code",
   "execution_count": null,
   "metadata": {},
   "outputs": [],
   "source": []
  },
  {
   "cell_type": "code",
   "execution_count": null,
   "metadata": {},
   "outputs": [],
   "source": []
  },
  {
   "cell_type": "code",
   "execution_count": null,
   "metadata": {},
   "outputs": [],
   "source": []
  },
  {
   "cell_type": "code",
   "execution_count": null,
   "metadata": {},
   "outputs": [],
   "source": []
  },
  {
   "cell_type": "code",
   "execution_count": null,
   "metadata": {},
   "outputs": [],
   "source": []
  },
  {
   "cell_type": "code",
   "execution_count": null,
   "metadata": {},
   "outputs": [],
   "source": []
  },
  {
   "cell_type": "code",
   "execution_count": null,
   "metadata": {},
   "outputs": [],
   "source": []
  },
  {
   "cell_type": "code",
   "execution_count": null,
   "metadata": {},
   "outputs": [],
   "source": []
  },
  {
   "cell_type": "code",
   "execution_count": null,
   "metadata": {},
   "outputs": [],
   "source": []
  },
  {
   "cell_type": "code",
   "execution_count": null,
   "metadata": {},
   "outputs": [],
   "source": []
  },
  {
   "cell_type": "code",
   "execution_count": null,
   "metadata": {},
   "outputs": [],
   "source": []
  },
  {
   "cell_type": "code",
   "execution_count": null,
   "metadata": {},
   "outputs": [],
   "source": []
  },
  {
   "cell_type": "code",
   "execution_count": null,
   "metadata": {},
   "outputs": [],
   "source": []
  },
  {
   "cell_type": "code",
   "execution_count": null,
   "metadata": {},
   "outputs": [],
   "source": []
  },
  {
   "cell_type": "code",
   "execution_count": null,
   "metadata": {},
   "outputs": [],
   "source": []
  },
  {
   "cell_type": "code",
   "execution_count": null,
   "metadata": {},
   "outputs": [],
   "source": []
  },
  {
   "cell_type": "code",
   "execution_count": null,
   "metadata": {},
   "outputs": [],
   "source": []
  },
  {
   "cell_type": "code",
   "execution_count": null,
   "metadata": {},
   "outputs": [],
   "source": []
  },
  {
   "cell_type": "code",
   "execution_count": null,
   "metadata": {},
   "outputs": [],
   "source": []
  },
  {
   "cell_type": "code",
   "execution_count": null,
   "metadata": {},
   "outputs": [],
   "source": [
    "%matplotlib inline\n",
    "\n",
    "from mlxtend.plotting import plot_decision_regions\n",
    "from mlxtend.plotting import category_scatter\n",
    "\n",
    "from sklearn.datasets import make_blobs\n",
    "from sklearn.datasets import make_moons\n",
    "from sklearn.tree import DecisionTreeClassifier\n",
    "from sklearn.linear_model import LogisticRegression\n",
    "from sklearn.neighbors import KNeighborsClassifier\n",
    "from sklearn.ensemble import RandomForestClassifier\n",
    "from sklearn.svm import SVC\n",
    "from sklearn.model_selection import train_test_split\n",
    "from sklearn.datasets import load_breast_cancer\n",
    "from sklearn.metrics import classification_report\n",
    "from sklearn.metrics import confusion_matrix\n",
    "from sklearn.metrics import precision_score, recall_score, accuracy_score"
   ]
  },
  {
   "cell_type": "code",
   "execution_count": 54,
   "metadata": {},
   "outputs": [
    {
     "name": "stdout",
     "output_type": "stream",
     "text": [
      "Collecting package metadata (current_repodata.json): ...working... done\n",
      "Solving environment: ...working... done\n",
      "\n",
      "# All requested packages already installed.\n",
      "\n"
     ]
    }
   ],
   "source": [
    "!conda install python-graphviz --yes"
   ]
  },
  {
   "cell_type": "code",
   "execution_count": null,
   "metadata": {},
   "outputs": [],
   "source": [
    "import graphviz\n",
    "from sklearn.tree import export_graphviz\n"
   ]
  },
  {
   "cell_type": "code",
   "execution_count": null,
   "metadata": {},
   "outputs": [],
   "source": []
  },
  {
   "cell_type": "code",
   "execution_count": null,
   "metadata": {},
   "outputs": [],
   "source": []
  },
  {
   "cell_type": "code",
   "execution_count": null,
   "metadata": {},
   "outputs": [],
   "source": []
  },
  {
   "cell_type": "code",
   "execution_count": null,
   "metadata": {},
   "outputs": [],
   "source": []
  },
  {
   "cell_type": "code",
   "execution_count": null,
   "metadata": {},
   "outputs": [],
   "source": []
  },
  {
   "cell_type": "markdown",
   "metadata": {},
   "source": [
    "# Random Forest"
   ]
  },
  {
   "cell_type": "code",
   "execution_count": null,
   "metadata": {},
   "outputs": [],
   "source": []
  },
  {
   "cell_type": "code",
   "execution_count": 220,
   "metadata": {},
   "outputs": [],
   "source": [
    "features = ['P-sensor1', 'P-sensor2', 'P-sensor3', 'P-sensor4', 'T-sensor1', 'T-sensor2', 'T-sensor3']\n",
    "\n",
    "X = pd.get_dummies(final_class[features], drop_first=True)\n",
    "\n",
    "y = final_class['WELL_No']"
   ]
  },
  {
   "cell_type": "code",
   "execution_count": 221,
   "metadata": {},
   "outputs": [],
   "source": [
    "X_train, X_test, y_train, y_test = train_test_split(X, y, test_size=0.33, random_state=42)"
   ]
  },
  {
   "cell_type": "code",
   "execution_count": 222,
   "metadata": {},
   "outputs": [
    {
     "data": {
      "text/plain": [
       "(534318, 263172)"
      ]
     },
     "execution_count": 222,
     "metadata": {},
     "output_type": "execute_result"
    }
   ],
   "source": [
    "len(X_train), len(X_test)"
   ]
  },
  {
   "cell_type": "code",
   "execution_count": 223,
   "metadata": {},
   "outputs": [
    {
     "name": "stdout",
     "output_type": "stream",
     "text": [
      "Train score: 0.9993711609940148\n",
      "Test score: 0.9993654340127369\n"
     ]
    }
   ],
   "source": [
    "model = RandomForestClassifier(n_estimators=10, max_depth=5, random_state=42)\n",
    "\n",
    "model.fit(X_train, y_train)\n",
    "\n",
    "y_pred_train = model.predict(X_train)\n",
    "y_pred = model.predict(X_test)\n",
    "\n",
    "print('Train score:', accuracy_score(y_train, y_pred_train))\n",
    "print('Test score:', accuracy_score(y_test, y_pred))"
   ]
  },
  {
   "cell_type": "code",
   "execution_count": 224,
   "metadata": {},
   "outputs": [],
   "source": [
    "#num_trees = range(1, 75)\n",
    "#scores = []\n",
    "\n",
    "#for n in num_trees:\n",
    " #   model = RandomForestClassifier(n_estimators=n, random_state=42)\n",
    "  #  model.fit(X_train, y_train)\n",
    "  #  y_pred = model.predict(X_test)\n",
    " #   scores.append(accuracy_score(y_test, y_pred))"
   ]
  },
  {
   "cell_type": "code",
   "execution_count": 225,
   "metadata": {},
   "outputs": [],
   "source": [
    "#plt.plot(num_trees, scores);"
   ]
  },
  {
   "cell_type": "code",
   "execution_count": 226,
   "metadata": {},
   "outputs": [
    {
     "data": {
      "text/plain": [
       "0.9999962002036691"
      ]
     },
     "execution_count": 226,
     "metadata": {},
     "output_type": "execute_result"
    }
   ],
   "source": [
    "model = DecisionTreeClassifier()\n",
    "model.fit(X_train, y_train)\n",
    "y_pred = model.predict(X_test)\n",
    "accuracy_score(y_test, y_pred)"
   ]
  },
  {
   "cell_type": "code",
   "execution_count": 227,
   "metadata": {},
   "outputs": [
    {
     "data": {
      "image/png": "[encoded data removed]",
      "text/plain": [
       "<Figure size 432x288 with 1 Axes>"
      ]
     },
     "metadata": {},
     "output_type": "display_data"
    }
   ],
   "source": [
    "pd.Series(model.feature_importances_, index=X.columns).sort_values().plot(kind='line');"
   ]
  },
  {
   "cell_type": "code",
   "execution_count": 228,
   "metadata": {},
   "outputs": [
    {
     "data": {
      "text/plain": [
       "array([[ 63676,      0,      0,      0,      0,      0,      0,      0,\n",
       "             0,      0,      0,      0,      0,      0,      0],\n",
       "       [     0,  19307,      0,      0,      0,      0,      0,      0,\n",
       "             0,      0,      0,      0,      0,      0,      0],\n",
       "       [     0,      0,    281,      0,      0,      0,      0,      0,\n",
       "             0,      0,      0,      0,      0,      0,      0],\n",
       "       [     0,      0,      0,    171,      0,      0,      0,      0,\n",
       "             0,      0,      0,      0,      0,      0,      0],\n",
       "       [     0,      0,      0,      0,    381,      0,      0,      0,\n",
       "             0,      0,      0,      0,      0,      0,      0],\n",
       "       [     0,      0,      0,      0,      0,    359,      0,      0,\n",
       "             0,      0,      0,      0,      0,      0,      0],\n",
       "       [     0,      0,      0,      0,      0,      0,    265,      0,\n",
       "             0,      0,      0,      0,      0,      0,      0],\n",
       "       [     0,      0,      0,      0,      0,      0,      0,   4276,\n",
       "             0,      0,      0,      0,      0,      0,      0],\n",
       "       [     0,      0,      0,      0,      0,      0,      0,      0,\n",
       "           166,      0,      0,      0,      0,      0,      0],\n",
       "       [     0,      0,      0,      0,      0,      0,      0,      0,\n",
       "             0, 170068,      0,      1,      0,      0,      0],\n",
       "       [     0,      0,      0,      0,      0,      0,      0,      0,\n",
       "             0,      0,    779,      0,      0,      0,      0],\n",
       "       [     0,      0,      0,      0,      0,      0,      0,      0,\n",
       "             0,      0,      0,   2535,      0,      0,      0],\n",
       "       [     0,      0,      0,      0,      0,      0,      0,      0,\n",
       "             0,      0,      0,      0,    408,      0,      0],\n",
       "       [     0,      0,      0,      0,      0,      0,      0,      0,\n",
       "             0,      0,      0,      0,      0,    351,      0],\n",
       "       [     0,      0,      0,      0,      0,      0,      0,      0,\n",
       "             0,      0,      0,      0,      0,      0,    148]],\n",
       "      dtype=int64)"
      ]
     },
     "execution_count": 228,
     "metadata": {},
     "output_type": "execute_result"
    }
   ],
   "source": [
    "confusion_matrix(y_test, y_pred)"
   ]
  },
  {
   "cell_type": "code",
   "execution_count": 229,
   "metadata": {},
   "outputs": [
    {
     "name": "stderr",
     "output_type": "stream",
     "text": [
      "C:\\Users\\Indrani B\\anaconda3\\lib\\site-packages\\sklearn\\linear_model\\_logistic.py:762: ConvergenceWarning: lbfgs failed to converge (status=1):\n",
      "STOP: TOTAL NO. of ITERATIONS REACHED LIMIT.\n",
      "\n",
      "Increase the number of iterations (max_iter) or scale the data as shown in:\n",
      "    https://scikit-learn.org/stable/modules/preprocessing.html\n",
      "Please also refer to the documentation for alternative solver options:\n",
      "    https://scikit-learn.org/stable/modules/linear_model.html#logistic-regression\n",
      "  n_iter_i = _check_optimize_result(\n"
     ]
    },
    {
     "name": "stdout",
     "output_type": "stream",
     "text": [
      "Logistic Regression 0.9714787287401395\n",
      "Decision Tree 0.9999962002036691\n"
     ]
    }
   ],
   "source": [
    "X_train, X_test, y_train, y_test = train_test_split(X, y, test_size=0.33, random_state=42)\n",
    "\n",
    "lr = LogisticRegression()\n",
    "dt = DecisionTreeClassifier()\n",
    "\n",
    "lr.fit(X_train, y_train)\n",
    "dt.fit(X_train, y_train)\n",
    "\n",
    "print('Logistic Regression', lr.score(X_test, y_test))\n",
    "print('Decision Tree', dt.score(X_test, y_test))"
   ]
  },
  {
   "cell_type": "code",
   "execution_count": 230,
   "metadata": {},
   "outputs": [
    {
     "data": {
      "image/png": "[encoded data removed]",
      "text/plain": [
       "<Figure size 432x288 with 1 Axes>"
      ]
     },
     "metadata": {},
     "output_type": "display_data"
    }
   ],
   "source": [
    "pd.Series(lr.coef_[0], index=X.columns).sort_values().plot(kind='bar');"
   ]
  },
  {
   "cell_type": "code",
   "execution_count": null,
   "metadata": {},
   "outputs": [],
   "source": []
  },
  {
   "cell_type": "code",
   "execution_count": null,
   "metadata": {},
   "outputs": [],
   "source": []
  },
  {
   "cell_type": "code",
   "execution_count": null,
   "metadata": {},
   "outputs": [],
   "source": [
    "\n",
    "\n"
   ]
  },
  {
   "cell_type": "code",
   "execution_count": 232,
   "metadata": {},
   "outputs": [
    {
     "name": "stdout",
     "output_type": "stream",
     "text": [
      "Requirement already satisfied: pandas-profiling[notebook] in c:\\users\\indrani b\\anaconda3\\lib\\site-packages (2.9.0)\n",
      "Requirement already satisfied: missingno>=0.4.2 in c:\\users\\indrani b\\anaconda3\\lib\\site-packages (from pandas-profiling[notebook]) (0.4.2)\n",
      "Requirement already satisfied: tqdm>=4.43.0 in c:\\users\\indrani b\\anaconda3\\lib\\site-packages (from pandas-profiling[notebook]) (4.47.0)\n",
      "Requirement already satisfied: ipywidgets>=7.5.1 in c:\\users\\indrani b\\anaconda3\\lib\\site-packages (from pandas-profiling[notebook]) (7.5.1)\n",
      "Requirement already satisfied: matplotlib>=3.2.0 in c:\\users\\indrani b\\anaconda3\\lib\\site-packages (from pandas-profiling[notebook]) (3.2.2)\n",
      "Requirement already satisfied: tangled-up-in-unicode>=0.0.6 in c:\\users\\indrani b\\anaconda3\\lib\\site-packages (from pandas-profiling[notebook]) (0.0.6)\n",
      "Requirement already satisfied: seaborn>=0.10.1 in c:\\users\\indrani b\\anaconda3\\lib\\site-packages (from pandas-profiling[notebook]) (0.11.0)\n",
      "Requirement already satisfied: phik>=0.9.10 in c:\\users\\indrani b\\anaconda3\\lib\\site-packages (from pandas-profiling[notebook]) (0.10.0)\n",
      "Requirement already satisfied: requests>=2.23.0 in c:\\users\\indrani b\\anaconda3\\lib\\site-packages (from pandas-profiling[notebook]) (2.24.0)\n",
      "Requirement already satisfied: joblib in c:\\users\\indrani b\\anaconda3\\lib\\site-packages (from pandas-profiling[notebook]) (0.16.0)\n",
      "Requirement already satisfied: visions[type_image_path]==0.5.0 in c:\\users\\indrani b\\anaconda3\\lib\\site-packages (from pandas-profiling[notebook]) (0.5.0)\n",
      "Requirement already satisfied: attrs>=19.3.0 in c:\\users\\indrani b\\anaconda3\\lib\\site-packages (from pandas-profiling[notebook]) (19.3.0)\n",
      "Requirement already satisfied: scipy>=1.4.1 in c:\\users\\indrani b\\anaconda3\\lib\\site-packages (from pandas-profiling[notebook]) (1.5.0)\n",
      "Requirement already satisfied: numpy>=1.16.0 in c:\\users\\indrani b\\anaconda3\\lib\\site-packages (from pandas-profiling[notebook]) (1.18.5)\n",
      "Requirement already satisfied: jinja2>=2.11.1 in c:\\users\\indrani b\\anaconda3\\lib\\site-packages (from pandas-profiling[notebook]) (2.11.2)\n",
      "Requirement already satisfied: htmlmin>=0.1.12 in c:\\users\\indrani b\\anaconda3\\lib\\site-packages (from pandas-profiling[notebook]) (0.1.12)\n",
      "Requirement already satisfied: pandas!=1.0.0,!=1.0.1,!=1.0.2,!=1.1.0,>=0.25.3 in c:\\users\\indrani b\\anaconda3\\lib\\site-packages (from pandas-profiling[notebook]) (1.0.5)\n",
      "Requirement already satisfied: confuse>=1.0.0 in c:\\users\\indrani b\\anaconda3\\lib\\site-packages (from pandas-profiling[notebook]) (1.4.0)\n",
      "Requirement already satisfied: jupyter-core>=4.6.3; extra == \"notebook\" in c:\\users\\indrani b\\anaconda3\\lib\\site-packages (from pandas-profiling[notebook]) (4.6.3)\n",
      "Requirement already satisfied: jupyter-client>=6.0.0; extra == \"notebook\" in c:\\users\\indrani b\\anaconda3\\lib\\site-packages (from pandas-profiling[notebook]) (6.1.6)\n",
      "Requirement already satisfied: nbformat>=4.2.0 in c:\\users\\indrani b\\anaconda3\\lib\\site-packages (from ipywidgets>=7.5.1->pandas-profiling[notebook]) (5.0.7)\n",
      "Requirement already satisfied: ipykernel>=4.5.1 in c:\\users\\indrani b\\anaconda3\\lib\\site-packages (from ipywidgets>=7.5.1->pandas-profiling[notebook]) (5.3.2)\n",
      "Requirement already satisfied: ipython>=4.0.0; python_version >= \"3.3\" in c:\\users\\indrani b\\anaconda3\\lib\\site-packages (from ipywidgets>=7.5.1->pandas-profiling[notebook]) (7.16.1)\n",
      "Requirement already satisfied: widgetsnbextension~=3.5.0 in c:\\users\\indrani b\\anaconda3\\lib\\site-packages (from ipywidgets>=7.5.1->pandas-profiling[notebook]) (3.5.1)\n",
      "Requirement already satisfied: traitlets>=4.3.1 in c:\\users\\indrani b\\anaconda3\\lib\\site-packages (from ipywidgets>=7.5.1->pandas-profiling[notebook]) (4.3.3)\n",
      "Requirement already satisfied: python-dateutil>=2.1 in c:\\users\\indrani b\\anaconda3\\lib\\site-packages (from matplotlib>=3.2.0->pandas-profiling[notebook]) (2.8.1)\n",
      "Requirement already satisfied: kiwisolver>=1.0.1 in c:\\users\\indrani b\\anaconda3\\lib\\site-packages (from matplotlib>=3.2.0->pandas-profiling[notebook]) (1.2.0)\n",
      "Requirement already satisfied: pyparsing!=2.0.4,!=2.1.2,!=2.1.6,>=2.0.1 in c:\\users\\indrani b\\anaconda3\\lib\\site-packages (from matplotlib>=3.2.0->pandas-profiling[notebook]) (2.4.7)\n",
      "Requirement already satisfied: cycler>=0.10 in c:\\users\\indrani b\\anaconda3\\lib\\site-packages (from matplotlib>=3.2.0->pandas-profiling[notebook]) (0.10.0)\n",
      "Requirement already satisfied: numba>=0.38.1 in c:\\users\\indrani b\\anaconda3\\lib\\site-packages (from phik>=0.9.10->pandas-profiling[notebook]) (0.50.1)\n",
      "Requirement already satisfied: urllib3!=1.25.0,!=1.25.1,<1.26,>=1.21.1 in c:\\users\\indrani b\\anaconda3\\lib\\site-packages (from requests>=2.23.0->pandas-profiling[notebook]) (1.25.9)\n",
      "Requirement already satisfied: certifi>=2017.4.17 in c:\\users\\indrani b\\anaconda3\\lib\\site-packages (from requests>=2.23.0->pandas-profiling[notebook]) (2020.11.8)\n",
      "Requirement already satisfied: idna<3,>=2.5 in c:\\users\\indrani b\\anaconda3\\lib\\site-packages (from requests>=2.23.0->pandas-profiling[notebook]) (2.10)\n",
      "Requirement already satisfied: chardet<4,>=3.0.2 in c:\\users\\indrani b\\anaconda3\\lib\\site-packages (from requests>=2.23.0->pandas-profiling[notebook]) (3.0.4)\n",
      "Requirement already satisfied: networkx>=2.4 in c:\\users\\indrani b\\anaconda3\\lib\\site-packages (from visions[type_image_path]==0.5.0->pandas-profiling[notebook]) (2.4)\n",
      "Requirement already satisfied: Pillow; extra == \"type_image_path\" in c:\\users\\indrani b\\anaconda3\\lib\\site-packages (from visions[type_image_path]==0.5.0->pandas-profiling[notebook]) (7.2.0)\n",
      "Requirement already satisfied: imagehash; extra == \"type_image_path\" in c:\\users\\indrani b\\anaconda3\\lib\\site-packages (from visions[type_image_path]==0.5.0->pandas-profiling[notebook]) (4.2.0)\n",
      "Requirement already satisfied: MarkupSafe>=0.23 in c:\\users\\indrani b\\anaconda3\\lib\\site-packages (from jinja2>=2.11.1->pandas-profiling[notebook]) (1.1.1)\n",
      "Requirement already satisfied: pytz>=2017.2 in c:\\users\\indrani b\\anaconda3\\lib\\site-packages (from pandas!=1.0.0,!=1.0.1,!=1.0.2,!=1.1.0,>=0.25.3->pandas-profiling[notebook]) (2020.1)\n",
      "Requirement already satisfied: pyyaml in c:\\users\\indrani b\\anaconda3\\lib\\site-packages (from confuse>=1.0.0->pandas-profiling[notebook]) (5.3.1)\n",
      "Requirement already satisfied: pywin32>=1.0; sys_platform == \"win32\" in c:\\users\\indrani b\\anaconda3\\lib\\site-packages (from jupyter-core>=4.6.3; extra == \"notebook\"->pandas-profiling[notebook]) (227)\n",
      "Requirement already satisfied: tornado>=4.1 in c:\\users\\indrani b\\anaconda3\\lib\\site-packages (from jupyter-client>=6.0.0; extra == \"notebook\"->pandas-profiling[notebook]) (6.0.4)\n",
      "Requirement already satisfied: pyzmq>=13 in c:\\users\\indrani b\\anaconda3\\lib\\site-packages (from jupyter-client>=6.0.0; extra == \"notebook\"->pandas-profiling[notebook]) (19.0.1)\n",
      "Requirement already satisfied: jsonschema!=2.5.0,>=2.4 in c:\\users\\indrani b\\anaconda3\\lib\\site-packages (from nbformat>=4.2.0->ipywidgets>=7.5.1->pandas-profiling[notebook]) (3.2.0)\n",
      "Requirement already satisfied: ipython-genutils in c:\\users\\indrani b\\anaconda3\\lib\\site-packages (from nbformat>=4.2.0->ipywidgets>=7.5.1->pandas-profiling[notebook]) (0.2.0)\n",
      "Requirement already satisfied: backcall in c:\\users\\indrani b\\anaconda3\\lib\\site-packages (from ipython>=4.0.0; python_version >= \"3.3\"->ipywidgets>=7.5.1->pandas-profiling[notebook]) (0.2.0)\n",
      "Requirement already satisfied: colorama; sys_platform == \"win32\" in c:\\users\\indrani b\\anaconda3\\lib\\site-packages (from ipython>=4.0.0; python_version >= \"3.3\"->ipywidgets>=7.5.1->pandas-profiling[notebook]) (0.4.3)\n",
      "Requirement already satisfied: setuptools>=18.5 in c:\\users\\indrani b\\anaconda3\\lib\\site-packages (from ipython>=4.0.0; python_version >= \"3.3\"->ipywidgets>=7.5.1->pandas-profiling[notebook]) (49.2.0.post20200714)\n",
      "Requirement already satisfied: decorator in c:\\users\\indrani b\\anaconda3\\lib\\site-packages (from ipython>=4.0.0; python_version >= \"3.3\"->ipywidgets>=7.5.1->pandas-profiling[notebook]) (4.4.2)\n",
      "Requirement already satisfied: pygments in c:\\users\\indrani b\\anaconda3\\lib\\site-packages (from ipython>=4.0.0; python_version >= \"3.3\"->ipywidgets>=7.5.1->pandas-profiling[notebook]) (2.6.1)\n",
      "Requirement already satisfied: prompt-toolkit!=3.0.0,!=3.0.1,<3.1.0,>=2.0.0 in c:\\users\\indrani b\\anaconda3\\lib\\site-packages (from ipython>=4.0.0; python_version >= \"3.3\"->ipywidgets>=7.5.1->pandas-profiling[notebook]) (3.0.5)\n",
      "Requirement already satisfied: pickleshare in c:\\users\\indrani b\\anaconda3\\lib\\site-packages (from ipython>=4.0.0; python_version >= \"3.3\"->ipywidgets>=7.5.1->pandas-profiling[notebook]) (0.7.5)\n",
      "Requirement already satisfied: jedi>=0.10 in c:\\users\\indrani b\\anaconda3\\lib\\site-packages (from ipython>=4.0.0; python_version >= \"3.3\"->ipywidgets>=7.5.1->pandas-profiling[notebook]) (0.17.1)\n",
      "Requirement already satisfied: notebook>=4.4.1 in c:\\users\\indrani b\\anaconda3\\lib\\site-packages (from widgetsnbextension~=3.5.0->ipywidgets>=7.5.1->pandas-profiling[notebook]) (6.0.3)\n",
      "Requirement already satisfied: six in c:\\users\\indrani b\\anaconda3\\lib\\site-packages (from traitlets>=4.3.1->ipywidgets>=7.5.1->pandas-profiling[notebook]) (1.15.0)\n",
      "Requirement already satisfied: llvmlite<0.34,>=0.33.0.dev0 in c:\\users\\indrani b\\anaconda3\\lib\\site-packages (from numba>=0.38.1->phik>=0.9.10->pandas-profiling[notebook]) (0.33.0+1.g022ab0f)\n",
      "Requirement already satisfied: PyWavelets in c:\\users\\indrani b\\anaconda3\\lib\\site-packages (from imagehash; extra == \"type_image_path\"->visions[type_image_path]==0.5.0->pandas-profiling[notebook]) (1.1.1)\n",
      "Requirement already satisfied: pyrsistent>=0.14.0 in c:\\users\\indrani b\\anaconda3\\lib\\site-packages (from jsonschema!=2.5.0,>=2.4->nbformat>=4.2.0->ipywidgets>=7.5.1->pandas-profiling[notebook]) (0.16.0)\n",
      "Requirement already satisfied: wcwidth in c:\\users\\indrani b\\anaconda3\\lib\\site-packages (from prompt-toolkit!=3.0.0,!=3.0.1,<3.1.0,>=2.0.0->ipython>=4.0.0; python_version >= \"3.3\"->ipywidgets>=7.5.1->pandas-profiling[notebook]) (0.2.5)\n",
      "Requirement already satisfied: parso<0.8.0,>=0.7.0 in c:\\users\\indrani b\\anaconda3\\lib\\site-packages (from jedi>=0.10->ipython>=4.0.0; python_version >= \"3.3\"->ipywidgets>=7.5.1->pandas-profiling[notebook]) (0.7.0)\n",
      "Requirement already satisfied: nbconvert in c:\\users\\indrani b\\anaconda3\\lib\\site-packages (from notebook>=4.4.1->widgetsnbextension~=3.5.0->ipywidgets>=7.5.1->pandas-profiling[notebook]) (5.6.1)\n",
      "Requirement already satisfied: prometheus-client in c:\\users\\indrani b\\anaconda3\\lib\\site-packages (from notebook>=4.4.1->widgetsnbextension~=3.5.0->ipywidgets>=7.5.1->pandas-profiling[notebook]) (0.8.0)\n",
      "Requirement already satisfied: terminado>=0.8.1 in c:\\users\\indrani b\\anaconda3\\lib\\site-packages (from notebook>=4.4.1->widgetsnbextension~=3.5.0->ipywidgets>=7.5.1->pandas-profiling[notebook]) (0.8.3)\n",
      "Requirement already satisfied: Send2Trash in c:\\users\\indrani b\\anaconda3\\lib\\site-packages (from notebook>=4.4.1->widgetsnbextension~=3.5.0->ipywidgets>=7.5.1->pandas-profiling[notebook]) (1.5.0)\n",
      "Requirement already satisfied: testpath in c:\\users\\indrani b\\anaconda3\\lib\\site-packages (from nbconvert->notebook>=4.4.1->widgetsnbextension~=3.5.0->ipywidgets>=7.5.1->pandas-profiling[notebook]) (0.4.4)\n",
      "Requirement already satisfied: defusedxml in c:\\users\\indrani b\\anaconda3\\lib\\site-packages (from nbconvert->notebook>=4.4.1->widgetsnbextension~=3.5.0->ipywidgets>=7.5.1->pandas-profiling[notebook]) (0.6.0)\n",
      "Requirement already satisfied: entrypoints>=0.2.2 in c:\\users\\indrani b\\anaconda3\\lib\\site-packages (from nbconvert->notebook>=4.4.1->widgetsnbextension~=3.5.0->ipywidgets>=7.5.1->pandas-profiling[notebook]) (0.3)\n",
      "Requirement already satisfied: bleach in c:\\users\\indrani b\\anaconda3\\lib\\site-packages (from nbconvert->notebook>=4.4.1->widgetsnbextension~=3.5.0->ipywidgets>=7.5.1->pandas-profiling[notebook]) (3.1.5)\n",
      "Requirement already satisfied: pandocfilters>=1.4.1 in c:\\users\\indrani b\\anaconda3\\lib\\site-packages (from nbconvert->notebook>=4.4.1->widgetsnbextension~=3.5.0->ipywidgets>=7.5.1->pandas-profiling[notebook]) (1.4.2)\n",
      "Requirement already satisfied: mistune<2,>=0.8.1 in c:\\users\\indrani b\\anaconda3\\lib\\site-packages (from nbconvert->notebook>=4.4.1->widgetsnbextension~=3.5.0->ipywidgets>=7.5.1->pandas-profiling[notebook]) (0.8.4)\n",
      "Requirement already satisfied: webencodings in c:\\users\\indrani b\\anaconda3\\lib\\site-packages (from bleach->nbconvert->notebook>=4.4.1->widgetsnbextension~=3.5.0->ipywidgets>=7.5.1->pandas-profiling[notebook]) (0.5.1)\n",
      "Requirement already satisfied: packaging in c:\\users\\indrani b\\anaconda3\\lib\\site-packages (from bleach->nbconvert->notebook>=4.4.1->widgetsnbextension~=3.5.0->ipywidgets>=7.5.1->pandas-profiling[notebook]) (20.4)\n"
     ]
    }
   ],
   "source": [
    "!pip install pandas-profiling[notebook]"
   ]
  },
  {
   "cell_type": "code",
   "execution_count": 292,
   "metadata": {
    "scrolled": true
   },
   "outputs": [
    {
     "data": {
      "application/vnd.jupyter.widget-view+json": {
       "model_id": "105655ae0ab24dd38b4f5f201463c5fe",
       "version_major": 2,
       "version_minor": 0
      },
      "text/plain": [
       "HBox(children=(FloatProgress(value=0.0, description='Summarize dataset', max=26.0, style=ProgressStyle(descrip…"
      ]
     },
     "metadata": {},
     "output_type": "display_data"
    },
    {
     "name": "stdout",
     "output_type": "stream",
     "text": [
      "\n"
     ]
    },
    {
     "data": {
      "application/vnd.jupyter.widget-view+json": {
       "model_id": "2df92982c40f43ceb869831b1d954038",
       "version_major": 2,
       "version_minor": 0
      },
      "text/plain": [
       "HBox(children=(FloatProgress(value=0.0, description='Generate report structure', max=1.0, style=ProgressStyle(…"
      ]
     },
     "metadata": {},
     "output_type": "display_data"
    },
    {
     "name": "stdout",
     "output_type": "stream",
     "text": [
      "\n"
     ]
    },
    {
     "data": {
      "application/vnd.jupyter.widget-view+json": {
       "model_id": "",
       "version_major": 2,
       "version_minor": 0
      },
      "text/plain": [
       "HBox(children=(FloatProgress(value=0.0, description='Render widgets', max=1.0, style=ProgressStyle(description…"
      ]
     },
     "metadata": {},
     "output_type": "display_data"
    },
    {
     "data": {
      "application/vnd.jupyter.widget-view+json": {
       "model_id": "0214ac956a704bd48d479e5d9b417a34",
       "version_major": 2,
       "version_minor": 0
      },
      "text/plain": [
       "VBox(children=(Tab(children=(Tab(children=(GridBox(children=(VBox(children=(GridspecLayout(children=(HTML(valu…"
      ]
     },
     "metadata": {},
     "output_type": "display_data"
    }
   ],
   "source": [
    "from pandas_profiling  import ProfileReport\n",
    "\n",
    "#pandas_profiling._version_\n",
    "\n",
    "profile = ProfileReport(final_class, title = 'pandas profiling report')\n",
    "\n",
    "profile.to_widgets()"
   ]
  },
  {
   "cell_type": "code",
   "execution_count": 234,
   "metadata": {},
   "outputs": [],
   "source": [
    "from sklearn.preprocessing import StandardScaler, MinMaxScaler, RobustScaler"
   ]
  },
  {
   "cell_type": "code",
   "execution_count": 238,
   "metadata": {},
   "outputs": [
    {
     "data": {
      "image/png": "[encoded data removed]",
      "text/plain": [
       "<Figure size 432x288 with 1 Axes>"
      ]
     },
     "metadata": {},
     "output_type": "display_data"
    }
   ],
   "source": [
    "scaler = RobustScaler()\n",
    "\n",
    "pd.Series(scaler.fit_transform(final_class[['WELL_No']]).flatten()).plot(kind='hist');"
   ]
  },
  {
   "cell_type": "code",
   "execution_count": null,
   "metadata": {},
   "outputs": [],
   "source": []
  },
  {
   "cell_type": "markdown",
   "metadata": {},
   "source": [
    "# Xgboost "
   ]
  },
  {
   "cell_type": "code",
   "execution_count": 248,
   "metadata": {},
   "outputs": [
    {
     "name": "stdout",
     "output_type": "stream",
     "text": [
      "Collecting xgboost\n",
      "  Downloading xgboost-1.2.1-py3-none-win_amd64.whl (86.5 MB)\n",
      "Requirement already satisfied: scipy in c:\\users\\indrani b\\anaconda3\\lib\\site-packages (from xgboost) (1.5.0)\n",
      "Requirement already satisfied: numpy in c:\\users\\indrani b\\anaconda3\\lib\\site-packages (from xgboost) (1.18.5)\n",
      "Installing collected packages: xgboost\n",
      "Successfully installed xgboost-1.2.1\n"
     ]
    }
   ],
   "source": [
    "!pip install xgboost"
   ]
  },
  {
   "cell_type": "code",
   "execution_count": 249,
   "metadata": {},
   "outputs": [],
   "source": [
    "import xgboost as xgb\n",
    "from sklearn.metrics import mean_squared_error"
   ]
  },
  {
   "cell_type": "code",
   "execution_count": 250,
   "metadata": {},
   "outputs": [],
   "source": [
    "X_train, X_test, y_train, y_test = train_test_split(X, y, test_size=0.2, random_state=123)"
   ]
  },
  {
   "cell_type": "code",
   "execution_count": 251,
   "metadata": {},
   "outputs": [],
   "source": [
    "xg_reg = xgb.XGBRegressor(objective ='reg:linear', colsample_bytree = 0.3, learning_rate = 0.1,\n",
    "                max_depth = 5, alpha = 10, n_estimators = 10)"
   ]
  },
  {
   "cell_type": "code",
   "execution_count": 252,
   "metadata": {},
   "outputs": [
    {
     "name": "stdout",
     "output_type": "stream",
     "text": [
      "[20:39:16] WARNING: C:/Users/Administrator/workspace/xgboost-win64_release_1.2.0/src/objective/regression_obj.cu:174: reg:linear is now deprecated in favor of reg:squarederror.\n",
      "[20:39:17] WARNING: C:/Users/Administrator/workspace/xgboost-win64_release_1.2.0/src/objective/regression_obj.cu:174: reg:linear is now deprecated in favor of reg:squarederror.\n"
     ]
    }
   ],
   "source": [
    "xg_reg.fit(X_train,y_train)\n",
    "\n",
    "preds = xg_reg.predict(X_test)"
   ]
  },
  {
   "cell_type": "code",
   "execution_count": 253,
   "metadata": {},
   "outputs": [
    {
     "name": "stdout",
     "output_type": "stream",
     "text": [
      "RMSE: 3.898173\n"
     ]
    }
   ],
   "source": [
    "rmse = np.sqrt(mean_squared_error(y_test, preds))\n",
    "print(\"RMSE: %f\" % (rmse))"
   ]
  },
  {
   "cell_type": "code",
   "execution_count": 256,
   "metadata": {},
   "outputs": [
    {
     "data": {
      "image/png": "[encoded data removed]",
      "text/plain": [
       "<Figure size 360x360 with 1 Axes>"
      ]
     },
     "metadata": {},
     "output_type": "display_data"
    }
   ],
   "source": [
    "xgb.plot_importance(xg_reg)\n",
    "plt.rcParams['figure.figsize'] = [10, 10]\n",
    "plt.show()"
   ]
  },
  {
   "cell_type": "code",
   "execution_count": null,
   "metadata": {},
   "outputs": [],
   "source": []
  },
  {
   "cell_type": "code",
   "execution_count": null,
   "metadata": {},
   "outputs": [],
   "source": []
  },
  {
   "cell_type": "code",
   "execution_count": null,
   "metadata": {},
   "outputs": [],
   "source": []
  },
  {
   "cell_type": "code",
   "execution_count": null,
   "metadata": {},
   "outputs": [],
   "source": []
  },
  {
   "cell_type": "code",
   "execution_count": null,
   "metadata": {},
   "outputs": [],
   "source": []
  },
  {
   "cell_type": "code",
   "execution_count": null,
   "metadata": {},
   "outputs": [],
   "source": []
  },
  {
   "cell_type": "code",
   "execution_count": null,
   "metadata": {},
   "outputs": [],
   "source": []
  },
  {
   "cell_type": "code",
   "execution_count": null,
   "metadata": {},
   "outputs": [],
   "source": []
  },
  {
   "cell_type": "code",
   "execution_count": null,
   "metadata": {},
   "outputs": [],
   "source": []
  },
  {
   "cell_type": "code",
   "execution_count": null,
   "metadata": {},
   "outputs": [],
   "source": []
  },
  {
   "cell_type": "code",
   "execution_count": null,
   "metadata": {},
   "outputs": [],
   "source": []
  },
  {
   "cell_type": "code",
   "execution_count": null,
   "metadata": {},
   "outputs": [],
   "source": []
  },
  {
   "cell_type": "code",
   "execution_count": null,
   "metadata": {},
   "outputs": [],
   "source": []
  },
  {
   "cell_type": "code",
   "execution_count": 236,
   "metadata": {},
   "outputs": [],
   "source": [
    "from sklearn.linear_model import LogisticRegression\n",
    "from sklearn.model_selection import train_test_split\n",
    "from sklearn.metrics import classification_report\n",
    "from sklearn.metrics import plot_confusion_matrix\n",
    "from sklearn.tree import DecisionTreeClassifier"
   ]
  },
  {
   "cell_type": "code",
   "execution_count": 288,
   "metadata": {},
   "outputs": [
    {
     "name": "stdout",
     "output_type": "stream",
     "text": [
      "              precision    recall  f1-score   support\n",
      "\n",
      "           1       1.00      1.00      1.00     63430\n",
      "           2       1.00      1.00      1.00     19239\n",
      "           3       1.00      1.00      1.00       287\n",
      "           4       1.00      1.00      1.00       183\n",
      "           6       1.00      1.00      1.00       389\n",
      "           9       1.00      1.00      1.00       350\n",
      "          10       1.00      1.00      1.00       267\n",
      "          11       1.00      1.00      1.00      4385\n",
      "          13       1.00      1.00      1.00       167\n",
      "          14       1.00      1.00      1.00    170096\n",
      "          15       1.00      1.00      1.00       835\n",
      "          16       1.00      1.00      1.00      2590\n",
      "          19       1.00      1.00      1.00       436\n",
      "          20       1.00      1.00      1.00       372\n",
      "          21       1.00      1.00      1.00       146\n",
      "\n",
      "    accuracy                           1.00    263172\n",
      "   macro avg       1.00      1.00      1.00    263172\n",
      "weighted avg       1.00      1.00      1.00    263172\n",
      "\n"
     ]
    }
   ],
   "source": [
    "X_copy = final_class.drop(columns='P-sensor5')\n",
    "y_copy = final_class['WELL_No']\n",
    "\n",
    "X_train, X_test, y_train, y_test = train_test_split(X_copy,y_copy,test_size=0.33)\n",
    "model = DecisionTreeClassifier()\n",
    "model.fit(X_train,y_train)\n",
    "y_pred = model.predict(X_test)\n",
    "print(classification_report(y_test,y_pred))"
   ]
  },
  {
   "cell_type": "code",
   "execution_count": 287,
   "metadata": {},
   "outputs": [
    {
     "name": "stdout",
     "output_type": "stream",
     "text": [
      "              precision    recall  f1-score   support\n",
      "\n",
      "           1       1.00      1.00      1.00      1963\n",
      "           2       1.00      1.00      1.00      5494\n",
      "           3       1.00      1.00      1.00    170291\n",
      "           4       1.00      1.00      1.00     76596\n",
      "           5       1.00      1.00      1.00      3259\n",
      "           6       1.00      1.00      1.00      4304\n",
      "           7       1.00      1.00      1.00       278\n",
      "           8       1.00      1.00      1.00       987\n",
      "\n",
      "    accuracy                           1.00    263172\n",
      "   macro avg       1.00      1.00      1.00    263172\n",
      "weighted avg       1.00      1.00      1.00    263172\n",
      "\n"
     ]
    }
   ],
   "source": [
    "X_copy = final_class.drop(columns='P-sensor5')\n",
    "y_copy = final_class['class']\n",
    "\n",
    "X_train, X_test, y_train, y_test = train_test_split(X_copy,y_copy,test_size=0.33)\n",
    "model = DecisionTreeClassifier()\n",
    "model.fit(X_train,y_train)\n",
    "y_pred = model.predict(X_test)\n",
    "print(classification_report(y_test,y_pred))"
   ]
  },
  {
   "cell_type": "code",
   "execution_count": 239,
   "metadata": {},
   "outputs": [
    {
     "name": "stdout",
     "output_type": "stream",
     "text": [
      "              precision    recall  f1-score   support\n",
      "\n",
      "        2012       1.00      1.00      1.00       367\n",
      "        2013       1.00      1.00      1.00     14439\n",
      "        2014       1.00      1.00      1.00      9891\n",
      "        2017       1.00      1.00      1.00    235766\n",
      "        2018       1.00      1.00      1.00      2709\n",
      "\n",
      "    accuracy                           1.00    263172\n",
      "   macro avg       1.00      1.00      1.00    263172\n",
      "weighted avg       1.00      1.00      1.00    263172\n",
      "\n"
     ]
    }
   ],
   "source": [
    "X_copy = final_class.drop(columns='T-sensor1')\n",
    "y_copy = final_class['year']\n",
    "\n",
    "X_train, X_test, y_train, y_test = train_test_split(X_copy,y_copy,test_size=0.33)\n",
    "model = DecisionTreeClassifier()\n",
    "model.fit(X_train,y_train)\n",
    "y_pred = model.predict(X_test)\n",
    "print(classification_report(y_test,y_pred))"
   ]
  },
  {
   "cell_type": "code",
   "execution_count": 366,
   "metadata": {},
   "outputs": [
    {
     "data": {
      "text/plain": [
       "<matplotlib.collections.PathCollection at 0x24ab67cfc70>"
      ]
     },
     "execution_count": 366,
     "metadata": {},
     "output_type": "execute_result"
    },
    {
     "data": {
      "image/png": "[encoded data removed]",
      "text/plain": [
       "<Figure size 432x288 with 1 Axes>"
      ]
     },
     "metadata": {
      "needs_background": "light"
     },
     "output_type": "display_data"
    }
   ],
   "source": [
    "plt.scatter(final_class['T-sensor1'], final_class['T-sensor2'], c='pink')"
   ]
  },
  {
   "cell_type": "code",
   "execution_count": 368,
   "metadata": {},
   "outputs": [
    {
     "name": "stderr",
     "output_type": "stream",
     "text": [
      "C:\\Users\\Indrani B\\anaconda3\\lib\\site-packages\\seaborn\\distributions.py:305: UserWarning: Dataset has 0 variance; skipping density estimate.\n",
      "  warnings.warn(msg, UserWarning)\n",
      "C:\\Users\\Indrani B\\anaconda3\\lib\\site-packages\\seaborn\\distributions.py:305: UserWarning: Dataset has 0 variance; skipping density estimate.\n",
      "  warnings.warn(msg, UserWarning)\n",
      "C:\\Users\\Indrani B\\anaconda3\\lib\\site-packages\\seaborn\\distributions.py:305: UserWarning: Dataset has 0 variance; skipping density estimate.\n",
      "  warnings.warn(msg, UserWarning)\n",
      "C:\\Users\\Indrani B\\anaconda3\\lib\\site-packages\\seaborn\\distributions.py:305: UserWarning: Dataset has 0 variance; skipping density estimate.\n",
      "  warnings.warn(msg, UserWarning)\n",
      "C:\\Users\\Indrani B\\anaconda3\\lib\\site-packages\\seaborn\\distributions.py:305: UserWarning: Dataset has 0 variance; skipping density estimate.\n",
      "  warnings.warn(msg, UserWarning)\n"
     ]
    },
    {
     "data": {
      "text/plain": [
       "<seaborn.axisgrid.PairGrid at 0x24bed403490>"
      ]
     },
     "execution_count": 368,
     "metadata": {},
     "output_type": "execute_result"
    },
    {
     "data": {
      "image/png": "[encoded data removed]",
      "text/plain": [
       "<Figure size 1665.72x1620 with 90 Axes>"
      ]
     },
     "metadata": {
      "needs_background": "light"
     },
     "output_type": "display_data"
    }
   ],
   "source": [
    "sns.pairplot(final_class, hue = 'class')"
   ]
  },
  {
   "cell_type": "code",
   "execution_count": null,
   "metadata": {},
   "outputs": [],
   "source": []
  },
  {
   "cell_type": "code",
   "execution_count": 372,
   "metadata": {},
   "outputs": [
    {
     "data": {
      "image/png": "[encoded data removed]",
      "text/plain": [
       "<Figure size 432x288 with 2 Axes>"
      ]
     },
     "metadata": {
      "needs_background": "light"
     },
     "output_type": "display_data"
    }
   ],
   "source": [
    "ax = sns.heatmap(final_class, cmap=\"YlGnBu\")"
   ]
  },
  {
   "cell_type": "code",
   "execution_count": null,
   "metadata": {},
   "outputs": [],
   "source": []
  },
  {
   "cell_type": "code",
   "execution_count": null,
   "metadata": {},
   "outputs": [],
   "source": []
  },
  {
   "cell_type": "code",
   "execution_count": null,
   "metadata": {},
   "outputs": [],
   "source": []
  },
  {
   "cell_type": "code",
   "execution_count": 380,
   "metadata": {},
   "outputs": [
    {
     "name": "stdout",
     "output_type": "stream",
     "text": [
      "Collecting scikit-plot\n",
      "  Downloading scikit_plot-0.3.7-py3-none-any.whl (33 kB)\n",
      "Requirement already satisfied: scipy>=0.9 in c:\\users\\indrani b\\anaconda3\\lib\\site-packages (from scikit-plot) (1.5.0)\n",
      "Requirement already satisfied: joblib>=0.10 in c:\\users\\indrani b\\anaconda3\\lib\\site-packages (from scikit-plot) (0.16.0)\n",
      "Requirement already satisfied: matplotlib>=1.4.0 in c:\\users\\indrani b\\anaconda3\\lib\\site-packages (from scikit-plot) (3.2.2)\n",
      "Requirement already satisfied: scikit-learn>=0.18 in c:\\users\\indrani b\\anaconda3\\lib\\site-packages (from scikit-plot) (0.23.1)\n",
      "Requirement already satisfied: numpy>=1.14.5 in c:\\users\\indrani b\\anaconda3\\lib\\site-packages (from scipy>=0.9->scikit-plot) (1.18.5)\n",
      "Requirement already satisfied: kiwisolver>=1.0.1 in c:\\users\\indrani b\\anaconda3\\lib\\site-packages (from matplotlib>=1.4.0->scikit-plot) (1.2.0)\n",
      "Requirement already satisfied: cycler>=0.10 in c:\\users\\indrani b\\anaconda3\\lib\\site-packages (from matplotlib>=1.4.0->scikit-plot) (0.10.0)\n",
      "Requirement already satisfied: pyparsing!=2.0.4,!=2.1.2,!=2.1.6,>=2.0.1 in c:\\users\\indrani b\\anaconda3\\lib\\site-packages (from matplotlib>=1.4.0->scikit-plot) (2.4.7)\n",
      "Requirement already satisfied: python-dateutil>=2.1 in c:\\users\\indrani b\\anaconda3\\lib\\site-packages (from matplotlib>=1.4.0->scikit-plot) (2.8.1)\n",
      "Requirement already satisfied: threadpoolctl>=2.0.0 in c:\\users\\indrani b\\anaconda3\\lib\\site-packages (from scikit-learn>=0.18->scikit-plot) (2.1.0)\n",
      "Requirement already satisfied: six in c:\\users\\indrani b\\anaconda3\\lib\\site-packages (from cycler>=0.10->matplotlib>=1.4.0->scikit-plot) (1.15.0)\n",
      "Installing collected packages: scikit-plot\n",
      "Successfully installed scikit-plot-0.3.7\n"
     ]
    }
   ],
   "source": [
    "!pip install scikit-plot"
   ]
  },
  {
   "cell_type": "markdown",
   "metadata": {},
   "source": [
    "# KNN"
   ]
  },
  {
   "cell_type": "code",
   "execution_count": 381,
   "metadata": {},
   "outputs": [],
   "source": [
    "\n",
    "from scikitplot.metrics import plot_silhouette"
   ]
  },
  {
   "cell_type": "code",
   "execution_count": 382,
   "metadata": {},
   "outputs": [],
   "source": [
    "\n",
    "from sklearn.cluster import KMeans\n",
    "from scikitplot.cluster import plot_elbow_curve\n",
    "from scikitplot.metrics import plot_silhouette"
   ]
  },
  {
   "cell_type": "code",
   "execution_count": 383,
   "metadata": {},
   "outputs": [],
   "source": [
    "model = KMeans(4)"
   ]
  },
  {
   "cell_type": "code",
   "execution_count": 384,
   "metadata": {
    "scrolled": true
   },
   "outputs": [
    {
     "data": {
      "text/plain": [
       "<matplotlib.axes._subplots.AxesSubplot at 0x24c0b0a2a00>"
      ]
     },
     "execution_count": 384,
     "metadata": {},
     "output_type": "execute_result"
    },
    {
     "data": {
      "image/png": "[encoded data removed]",
      "text/plain": [
       "<Figure size 864x864 with 2 Axes>"
      ]
     },
     "metadata": {
      "needs_background": "light"
     },
     "output_type": "display_data"
    }
   ],
   "source": [
    "plot_elbow_curve(model,final_class,cluster_ranges=range(2,7),figsize=(12,12))"
   ]
  },
  {
   "cell_type": "code",
   "execution_count": 385,
   "metadata": {},
   "outputs": [
    {
     "data": {
      "text/plain": [
       "KMeans(n_clusters=4)"
      ]
     },
     "execution_count": 385,
     "metadata": {},
     "output_type": "execute_result"
    }
   ],
   "source": [
    "model.fit(final_class)"
   ]
  },
  {
   "cell_type": "code",
   "execution_count": 386,
   "metadata": {},
   "outputs": [
    {
     "data": {
      "text/plain": [
       "array([0, 0, 0, ..., 3, 3, 3])"
      ]
     },
     "execution_count": 386,
     "metadata": {},
     "output_type": "execute_result"
    }
   ],
   "source": [
    "model.labels_"
   ]
  },
  {
   "cell_type": "code",
   "execution_count": 387,
   "metadata": {},
   "outputs": [
    {
     "data": {
      "text/plain": [
       "KMeans(n_clusters=3, random_state=42)"
      ]
     },
     "execution_count": 387,
     "metadata": {},
     "output_type": "execute_result"
    }
   ],
   "source": [
    "model = KMeans(3,random_state=42)\n",
    "model.fit(final_class)"
   ]
  },
  {
   "cell_type": "code",
   "execution_count": 388,
   "metadata": {},
   "outputs": [
    {
     "data": {
      "text/plain": [
       "797490"
      ]
     },
     "execution_count": 388,
     "metadata": {},
     "output_type": "execute_result"
    }
   ],
   "source": [
    "len(model.labels_)"
   ]
  },
  {
   "cell_type": "code",
   "execution_count": null,
   "metadata": {},
   "outputs": [],
   "source": []
  },
  {
   "cell_type": "code",
   "execution_count": 54,
   "metadata": {},
   "outputs": [],
   "source": [
    "# Scatter and density plots\n",
    "def plotScatterMatrix(final_class, plotSize, textSize):\n",
    "    final_class = final_class.select_dtypes(include =[np.number]) # keep only numerical columns\n",
    "    # Remove rows and columns that would lead to df being singular\n",
    "    final_class = final_class.dropna('columns')\n",
    "    final_class = final_class[[col for col in final_class if final_class[col].nunique() > 1]] # keep columns where there are more than 1 unique values\n",
    "    columnNames = list(df)\n",
    "    if len(columnNames) > 10: # reduce the number of columns for matrix inversion of kernel density plots\n",
    "        columnNames = columnNames[:10]\n",
    "    final_class = final_class[columnNames]\n",
    "    ax = pd.plotting.scatter_matrix(final_class, alpha=0.75, figsize=[plotSize, plotSize], diagonal='kde')\n",
    "    corrs = final_class.corr().values\n",
    "    for i, j in zip(*plt.np.triu_indices_from(ax, k = 1)):\n",
    "        ax[i, j].annotate('Corr. coef = %.3f' % corrs[i, j], (0.8, 0.2), xycoords='axes fraction', ha='center', va='center', size=textSize)\n",
    "    plt.suptitle('Scatter and Density Plot')\n",
    "    plt.show()"
   ]
  },
  {
   "cell_type": "code",
   "execution_count": 55,
   "metadata": {},
   "outputs": [
    {
     "ename": "KeyError",
     "evalue": "\"None of [Index(['Unnamed: 0', 'timestamp', 'P-PDG', 'P-TPT', 'T-TPT', 'P-MON-CKP',\\n       'T-JUS-CKP', 'P-JUS-CKGL', 'T-JUS-CKGL', 'QGL'],\\n      dtype='object')] are in the [columns]\"",
     "output_type": "error",
     "traceback": [
      "\u001b[1;31m---------------------------------------------------------------------------\u001b[0m",
      "\u001b[1;31mKeyError\u001b[0m                                  Traceback (most recent call last)",
      "\u001b[1;32m<ipython-input-55-7e8d36aa5b0b>\u001b[0m in \u001b[0;36m<module>\u001b[1;34m\u001b[0m\n\u001b[1;32m----> 1\u001b[1;33m \u001b[0mplotScatterMatrix\u001b[0m\u001b[1;33m(\u001b[0m\u001b[0mfinal_class\u001b[0m\u001b[1;33m,\u001b[0m \u001b[1;36m20\u001b[0m\u001b[1;33m,\u001b[0m \u001b[1;36m10\u001b[0m\u001b[1;33m)\u001b[0m\u001b[1;33m\u001b[0m\u001b[1;33m\u001b[0m\u001b[0m\n\u001b[0m",
      "\u001b[1;32m<ipython-input-54-fdd88ee25c20>\u001b[0m in \u001b[0;36mplotScatterMatrix\u001b[1;34m(final_class, plotSize, textSize)\u001b[0m\n\u001b[0;32m      8\u001b[0m     \u001b[1;32mif\u001b[0m \u001b[0mlen\u001b[0m\u001b[1;33m(\u001b[0m\u001b[0mcolumnNames\u001b[0m\u001b[1;33m)\u001b[0m \u001b[1;33m>\u001b[0m \u001b[1;36m10\u001b[0m\u001b[1;33m:\u001b[0m \u001b[1;31m# reduce the number of columns for matrix inversion of kernel density plots\u001b[0m\u001b[1;33m\u001b[0m\u001b[1;33m\u001b[0m\u001b[0m\n\u001b[0;32m      9\u001b[0m         \u001b[0mcolumnNames\u001b[0m \u001b[1;33m=\u001b[0m \u001b[0mcolumnNames\u001b[0m\u001b[1;33m[\u001b[0m\u001b[1;33m:\u001b[0m\u001b[1;36m10\u001b[0m\u001b[1;33m]\u001b[0m\u001b[1;33m\u001b[0m\u001b[1;33m\u001b[0m\u001b[0m\n\u001b[1;32m---> 10\u001b[1;33m     \u001b[0mfinal_class\u001b[0m \u001b[1;33m=\u001b[0m \u001b[0mfinal_class\u001b[0m\u001b[1;33m[\u001b[0m\u001b[0mcolumnNames\u001b[0m\u001b[1;33m]\u001b[0m\u001b[1;33m\u001b[0m\u001b[1;33m\u001b[0m\u001b[0m\n\u001b[0m\u001b[0;32m     11\u001b[0m     \u001b[0max\u001b[0m \u001b[1;33m=\u001b[0m \u001b[0mpd\u001b[0m\u001b[1;33m.\u001b[0m\u001b[0mplotting\u001b[0m\u001b[1;33m.\u001b[0m\u001b[0mscatter_matrix\u001b[0m\u001b[1;33m(\u001b[0m\u001b[0mfinal_class\u001b[0m\u001b[1;33m,\u001b[0m \u001b[0malpha\u001b[0m\u001b[1;33m=\u001b[0m\u001b[1;36m0.75\u001b[0m\u001b[1;33m,\u001b[0m \u001b[0mfigsize\u001b[0m\u001b[1;33m=\u001b[0m\u001b[1;33m[\u001b[0m\u001b[0mplotSize\u001b[0m\u001b[1;33m,\u001b[0m \u001b[0mplotSize\u001b[0m\u001b[1;33m]\u001b[0m\u001b[1;33m,\u001b[0m \u001b[0mdiagonal\u001b[0m\u001b[1;33m=\u001b[0m\u001b[1;34m'kde'\u001b[0m\u001b[1;33m)\u001b[0m\u001b[1;33m\u001b[0m\u001b[1;33m\u001b[0m\u001b[0m\n\u001b[0;32m     12\u001b[0m     \u001b[0mcorrs\u001b[0m \u001b[1;33m=\u001b[0m \u001b[0mfinal_class\u001b[0m\u001b[1;33m.\u001b[0m\u001b[0mcorr\u001b[0m\u001b[1;33m(\u001b[0m\u001b[1;33m)\u001b[0m\u001b[1;33m.\u001b[0m\u001b[0mvalues\u001b[0m\u001b[1;33m\u001b[0m\u001b[1;33m\u001b[0m\u001b[0m\n",
      "\u001b[1;32m~\\anaconda3\\lib\\site-packages\\pandas\\core\\frame.py\u001b[0m in \u001b[0;36m__getitem__\u001b[1;34m(self, key)\u001b[0m\n\u001b[0;32m   2804\u001b[0m             \u001b[1;32mif\u001b[0m \u001b[0mis_iterator\u001b[0m\u001b[1;33m(\u001b[0m\u001b[0mkey\u001b[0m\u001b[1;33m)\u001b[0m\u001b[1;33m:\u001b[0m\u001b[1;33m\u001b[0m\u001b[1;33m\u001b[0m\u001b[0m\n\u001b[0;32m   2805\u001b[0m                 \u001b[0mkey\u001b[0m \u001b[1;33m=\u001b[0m \u001b[0mlist\u001b[0m\u001b[1;33m(\u001b[0m\u001b[0mkey\u001b[0m\u001b[1;33m)\u001b[0m\u001b[1;33m\u001b[0m\u001b[1;33m\u001b[0m\u001b[0m\n\u001b[1;32m-> 2806\u001b[1;33m             \u001b[0mindexer\u001b[0m \u001b[1;33m=\u001b[0m \u001b[0mself\u001b[0m\u001b[1;33m.\u001b[0m\u001b[0mloc\u001b[0m\u001b[1;33m.\u001b[0m\u001b[0m_get_listlike_indexer\u001b[0m\u001b[1;33m(\u001b[0m\u001b[0mkey\u001b[0m\u001b[1;33m,\u001b[0m \u001b[0maxis\u001b[0m\u001b[1;33m=\u001b[0m\u001b[1;36m1\u001b[0m\u001b[1;33m,\u001b[0m \u001b[0mraise_missing\u001b[0m\u001b[1;33m=\u001b[0m\u001b[1;32mTrue\u001b[0m\u001b[1;33m)\u001b[0m\u001b[1;33m[\u001b[0m\u001b[1;36m1\u001b[0m\u001b[1;33m]\u001b[0m\u001b[1;33m\u001b[0m\u001b[1;33m\u001b[0m\u001b[0m\n\u001b[0m\u001b[0;32m   2807\u001b[0m \u001b[1;33m\u001b[0m\u001b[0m\n\u001b[0;32m   2808\u001b[0m         \u001b[1;31m# take() does not accept boolean indexers\u001b[0m\u001b[1;33m\u001b[0m\u001b[1;33m\u001b[0m\u001b[1;33m\u001b[0m\u001b[0m\n",
      "\u001b[1;32m~\\anaconda3\\lib\\site-packages\\pandas\\core\\indexing.py\u001b[0m in \u001b[0;36m_get_listlike_indexer\u001b[1;34m(self, key, axis, raise_missing)\u001b[0m\n\u001b[0;32m   1550\u001b[0m             \u001b[0mkeyarr\u001b[0m\u001b[1;33m,\u001b[0m \u001b[0mindexer\u001b[0m\u001b[1;33m,\u001b[0m \u001b[0mnew_indexer\u001b[0m \u001b[1;33m=\u001b[0m \u001b[0max\u001b[0m\u001b[1;33m.\u001b[0m\u001b[0m_reindex_non_unique\u001b[0m\u001b[1;33m(\u001b[0m\u001b[0mkeyarr\u001b[0m\u001b[1;33m)\u001b[0m\u001b[1;33m\u001b[0m\u001b[1;33m\u001b[0m\u001b[0m\n\u001b[0;32m   1551\u001b[0m \u001b[1;33m\u001b[0m\u001b[0m\n\u001b[1;32m-> 1552\u001b[1;33m         self._validate_read_indexer(\n\u001b[0m\u001b[0;32m   1553\u001b[0m             \u001b[0mkeyarr\u001b[0m\u001b[1;33m,\u001b[0m \u001b[0mindexer\u001b[0m\u001b[1;33m,\u001b[0m \u001b[0mo\u001b[0m\u001b[1;33m.\u001b[0m\u001b[0m_get_axis_number\u001b[0m\u001b[1;33m(\u001b[0m\u001b[0maxis\u001b[0m\u001b[1;33m)\u001b[0m\u001b[1;33m,\u001b[0m \u001b[0mraise_missing\u001b[0m\u001b[1;33m=\u001b[0m\u001b[0mraise_missing\u001b[0m\u001b[1;33m\u001b[0m\u001b[1;33m\u001b[0m\u001b[0m\n\u001b[0;32m   1554\u001b[0m         )\n",
      "\u001b[1;32m~\\anaconda3\\lib\\site-packages\\pandas\\core\\indexing.py\u001b[0m in \u001b[0;36m_validate_read_indexer\u001b[1;34m(self, key, indexer, axis, raise_missing)\u001b[0m\n\u001b[0;32m   1638\u001b[0m             \u001b[1;32mif\u001b[0m \u001b[0mmissing\u001b[0m \u001b[1;33m==\u001b[0m \u001b[0mlen\u001b[0m\u001b[1;33m(\u001b[0m\u001b[0mindexer\u001b[0m\u001b[1;33m)\u001b[0m\u001b[1;33m:\u001b[0m\u001b[1;33m\u001b[0m\u001b[1;33m\u001b[0m\u001b[0m\n\u001b[0;32m   1639\u001b[0m                 \u001b[0maxis_name\u001b[0m \u001b[1;33m=\u001b[0m \u001b[0mself\u001b[0m\u001b[1;33m.\u001b[0m\u001b[0mobj\u001b[0m\u001b[1;33m.\u001b[0m\u001b[0m_get_axis_name\u001b[0m\u001b[1;33m(\u001b[0m\u001b[0maxis\u001b[0m\u001b[1;33m)\u001b[0m\u001b[1;33m\u001b[0m\u001b[1;33m\u001b[0m\u001b[0m\n\u001b[1;32m-> 1640\u001b[1;33m                 \u001b[1;32mraise\u001b[0m \u001b[0mKeyError\u001b[0m\u001b[1;33m(\u001b[0m\u001b[1;34mf\"None of [{key}] are in the [{axis_name}]\"\u001b[0m\u001b[1;33m)\u001b[0m\u001b[1;33m\u001b[0m\u001b[1;33m\u001b[0m\u001b[0m\n\u001b[0m\u001b[0;32m   1641\u001b[0m \u001b[1;33m\u001b[0m\u001b[0m\n\u001b[0;32m   1642\u001b[0m             \u001b[1;31m# We (temporarily) allow for some missing keys with .loc, except in\u001b[0m\u001b[1;33m\u001b[0m\u001b[1;33m\u001b[0m\u001b[1;33m\u001b[0m\u001b[0m\n",
      "\u001b[1;31mKeyError\u001b[0m: \"None of [Index(['Unnamed: 0', 'timestamp', 'P-PDG', 'P-TPT', 'T-TPT', 'P-MON-CKP',\\n       'T-JUS-CKP', 'P-JUS-CKGL', 'T-JUS-CKGL', 'QGL'],\\n      dtype='object')] are in the [columns]\""
     ]
    }
   ],
   "source": [
    "plotScatterMatrix(final_class, 20, 10)"
   ]
  },
  {
   "cell_type": "code",
   "execution_count": 56,
   "metadata": {},
   "outputs": [
    {
     "data": {
      "text/html": [
       "<div>\n",
       "<style scoped>\n",
       "    .dataframe tbody tr th:only-of-type {\n",
       "        vertical-align: middle;\n",
       "    }\n",
       "\n",
       "    .dataframe tbody tr th {\n",
       "        vertical-align: top;\n",
       "    }\n",
       "\n",
       "    .dataframe thead th {\n",
       "        text-align: right;\n",
       "    }\n",
       "</style>\n",
       "<table border=\"1\" class=\"dataframe\">\n",
       "  <thead>\n",
       "    <tr style=\"text-align: right;\">\n",
       "      <th></th>\n",
       "      <th>P-sensor1</th>\n",
       "      <th>P-sensor2</th>\n",
       "      <th>T-sensor1</th>\n",
       "      <th>P-sensor3</th>\n",
       "      <th>T-sensor2</th>\n",
       "      <th>P-sensor4</th>\n",
       "      <th>T-sensor3</th>\n",
       "      <th>P-sensor5</th>\n",
       "      <th>class</th>\n",
       "      <th>WELL_No</th>\n",
       "      <th>year</th>\n",
       "    </tr>\n",
       "  </thead>\n",
       "  <tbody>\n",
       "    <tr>\n",
       "      <th>10724</th>\n",
       "      <td>0.000000e+00</td>\n",
       "      <td>1.747517e+07</td>\n",
       "      <td>117.569200</td>\n",
       "      <td>7950480.0</td>\n",
       "      <td>79.028330</td>\n",
       "      <td>-3.009178e+05</td>\n",
       "      <td>0.0</td>\n",
       "      <td>0.000000e+00</td>\n",
       "      <td>1</td>\n",
       "      <td>1</td>\n",
       "      <td>2014</td>\n",
       "    </tr>\n",
       "    <tr>\n",
       "      <th>10725</th>\n",
       "      <td>0.000000e+00</td>\n",
       "      <td>1.747485e+07</td>\n",
       "      <td>117.569800</td>\n",
       "      <td>7950480.0</td>\n",
       "      <td>79.028380</td>\n",
       "      <td>-3.009178e+05</td>\n",
       "      <td>0.0</td>\n",
       "      <td>0.000000e+00</td>\n",
       "      <td>1</td>\n",
       "      <td>1</td>\n",
       "      <td>2014</td>\n",
       "    </tr>\n",
       "    <tr>\n",
       "      <th>10726</th>\n",
       "      <td>0.000000e+00</td>\n",
       "      <td>1.747452e+07</td>\n",
       "      <td>117.570400</td>\n",
       "      <td>7950480.0</td>\n",
       "      <td>79.028430</td>\n",
       "      <td>-3.009178e+05</td>\n",
       "      <td>0.0</td>\n",
       "      <td>0.000000e+00</td>\n",
       "      <td>1</td>\n",
       "      <td>1</td>\n",
       "      <td>2014</td>\n",
       "    </tr>\n",
       "    <tr>\n",
       "      <th>10727</th>\n",
       "      <td>0.000000e+00</td>\n",
       "      <td>1.747419e+07</td>\n",
       "      <td>117.571100</td>\n",
       "      <td>7950480.0</td>\n",
       "      <td>79.028470</td>\n",
       "      <td>-3.009178e+05</td>\n",
       "      <td>0.0</td>\n",
       "      <td>0.000000e+00</td>\n",
       "      <td>1</td>\n",
       "      <td>1</td>\n",
       "      <td>2014</td>\n",
       "    </tr>\n",
       "    <tr>\n",
       "      <th>10728</th>\n",
       "      <td>0.000000e+00</td>\n",
       "      <td>1.747386e+07</td>\n",
       "      <td>117.571700</td>\n",
       "      <td>7950480.0</td>\n",
       "      <td>79.028530</td>\n",
       "      <td>-3.009178e+05</td>\n",
       "      <td>0.0</td>\n",
       "      <td>0.000000e+00</td>\n",
       "      <td>1</td>\n",
       "      <td>1</td>\n",
       "      <td>2014</td>\n",
       "    </tr>\n",
       "    <tr>\n",
       "      <th>...</th>\n",
       "      <td>...</td>\n",
       "      <td>...</td>\n",
       "      <td>...</td>\n",
       "      <td>...</td>\n",
       "      <td>...</td>\n",
       "      <td>...</td>\n",
       "      <td>...</td>\n",
       "      <td>...</td>\n",
       "      <td>...</td>\n",
       "      <td>...</td>\n",
       "      <td>...</td>\n",
       "    </tr>\n",
       "    <tr>\n",
       "      <th>2032431</th>\n",
       "      <td>3.096646e+09</td>\n",
       "      <td>1.914609e+09</td>\n",
       "      <td>4.311329</td>\n",
       "      <td>3150674.0</td>\n",
       "      <td>48.456592</td>\n",
       "      <td>1.579215e+09</td>\n",
       "      <td>0.0</td>\n",
       "      <td>1.157562e-09</td>\n",
       "      <td>8</td>\n",
       "      <td>21</td>\n",
       "      <td>2017</td>\n",
       "    </tr>\n",
       "    <tr>\n",
       "      <th>2032432</th>\n",
       "      <td>3.096644e+09</td>\n",
       "      <td>1.913932e+09</td>\n",
       "      <td>4.311428</td>\n",
       "      <td>3150676.0</td>\n",
       "      <td>48.456592</td>\n",
       "      <td>1.579158e+09</td>\n",
       "      <td>0.0</td>\n",
       "      <td>1.157520e-09</td>\n",
       "      <td>8</td>\n",
       "      <td>21</td>\n",
       "      <td>2017</td>\n",
       "    </tr>\n",
       "    <tr>\n",
       "      <th>2032433</th>\n",
       "      <td>3.096642e+09</td>\n",
       "      <td>1.913256e+09</td>\n",
       "      <td>4.311527</td>\n",
       "      <td>3150677.0</td>\n",
       "      <td>48.456592</td>\n",
       "      <td>1.579101e+09</td>\n",
       "      <td>0.0</td>\n",
       "      <td>1.157479e-09</td>\n",
       "      <td>8</td>\n",
       "      <td>21</td>\n",
       "      <td>2017</td>\n",
       "    </tr>\n",
       "    <tr>\n",
       "      <th>2032434</th>\n",
       "      <td>3.096640e+09</td>\n",
       "      <td>1.912579e+09</td>\n",
       "      <td>4.311625</td>\n",
       "      <td>3150679.0</td>\n",
       "      <td>48.456592</td>\n",
       "      <td>1.579044e+09</td>\n",
       "      <td>0.0</td>\n",
       "      <td>1.157438e-09</td>\n",
       "      <td>8</td>\n",
       "      <td>21</td>\n",
       "      <td>2017</td>\n",
       "    </tr>\n",
       "    <tr>\n",
       "      <th>2032435</th>\n",
       "      <td>3.096638e+09</td>\n",
       "      <td>1.911957e+09</td>\n",
       "      <td>4.311705</td>\n",
       "      <td>3150681.0</td>\n",
       "      <td>48.456592</td>\n",
       "      <td>1.578987e+09</td>\n",
       "      <td>0.0</td>\n",
       "      <td>1.157397e-09</td>\n",
       "      <td>8</td>\n",
       "      <td>21</td>\n",
       "      <td>2017</td>\n",
       "    </tr>\n",
       "  </tbody>\n",
       "</table>\n",
       "<p>797485 rows × 11 columns</p>\n",
       "</div>"
      ],
      "text/plain": [
       "            P-sensor1     P-sensor2   T-sensor1  P-sensor3  T-sensor2  \\\n",
       "10724    0.000000e+00  1.747517e+07  117.569200  7950480.0  79.028330   \n",
       "10725    0.000000e+00  1.747485e+07  117.569800  7950480.0  79.028380   \n",
       "10726    0.000000e+00  1.747452e+07  117.570400  7950480.0  79.028430   \n",
       "10727    0.000000e+00  1.747419e+07  117.571100  7950480.0  79.028470   \n",
       "10728    0.000000e+00  1.747386e+07  117.571700  7950480.0  79.028530   \n",
       "...               ...           ...         ...        ...        ...   \n",
       "2032431  3.096646e+09  1.914609e+09    4.311329  3150674.0  48.456592   \n",
       "2032432  3.096644e+09  1.913932e+09    4.311428  3150676.0  48.456592   \n",
       "2032433  3.096642e+09  1.913256e+09    4.311527  3150677.0  48.456592   \n",
       "2032434  3.096640e+09  1.912579e+09    4.311625  3150679.0  48.456592   \n",
       "2032435  3.096638e+09  1.911957e+09    4.311705  3150681.0  48.456592   \n",
       "\n",
       "            P-sensor4  T-sensor3     P-sensor5  class  WELL_No  year  \n",
       "10724   -3.009178e+05        0.0  0.000000e+00      1        1  2014  \n",
       "10725   -3.009178e+05        0.0  0.000000e+00      1        1  2014  \n",
       "10726   -3.009178e+05        0.0  0.000000e+00      1        1  2014  \n",
       "10727   -3.009178e+05        0.0  0.000000e+00      1        1  2014  \n",
       "10728   -3.009178e+05        0.0  0.000000e+00      1        1  2014  \n",
       "...               ...        ...           ...    ...      ...   ...  \n",
       "2032431  1.579215e+09        0.0  1.157562e-09      8       21  2017  \n",
       "2032432  1.579158e+09        0.0  1.157520e-09      8       21  2017  \n",
       "2032433  1.579101e+09        0.0  1.157479e-09      8       21  2017  \n",
       "2032434  1.579044e+09        0.0  1.157438e-09      8       21  2017  \n",
       "2032435  1.578987e+09        0.0  1.157397e-09      8       21  2017  \n",
       "\n",
       "[797485 rows x 11 columns]"
      ]
     },
     "execution_count": 56,
     "metadata": {},
     "output_type": "execute_result"
    }
   ],
   "source": [
    "\n",
    "final_class.head(-5)"
   ]
  },
  {
   "cell_type": "code",
   "execution_count": null,
   "metadata": {},
   "outputs": [],
   "source": []
  },
  {
   "cell_type": "code",
   "execution_count": null,
   "metadata": {},
   "outputs": [],
   "source": [
    "\n"
   ]
  },
  {
   "cell_type": "code",
   "execution_count": null,
   "metadata": {},
   "outputs": [],
   "source": []
  },
  {
   "cell_type": "code",
   "execution_count": null,
   "metadata": {},
   "outputs": [],
   "source": []
  },
  {
   "cell_type": "code",
   "execution_count": null,
   "metadata": {},
   "outputs": [],
   "source": []
  },
  {
   "cell_type": "code",
   "execution_count": null,
   "metadata": {},
   "outputs": [],
   "source": []
  },
  {
   "cell_type": "code",
   "execution_count": null,
   "metadata": {},
   "outputs": [],
   "source": []
  },
  {
   "cell_type": "code",
   "execution_count": null,
   "metadata": {},
   "outputs": [],
   "source": []
  }
 ],
 "metadata": {
  "kernelspec": {
   "display_name": "Python 3",
   "language": "python",
   "name": "python3"
  },
  "language_info": {
   "codemirror_mode": {
    "name": "ipython",
    "version": 3
   },
   "file_extension": ".py",
   "mimetype": "text/x-python",
   "name": "python",
   "nbconvert_exporter": "python",
   "pygments_lexer": "ipython3",
   "version": "3.8.5"
  }
 },
 "nbformat": 4,
 "nbformat_minor": 4
}
