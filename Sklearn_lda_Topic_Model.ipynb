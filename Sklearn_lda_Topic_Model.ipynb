{
 "cells": [
  {
   "cell_type": "markdown",
   "metadata": {},
   "source": [
    "# EPA"
   ]
  },
  {
   "cell_type": "code",
   "execution_count": 2,
   "metadata": {},
   "outputs": [
    {
     "name": "stderr",
     "output_type": "stream",
     "text": [
      "C:\\Users\\Indrani B\\anaconda3\\lib\\site-packages\\gensim\\similarities\\__init__.py:15: UserWarning: The gensim.similarities.levenshtein submodule is disabled, because the optional Levenshtein package <https://pypi.org/project/python-Levenshtein/> is unavailable. Install Levenhstein (e.g. `pip install python-Levenshtein`) to suppress this warning.\n",
      "  warnings.warn(msg)\n"
     ]
    },
    {
     "data": {
      "text/html": [
       "\n",
       "    <div class=\"bk-root\">\n",
       "        <a href=\"https://bokeh.org\" target=\"_blank\" class=\"bk-logo bk-logo-small bk-logo-notebook\"></a>\n",
       "        <span id=\"1002\">Loading BokehJS ...</span>\n",
       "    </div>"
      ]
     },
     "metadata": {},
     "output_type": "display_data"
    },
    {
     "data": {
      "application/javascript": [
       "\n",
       "(function(root) {\n",
       "  function now() {\n",
       "    return new Date();\n",
       "  }\n",
       "\n",
       "  var force = true;\n",
       "\n",
       "  if (typeof root._bokeh_onload_callbacks === \"undefined\" || force === true) {\n",
       "    root._bokeh_onload_callbacks = [];\n",
       "    root._bokeh_is_loading = undefined;\n",
       "  }\n",
       "\n",
       "  var JS_MIME_TYPE = 'application/javascript';\n",
       "  var HTML_MIME_TYPE = 'text/html';\n",
       "  var EXEC_MIME_TYPE = 'application/vnd.bokehjs_exec.v0+json';\n",
       "  var CLASS_NAME = 'output_bokeh rendered_html';\n",
       "\n",
       "  /**\n",
       "   * Render data to the DOM node\n",
       "   */\n",
       "  function render(props, node) {\n",
       "    var script = document.createElement(\"script\");\n",
       "    node.appendChild(script);\n",
       "  }\n",
       "\n",
       "  /**\n",
       "   * Handle when an output is cleared or removed\n",
       "   */\n",
       "  function handleClearOutput(event, handle) {\n",
       "    var cell = handle.cell;\n",
       "\n",
       "    var id = cell.output_area._bokeh_element_id;\n",
       "    var server_id = cell.output_area._bokeh_server_id;\n",
       "    // Clean up Bokeh references\n",
       "    if (id != null && id in Bokeh.index) {\n",
       "      Bokeh.index[id].model.document.clear();\n",
       "      delete Bokeh.index[id];\n",
       "    }\n",
       "\n",
       "    if (server_id !== undefined) {\n",
       "      // Clean up Bokeh references\n",
       "      var cmd = \"from bokeh.io.state import curstate; print(curstate().uuid_to_server['\" + server_id + \"'].get_sessions()[0].document.roots[0]._id)\";\n",
       "      cell.notebook.kernel.execute(cmd, {\n",
       "        iopub: {\n",
       "          output: function(msg) {\n",
       "            var id = msg.content.text.trim();\n",
       "            if (id in Bokeh.index) {\n",
       "              Bokeh.index[id].model.document.clear();\n",
       "              delete Bokeh.index[id];\n",
       "            }\n",
       "          }\n",
       "        }\n",
       "      });\n",
       "      // Destroy server and session\n",
       "      var cmd = \"import bokeh.io.notebook as ion; ion.destroy_server('\" + server_id + \"')\";\n",
       "      cell.notebook.kernel.execute(cmd);\n",
       "    }\n",
       "  }\n",
       "\n",
       "  /**\n",
       "   * Handle when a new output is added\n",
       "   */\n",
       "  function handleAddOutput(event, handle) {\n",
       "    var output_area = handle.output_area;\n",
       "    var output = handle.output;\n",
       "\n",
       "    // limit handleAddOutput to display_data with EXEC_MIME_TYPE content only\n",
       "    if ((output.output_type != \"display_data\") || (!Object.prototype.hasOwnProperty.call(output.data, EXEC_MIME_TYPE))) {\n",
       "      return\n",
       "    }\n",
       "\n",
       "    var toinsert = output_area.element.find(\".\" + CLASS_NAME.split(' ')[0]);\n",
       "\n",
       "    if (output.metadata[EXEC_MIME_TYPE][\"id\"] !== undefined) {\n",
       "      toinsert[toinsert.length - 1].firstChild.textContent = output.data[JS_MIME_TYPE];\n",
       "      // store reference to embed id on output_area\n",
       "      output_area._bokeh_element_id = output.metadata[EXEC_MIME_TYPE][\"id\"];\n",
       "    }\n",
       "    if (output.metadata[EXEC_MIME_TYPE][\"server_id\"] !== undefined) {\n",
       "      var bk_div = document.createElement(\"div\");\n",
       "      bk_div.innerHTML = output.data[HTML_MIME_TYPE];\n",
       "      var script_attrs = bk_div.children[0].attributes;\n",
       "      for (var i = 0; i < script_attrs.length; i++) {\n",
       "        toinsert[toinsert.length - 1].firstChild.setAttribute(script_attrs[i].name, script_attrs[i].value);\n",
       "        toinsert[toinsert.length - 1].firstChild.textContent = bk_div.children[0].textContent\n",
       "      }\n",
       "      // store reference to server id on output_area\n",
       "      output_area._bokeh_server_id = output.metadata[EXEC_MIME_TYPE][\"server_id\"];\n",
       "    }\n",
       "  }\n",
       "\n",
       "  function register_renderer(events, OutputArea) {\n",
       "\n",
       "    function append_mime(data, metadata, element) {\n",
       "      // create a DOM node to render to\n",
       "      var toinsert = this.create_output_subarea(\n",
       "        metadata,\n",
       "        CLASS_NAME,\n",
       "        EXEC_MIME_TYPE\n",
       "      );\n",
       "      this.keyboard_manager.register_events(toinsert);\n",
       "      // Render to node\n",
       "      var props = {data: data, metadata: metadata[EXEC_MIME_TYPE]};\n",
       "      render(props, toinsert[toinsert.length - 1]);\n",
       "      element.append(toinsert);\n",
       "      return toinsert\n",
       "    }\n",
       "\n",
       "    /* Handle when an output is cleared or removed */\n",
       "    events.on('clear_output.CodeCell', handleClearOutput);\n",
       "    events.on('delete.Cell', handleClearOutput);\n",
       "\n",
       "    /* Handle when a new output is added */\n",
       "    events.on('output_added.OutputArea', handleAddOutput);\n",
       "\n",
       "    /**\n",
       "     * Register the mime type and append_mime function with output_area\n",
       "     */\n",
       "    OutputArea.prototype.register_mime_type(EXEC_MIME_TYPE, append_mime, {\n",
       "      /* Is output safe? */\n",
       "      safe: true,\n",
       "      /* Index of renderer in `output_area.display_order` */\n",
       "      index: 0\n",
       "    });\n",
       "  }\n",
       "\n",
       "  // register the mime type if in Jupyter Notebook environment and previously unregistered\n",
       "  if (root.Jupyter !== undefined) {\n",
       "    var events = require('base/js/events');\n",
       "    var OutputArea = require('notebook/js/outputarea').OutputArea;\n",
       "\n",
       "    if (OutputArea.prototype.mime_types().indexOf(EXEC_MIME_TYPE) == -1) {\n",
       "      register_renderer(events, OutputArea);\n",
       "    }\n",
       "  }\n",
       "\n",
       "  \n",
       "  if (typeof (root._bokeh_timeout) === \"undefined\" || force === true) {\n",
       "    root._bokeh_timeout = Date.now() + 5000;\n",
       "    root._bokeh_failed_load = false;\n",
       "  }\n",
       "\n",
       "  var NB_LOAD_WARNING = {'data': {'text/html':\n",
       "     \"<div style='background-color: #fdd'>\\n\"+\n",
       "     \"<p>\\n\"+\n",
       "     \"BokehJS does not appear to have successfully loaded. If loading BokehJS from CDN, this \\n\"+\n",
       "     \"may be due to a slow or bad network connection. Possible fixes:\\n\"+\n",
       "     \"</p>\\n\"+\n",
       "     \"<ul>\\n\"+\n",
       "     \"<li>re-rerun `output_notebook()` to attempt to load from CDN again, or</li>\\n\"+\n",
       "     \"<li>use INLINE resources instead, as so:</li>\\n\"+\n",
       "     \"</ul>\\n\"+\n",
       "     \"<code>\\n\"+\n",
       "     \"from bokeh.resources import INLINE\\n\"+\n",
       "     \"output_notebook(resources=INLINE)\\n\"+\n",
       "     \"</code>\\n\"+\n",
       "     \"</div>\"}};\n",
       "\n",
       "  function display_loaded() {\n",
       "    var el = document.getElementById(\"1002\");\n",
       "    if (el != null) {\n",
       "      el.textContent = \"BokehJS is loading...\";\n",
       "    }\n",
       "    if (root.Bokeh !== undefined) {\n",
       "      if (el != null) {\n",
       "        el.textContent = \"BokehJS \" + root.Bokeh.version + \" successfully loaded.\";\n",
       "      }\n",
       "    } else if (Date.now() < root._bokeh_timeout) {\n",
       "      setTimeout(display_loaded, 100)\n",
       "    }\n",
       "  }\n",
       "\n",
       "\n",
       "  function run_callbacks() {\n",
       "    try {\n",
       "      root._bokeh_onload_callbacks.forEach(function(callback) {\n",
       "        if (callback != null)\n",
       "          callback();\n",
       "      });\n",
       "    } finally {\n",
       "      delete root._bokeh_onload_callbacks\n",
       "    }\n",
       "    console.debug(\"Bokeh: all callbacks have finished\");\n",
       "  }\n",
       "\n",
       "  function load_libs(css_urls, js_urls, callback) {\n",
       "    if (css_urls == null) css_urls = [];\n",
       "    if (js_urls == null) js_urls = [];\n",
       "\n",
       "    root._bokeh_onload_callbacks.push(callback);\n",
       "    if (root._bokeh_is_loading > 0) {\n",
       "      console.debug(\"Bokeh: BokehJS is being loaded, scheduling callback at\", now());\n",
       "      return null;\n",
       "    }\n",
       "    if (js_urls == null || js_urls.length === 0) {\n",
       "      run_callbacks();\n",
       "      return null;\n",
       "    }\n",
       "    console.debug(\"Bokeh: BokehJS not loaded, scheduling load and callback at\", now());\n",
       "    root._bokeh_is_loading = css_urls.length + js_urls.length;\n",
       "\n",
       "    function on_load() {\n",
       "      root._bokeh_is_loading--;\n",
       "      if (root._bokeh_is_loading === 0) {\n",
       "        console.debug(\"Bokeh: all BokehJS libraries/stylesheets loaded\");\n",
       "        run_callbacks()\n",
       "      }\n",
       "    }\n",
       "\n",
       "    function on_error(url) {\n",
       "      console.error(\"failed to load \" + url);\n",
       "    }\n",
       "\n",
       "    for (let i = 0; i < css_urls.length; i++) {\n",
       "      const url = css_urls[i];\n",
       "      const element = document.createElement(\"link\");\n",
       "      element.onload = on_load;\n",
       "      element.onerror = on_error.bind(null, url);\n",
       "      element.rel = \"stylesheet\";\n",
       "      element.type = \"text/css\";\n",
       "      element.href = url;\n",
       "      console.debug(\"Bokeh: injecting link tag for BokehJS stylesheet: \", url);\n",
       "      document.body.appendChild(element);\n",
       "    }\n",
       "\n",
       "    const hashes = {\"https://cdn.bokeh.org/bokeh/release/bokeh-2.3.0.min.js\": \"HjagQp6T0/7bxYTAXbLotF1MLAGWmhkY5siA1Gc/pcEgvgRPtMsRn0gQtMwGKiw1\", \"https://cdn.bokeh.org/bokeh/release/bokeh-widgets-2.3.0.min.js\": \"ZEPPTjL+mdyqgIq+/pl9KTwzji8Kow2NnI3zWY8+sFinWP/SYJ80BnfeJsa45iYj\", \"https://cdn.bokeh.org/bokeh/release/bokeh-tables-2.3.0.min.js\": \"exLqv2ACDRIaV7ZK1iL8aGzGYQvKVuT3U2CT7FsQREBxRah6JrkVCoFy0koY1YqV\"};\n",
       "\n",
       "    for (let i = 0; i < js_urls.length; i++) {\n",
       "      const url = js_urls[i];\n",
       "      const element = document.createElement('script');\n",
       "      element.onload = on_load;\n",
       "      element.onerror = on_error.bind(null, url);\n",
       "      element.async = false;\n",
       "      element.src = url;\n",
       "      if (url in hashes) {\n",
       "        element.crossOrigin = \"anonymous\";\n",
       "        element.integrity = \"sha384-\" + hashes[url];\n",
       "      }\n",
       "      console.debug(\"Bokeh: injecting script tag for BokehJS library: \", url);\n",
       "      document.head.appendChild(element);\n",
       "    }\n",
       "  };\n",
       "\n",
       "  function inject_raw_css(css) {\n",
       "    const element = document.createElement(\"style\");\n",
       "    element.appendChild(document.createTextNode(css));\n",
       "    document.body.appendChild(element);\n",
       "  }\n",
       "\n",
       "  \n",
       "  var js_urls = [\"https://cdn.bokeh.org/bokeh/release/bokeh-2.3.0.min.js\", \"https://cdn.bokeh.org/bokeh/release/bokeh-widgets-2.3.0.min.js\", \"https://cdn.bokeh.org/bokeh/release/bokeh-tables-2.3.0.min.js\"];\n",
       "  var css_urls = [];\n",
       "  \n",
       "\n",
       "  var inline_js = [\n",
       "    function(Bokeh) {\n",
       "      Bokeh.set_log_level(\"info\");\n",
       "    },\n",
       "    function(Bokeh) {\n",
       "    \n",
       "    \n",
       "    }\n",
       "  ];\n",
       "\n",
       "  function run_inline_js() {\n",
       "    \n",
       "    if (root.Bokeh !== undefined || force === true) {\n",
       "      \n",
       "    for (var i = 0; i < inline_js.length; i++) {\n",
       "      inline_js[i].call(root, root.Bokeh);\n",
       "    }\n",
       "    if (force === true) {\n",
       "        display_loaded();\n",
       "      }} else if (Date.now() < root._bokeh_timeout) {\n",
       "      setTimeout(run_inline_js, 100);\n",
       "    } else if (!root._bokeh_failed_load) {\n",
       "      console.log(\"Bokeh: BokehJS failed to load within specified timeout.\");\n",
       "      root._bokeh_failed_load = true;\n",
       "    } else if (force !== true) {\n",
       "      var cell = $(document.getElementById(\"1002\")).parents('.cell').data().cell;\n",
       "      cell.output_area.append_execute_result(NB_LOAD_WARNING)\n",
       "    }\n",
       "\n",
       "  }\n",
       "\n",
       "  if (root._bokeh_is_loading === 0) {\n",
       "    console.debug(\"Bokeh: BokehJS loaded, going straight to plotting\");\n",
       "    run_inline_js();\n",
       "  } else {\n",
       "    load_libs(css_urls, js_urls, function() {\n",
       "      console.debug(\"Bokeh: BokehJS plotting callback run at\", now());\n",
       "      run_inline_js();\n",
       "    });\n",
       "  }\n",
       "}(window));"
      ],
      "application/vnd.bokehjs_load.v0+json": "\n(function(root) {\n  function now() {\n    return new Date();\n  }\n\n  var force = true;\n\n  if (typeof root._bokeh_onload_callbacks === \"undefined\" || force === true) {\n    root._bokeh_onload_callbacks = [];\n    root._bokeh_is_loading = undefined;\n  }\n\n  \n\n  \n  if (typeof (root._bokeh_timeout) === \"undefined\" || force === true) {\n    root._bokeh_timeout = Date.now() + 5000;\n    root._bokeh_failed_load = false;\n  }\n\n  var NB_LOAD_WARNING = {'data': {'text/html':\n     \"<div style='background-color: #fdd'>\\n\"+\n     \"<p>\\n\"+\n     \"BokehJS does not appear to have successfully loaded. If loading BokehJS from CDN, this \\n\"+\n     \"may be due to a slow or bad network connection. Possible fixes:\\n\"+\n     \"</p>\\n\"+\n     \"<ul>\\n\"+\n     \"<li>re-rerun `output_notebook()` to attempt to load from CDN again, or</li>\\n\"+\n     \"<li>use INLINE resources instead, as so:</li>\\n\"+\n     \"</ul>\\n\"+\n     \"<code>\\n\"+\n     \"from bokeh.resources import INLINE\\n\"+\n     \"output_notebook(resources=INLINE)\\n\"+\n     \"</code>\\n\"+\n     \"</div>\"}};\n\n  function display_loaded() {\n    var el = document.getElementById(\"1002\");\n    if (el != null) {\n      el.textContent = \"BokehJS is loading...\";\n    }\n    if (root.Bokeh !== undefined) {\n      if (el != null) {\n        el.textContent = \"BokehJS \" + root.Bokeh.version + \" successfully loaded.\";\n      }\n    } else if (Date.now() < root._bokeh_timeout) {\n      setTimeout(display_loaded, 100)\n    }\n  }\n\n\n  function run_callbacks() {\n    try {\n      root._bokeh_onload_callbacks.forEach(function(callback) {\n        if (callback != null)\n          callback();\n      });\n    } finally {\n      delete root._bokeh_onload_callbacks\n    }\n    console.debug(\"Bokeh: all callbacks have finished\");\n  }\n\n  function load_libs(css_urls, js_urls, callback) {\n    if (css_urls == null) css_urls = [];\n    if (js_urls == null) js_urls = [];\n\n    root._bokeh_onload_callbacks.push(callback);\n    if (root._bokeh_is_loading > 0) {\n      console.debug(\"Bokeh: BokehJS is being loaded, scheduling callback at\", now());\n      return null;\n    }\n    if (js_urls == null || js_urls.length === 0) {\n      run_callbacks();\n      return null;\n    }\n    console.debug(\"Bokeh: BokehJS not loaded, scheduling load and callback at\", now());\n    root._bokeh_is_loading = css_urls.length + js_urls.length;\n\n    function on_load() {\n      root._bokeh_is_loading--;\n      if (root._bokeh_is_loading === 0) {\n        console.debug(\"Bokeh: all BokehJS libraries/stylesheets loaded\");\n        run_callbacks()\n      }\n    }\n\n    function on_error(url) {\n      console.error(\"failed to load \" + url);\n    }\n\n    for (let i = 0; i < css_urls.length; i++) {\n      const url = css_urls[i];\n      const element = document.createElement(\"link\");\n      element.onload = on_load;\n      element.onerror = on_error.bind(null, url);\n      element.rel = \"stylesheet\";\n      element.type = \"text/css\";\n      element.href = url;\n      console.debug(\"Bokeh: injecting link tag for BokehJS stylesheet: \", url);\n      document.body.appendChild(element);\n    }\n\n    const hashes = {\"https://cdn.bokeh.org/bokeh/release/bokeh-2.3.0.min.js\": \"HjagQp6T0/7bxYTAXbLotF1MLAGWmhkY5siA1Gc/pcEgvgRPtMsRn0gQtMwGKiw1\", \"https://cdn.bokeh.org/bokeh/release/bokeh-widgets-2.3.0.min.js\": \"ZEPPTjL+mdyqgIq+/pl9KTwzji8Kow2NnI3zWY8+sFinWP/SYJ80BnfeJsa45iYj\", \"https://cdn.bokeh.org/bokeh/release/bokeh-tables-2.3.0.min.js\": \"exLqv2ACDRIaV7ZK1iL8aGzGYQvKVuT3U2CT7FsQREBxRah6JrkVCoFy0koY1YqV\"};\n\n    for (let i = 0; i < js_urls.length; i++) {\n      const url = js_urls[i];\n      const element = document.createElement('script');\n      element.onload = on_load;\n      element.onerror = on_error.bind(null, url);\n      element.async = false;\n      element.src = url;\n      if (url in hashes) {\n        element.crossOrigin = \"anonymous\";\n        element.integrity = \"sha384-\" + hashes[url];\n      }\n      console.debug(\"Bokeh: injecting script tag for BokehJS library: \", url);\n      document.head.appendChild(element);\n    }\n  };\n\n  function inject_raw_css(css) {\n    const element = document.createElement(\"style\");\n    element.appendChild(document.createTextNode(css));\n    document.body.appendChild(element);\n  }\n\n  \n  var js_urls = [\"https://cdn.bokeh.org/bokeh/release/bokeh-2.3.0.min.js\", \"https://cdn.bokeh.org/bokeh/release/bokeh-widgets-2.3.0.min.js\", \"https://cdn.bokeh.org/bokeh/release/bokeh-tables-2.3.0.min.js\"];\n  var css_urls = [];\n  \n\n  var inline_js = [\n    function(Bokeh) {\n      Bokeh.set_log_level(\"info\");\n    },\n    function(Bokeh) {\n    \n    \n    }\n  ];\n\n  function run_inline_js() {\n    \n    if (root.Bokeh !== undefined || force === true) {\n      \n    for (var i = 0; i < inline_js.length; i++) {\n      inline_js[i].call(root, root.Bokeh);\n    }\n    if (force === true) {\n        display_loaded();\n      }} else if (Date.now() < root._bokeh_timeout) {\n      setTimeout(run_inline_js, 100);\n    } else if (!root._bokeh_failed_load) {\n      console.log(\"Bokeh: BokehJS failed to load within specified timeout.\");\n      root._bokeh_failed_load = true;\n    } else if (force !== true) {\n      var cell = $(document.getElementById(\"1002\")).parents('.cell').data().cell;\n      cell.output_area.append_execute_result(NB_LOAD_WARNING)\n    }\n\n  }\n\n  if (root._bokeh_is_loading === 0) {\n    console.debug(\"Bokeh: BokehJS loaded, going straight to plotting\");\n    run_inline_js();\n  } else {\n    load_libs(css_urls, js_urls, function() {\n      console.debug(\"Bokeh: BokehJS plotting callback run at\", now());\n      run_inline_js();\n    });\n  }\n}(window));"
     },
     "metadata": {},
     "output_type": "display_data"
    }
   ],
   "source": [
    "# importing packages\n",
    "\n",
    "import pandas as pd\n",
    "import numpy as np\n",
    "import os\n",
    "import glob\n",
    "import re\n",
    "import chardet\n",
    "import string\n",
    "string.punctuation\n",
    "from spacy import displacy\n",
    "from spacy.matcher import Matcher\n",
    "import nltk\n",
    "from nltk.tokenize.treebank import TreebankWordDetokenizer #detokenize\n",
    "os.chdir(\"C:/Users/Indrani B/Desktop/bootcamp/job°recommender/NEW_TEST\")\n",
    "from sklearn.feature_extraction.text import CountVectorizer\n",
    "from collections import Counter\n",
    "\n",
    "#!pip3 install spacy\n",
    "import spacy \n",
    "#print(spacy.__version__) \n",
    "#gensim\n",
    "import gensim\n",
    "import gensim.corpora as corpora\n",
    "from gensim.utils import simple_preprocess\n",
    "from gensim.models import CoherenceModel\n",
    "#!pip install python-Levenshtein\n",
    "\n",
    "\n",
    "#warnings\n",
    "import warnings\n",
    "warnings.filterwarnings(\"ignore\", category=DeprecationWarning) \n",
    "\n",
    "import matplotlib.pyplot as plt\n",
    "%matplotlib inline\n",
    "\n",
    "from IPython.display import display\n",
    "from tqdm import tqdm\n",
    "import ast\n",
    "\n",
    "import matplotlib.mlab as mlab\n",
    "import matplotlib.pyplot as plt\n",
    "import seaborn as sb\n",
    "\n",
    "\n",
    "import scipy.stats as stats\n",
    "\n",
    "from sklearn.decomposition import TruncatedSVD\n",
    "from sklearn.decomposition import LatentDirichletAllocation\n",
    "from sklearn.manifold import TSNE\n",
    "\n",
    "from bokeh.plotting import figure, output_file, show\n",
    "from bokeh.models import Label\n",
    "from bokeh.io import output_notebook\n",
    "output_notebook()\n",
    "\n"
   ]
  },
  {
   "cell_type": "markdown",
   "metadata": {},
   "source": [
    "# joining CSV`s"
   ]
  },
  {
   "cell_type": "code",
   "execution_count": 3,
   "metadata": {},
   "outputs": [],
   "source": [
    "extension = 'csv'\n",
    "all_filenames = [i for i in glob.glob('*.{}'.format(extension))]"
   ]
  },
  {
   "cell_type": "code",
   "execution_count": 4,
   "metadata": {},
   "outputs": [],
   "source": [
    "#combine all files in the list\n",
    "combined_csv = pd.concat([pd.read_csv(f) for f in all_filenames])\n",
    "#export to combined csv\n",
    "combined_csv.to_csv(\"training.csv\", index=False, encoding='utf-8-sig')"
   ]
  },
  {
   "cell_type": "code",
   "execution_count": 5,
   "metadata": {},
   "outputs": [
    {
     "data": {
      "text/html": [
       "<div>\n",
       "<style scoped>\n",
       "    .dataframe tbody tr th:only-of-type {\n",
       "        vertical-align: middle;\n",
       "    }\n",
       "\n",
       "    .dataframe tbody tr th {\n",
       "        vertical-align: top;\n",
       "    }\n",
       "\n",
       "    .dataframe thead th {\n",
       "        text-align: right;\n",
       "    }\n",
       "</style>\n",
       "<table border=\"1\" class=\"dataframe\">\n",
       "  <thead>\n",
       "    <tr style=\"text-align: right;\">\n",
       "      <th></th>\n",
       "      <th>Unnamed: 0</th>\n",
       "      <th>Title</th>\n",
       "      <th>Company</th>\n",
       "      <th>Location</th>\n",
       "      <th>Summary</th>\n",
       "      <th>Description</th>\n",
       "      <th>Date</th>\n",
       "      <th>Duration</th>\n",
       "      <th>Link</th>\n",
       "    </tr>\n",
       "  </thead>\n",
       "  <tbody>\n",
       "    <tr>\n",
       "      <th>0</th>\n",
       "      <td>0.0</td>\n",
       "      <td>Student Intern, Data Analyst &amp; Quote Controller</td>\n",
       "      <td>Celestica</td>\n",
       "      <td>Toronto, Ontario</td>\n",
       "      <td>['Seniority level', 'Internship', 'Employment ...</td>\n",
       "      <td>['Req ID: 65591', 'Region: Americas', 'Country...</td>\n",
       "      <td>2020-11-06</td>\n",
       "      <td>2 weeks ago</td>\n",
       "      <td>https://ca.linkedin.com/jobs/view/student-inte...</td>\n",
       "    </tr>\n",
       "    <tr>\n",
       "      <th>1</th>\n",
       "      <td>1.0</td>\n",
       "      <td>Intermediate Data Analyst</td>\n",
       "      <td>QSI</td>\n",
       "      <td>Ottawa, Ontario</td>\n",
       "      <td>['Seniority level', 'Entry level', 'Employment...</td>\n",
       "      <td>['Category: IT Services Location:Assist in ide...</td>\n",
       "      <td>2020-11-06</td>\n",
       "      <td>4 weeks ago</td>\n",
       "      <td>https://ca.linkedin.com/jobs/view/intermediate...</td>\n",
       "    </tr>\n",
       "    <tr>\n",
       "      <th>2</th>\n",
       "      <td>2.0</td>\n",
       "      <td>Senior Technical Data Analyst</td>\n",
       "      <td>BMO Financial Group</td>\n",
       "      <td>Toronto, Ontario</td>\n",
       "      <td>['Seniority level', 'Not Applicable', 'Employm...</td>\n",
       "      <td>['Address', '', '120 Bloor Street East', '', '...</td>\n",
       "      <td>2020-11-06</td>\n",
       "      <td>4 hours ago</td>\n",
       "      <td>https://ca.linkedin.com/jobs/view/senior-techn...</td>\n",
       "    </tr>\n",
       "    <tr>\n",
       "      <th>3</th>\n",
       "      <td>3.0</td>\n",
       "      <td>Data Analyst 3 (contract)</td>\n",
       "      <td>Tundra Technical Solutions</td>\n",
       "      <td>Montreal, Quebec</td>\n",
       "      <td>['Seniority level', 'Associate', 'Employment t...</td>\n",
       "      <td>['Job Description', '', 'Provide data analysis...</td>\n",
       "      <td>2020-11-06</td>\n",
       "      <td>1 week ago</td>\n",
       "      <td>https://ca.linkedin.com/jobs/view/data-analyst...</td>\n",
       "    </tr>\n",
       "    <tr>\n",
       "      <th>4</th>\n",
       "      <td>4.0</td>\n",
       "      <td>Senior Data Analyst</td>\n",
       "      <td>Procom</td>\n",
       "      <td>Mississauga, Ontario</td>\n",
       "      <td>['Seniority level', 'Associate', 'Employment t...</td>\n",
       "      <td>['Senior Data Analyst', '', 'On behalf of our ...</td>\n",
       "      <td>2020-11-06</td>\n",
       "      <td>1 day ago</td>\n",
       "      <td>https://ca.linkedin.com/jobs/view/senior-data-...</td>\n",
       "    </tr>\n",
       "    <tr>\n",
       "      <th>...</th>\n",
       "      <td>...</td>\n",
       "      <td>...</td>\n",
       "      <td>...</td>\n",
       "      <td>...</td>\n",
       "      <td>...</td>\n",
       "      <td>...</td>\n",
       "      <td>...</td>\n",
       "      <td>...</td>\n",
       "      <td>...</td>\n",
       "    </tr>\n",
       "    <tr>\n",
       "      <th>9995</th>\n",
       "      <td>4641.0</td>\n",
       "      <td>Data Analyst, Marketing Operations</td>\n",
       "      <td>Imperva</td>\n",
       "      <td>Austin, Texas, United States</td>\n",
       "      <td>['Seniority level', 'Associate', 'Employment t...</td>\n",
       "      <td>['Data Analyst, Marketing Operations', '', 'Th...</td>\n",
       "      <td>2020-10-31</td>\n",
       "      <td>3 weeks ago</td>\n",
       "      <td>https://www.linkedin.com/jobs/view/data-analys...</td>\n",
       "    </tr>\n",
       "    <tr>\n",
       "      <th>9996</th>\n",
       "      <td>4642.0</td>\n",
       "      <td>Data Analyst Manager</td>\n",
       "      <td>Two Sigma</td>\n",
       "      <td>Houston, Texas, United States</td>\n",
       "      <td>['Seniority level', 'Not Applicable', 'Employm...</td>\n",
       "      <td>['Two Sigma is a financial sciences company, c...</td>\n",
       "      <td>2020-10-31</td>\n",
       "      <td>4 weeks ago</td>\n",
       "      <td>https://www.linkedin.com/jobs/view/data-analys...</td>\n",
       "    </tr>\n",
       "    <tr>\n",
       "      <th>9997</th>\n",
       "      <td>4643.0</td>\n",
       "      <td>Data Analyst (contract to hire)</td>\n",
       "      <td>Quanta Services, Inc.</td>\n",
       "      <td>Houston, Texas, United States</td>\n",
       "      <td>['Seniority level', 'Entry level', 'Employment...</td>\n",
       "      <td>['The Data Analyst will participate in all asp...</td>\n",
       "      <td>2020-10-31</td>\n",
       "      <td>4 weeks ago</td>\n",
       "      <td>https://www.linkedin.com/jobs/view/data-analys...</td>\n",
       "    </tr>\n",
       "    <tr>\n",
       "      <th>9998</th>\n",
       "      <td>4644.0</td>\n",
       "      <td>Epidemiology Data Analyst</td>\n",
       "      <td>General Dynamics Information Technology</td>\n",
       "      <td>San Antonio, Texas, United States</td>\n",
       "      <td>['Seniority level', 'Entry level', 'Employment...</td>\n",
       "      <td>['Job Description', '', 'GDIT is seeking an Ep...</td>\n",
       "      <td>2020-10-31</td>\n",
       "      <td>1 month ago</td>\n",
       "      <td>https://www.linkedin.com/jobs/view/epidemiolog...</td>\n",
       "    </tr>\n",
       "    <tr>\n",
       "      <th>9999</th>\n",
       "      <td>4645.0</td>\n",
       "      <td>Data Analyst III</td>\n",
       "      <td>Centene Corporation</td>\n",
       "      <td>Austin, Texas, United States</td>\n",
       "      <td>['Seniority level', 'Not Applicable', 'Employm...</td>\n",
       "      <td>['Position Purpose', 'Responsible for analytic...</td>\n",
       "      <td>2020-10-31</td>\n",
       "      <td>1 month ago</td>\n",
       "      <td>https://www.linkedin.com/jobs/view/data-analys...</td>\n",
       "    </tr>\n",
       "  </tbody>\n",
       "</table>\n",
       "<p>10000 rows × 9 columns</p>\n",
       "</div>"
      ],
      "text/plain": [
       "      Unnamed: 0                                            Title  \\\n",
       "0            0.0  Student Intern, Data Analyst & Quote Controller   \n",
       "1            1.0                        Intermediate Data Analyst   \n",
       "2            2.0                    Senior Technical Data Analyst   \n",
       "3            3.0                        Data Analyst 3 (contract)   \n",
       "4            4.0                              Senior Data Analyst   \n",
       "...          ...                                              ...   \n",
       "9995      4641.0               Data Analyst, Marketing Operations   \n",
       "9996      4642.0                             Data Analyst Manager   \n",
       "9997      4643.0                  Data Analyst (contract to hire)   \n",
       "9998      4644.0                        Epidemiology Data Analyst   \n",
       "9999      4645.0                                 Data Analyst III   \n",
       "\n",
       "                                      Company  \\\n",
       "0                                   Celestica   \n",
       "1                                         QSI   \n",
       "2                         BMO Financial Group   \n",
       "3                  Tundra Technical Solutions   \n",
       "4                                      Procom   \n",
       "...                                       ...   \n",
       "9995                                  Imperva   \n",
       "9996                                Two Sigma   \n",
       "9997                    Quanta Services, Inc.   \n",
       "9998  General Dynamics Information Technology   \n",
       "9999                      Centene Corporation   \n",
       "\n",
       "                               Location  \\\n",
       "0                      Toronto, Ontario   \n",
       "1                       Ottawa, Ontario   \n",
       "2                      Toronto, Ontario   \n",
       "3                      Montreal, Quebec   \n",
       "4                  Mississauga, Ontario   \n",
       "...                                 ...   \n",
       "9995       Austin, Texas, United States   \n",
       "9996      Houston, Texas, United States   \n",
       "9997      Houston, Texas, United States   \n",
       "9998  San Antonio, Texas, United States   \n",
       "9999       Austin, Texas, United States   \n",
       "\n",
       "                                                Summary  \\\n",
       "0     ['Seniority level', 'Internship', 'Employment ...   \n",
       "1     ['Seniority level', 'Entry level', 'Employment...   \n",
       "2     ['Seniority level', 'Not Applicable', 'Employm...   \n",
       "3     ['Seniority level', 'Associate', 'Employment t...   \n",
       "4     ['Seniority level', 'Associate', 'Employment t...   \n",
       "...                                                 ...   \n",
       "9995  ['Seniority level', 'Associate', 'Employment t...   \n",
       "9996  ['Seniority level', 'Not Applicable', 'Employm...   \n",
       "9997  ['Seniority level', 'Entry level', 'Employment...   \n",
       "9998  ['Seniority level', 'Entry level', 'Employment...   \n",
       "9999  ['Seniority level', 'Not Applicable', 'Employm...   \n",
       "\n",
       "                                            Description        Date  \\\n",
       "0     ['Req ID: 65591', 'Region: Americas', 'Country...  2020-11-06   \n",
       "1     ['Category: IT Services Location:Assist in ide...  2020-11-06   \n",
       "2     ['Address', '', '120 Bloor Street East', '', '...  2020-11-06   \n",
       "3     ['Job Description', '', 'Provide data analysis...  2020-11-06   \n",
       "4     ['Senior Data Analyst', '', 'On behalf of our ...  2020-11-06   \n",
       "...                                                 ...         ...   \n",
       "9995  ['Data Analyst, Marketing Operations', '', 'Th...  2020-10-31   \n",
       "9996  ['Two Sigma is a financial sciences company, c...  2020-10-31   \n",
       "9997  ['The Data Analyst will participate in all asp...  2020-10-31   \n",
       "9998  ['Job Description', '', 'GDIT is seeking an Ep...  2020-10-31   \n",
       "9999  ['Position Purpose', 'Responsible for analytic...  2020-10-31   \n",
       "\n",
       "         Duration                                               Link  \n",
       "0     2 weeks ago  https://ca.linkedin.com/jobs/view/student-inte...  \n",
       "1     4 weeks ago  https://ca.linkedin.com/jobs/view/intermediate...  \n",
       "2     4 hours ago  https://ca.linkedin.com/jobs/view/senior-techn...  \n",
       "3      1 week ago  https://ca.linkedin.com/jobs/view/data-analyst...  \n",
       "4       1 day ago  https://ca.linkedin.com/jobs/view/senior-data-...  \n",
       "...           ...                                                ...  \n",
       "9995  3 weeks ago  https://www.linkedin.com/jobs/view/data-analys...  \n",
       "9996  4 weeks ago  https://www.linkedin.com/jobs/view/data-analys...  \n",
       "9997  4 weeks ago  https://www.linkedin.com/jobs/view/data-analys...  \n",
       "9998  1 month ago  https://www.linkedin.com/jobs/view/epidemiolog...  \n",
       "9999  1 month ago  https://www.linkedin.com/jobs/view/data-analys...  \n",
       "\n",
       "[10000 rows x 9 columns]"
      ]
     },
     "execution_count": 5,
     "metadata": {},
     "output_type": "execute_result"
    }
   ],
   "source": [
    "df = pd.read_csv('training.csv', encoding='utf-8')   ##compiled data\n",
    "df1 = pd.read_csv('linkedin-canada-incremental-2020-12-03.csv',  encoding='utf-8') ##sample data\n",
    "df.head(-2)\n",
    "df2 = df[0:10000]\n",
    "df2"
   ]
  },
  {
   "cell_type": "markdown",
   "metadata": {},
   "source": [
    "# remove numbers"
   ]
  },
  {
   "cell_type": "code",
   "execution_count": 6,
   "metadata": {},
   "outputs": [
    {
     "name": "stderr",
     "output_type": "stream",
     "text": [
      "<ipython-input-6-d3971fbc8948>:1: FutureWarning: The default value of regex will change from True to False in a future version.\n",
      "  df2['Description'] = df2['Description'].str.replace('\\d+','')\n",
      "<ipython-input-6-d3971fbc8948>:1: SettingWithCopyWarning: \n",
      "A value is trying to be set on a copy of a slice from a DataFrame.\n",
      "Try using .loc[row_indexer,col_indexer] = value instead\n",
      "\n",
      "See the caveats in the documentation: https://pandas.pydata.org/pandas-docs/stable/user_guide/indexing.html#returning-a-view-versus-a-copy\n",
      "  df2['Description'] = df2['Description'].str.replace('\\d+','')\n"
     ]
    },
    {
     "data": {
      "text/plain": [
       "0       ['Req ID: ', 'Region: Americas', 'Country: Can...\n",
       "1       ['Category: IT Services Location:Assist in ide...\n",
       "2       ['Address', '', ' Bloor Street East', '', 'Job...\n",
       "3       ['Job Description', '', 'Provide data analysis...\n",
       "4       ['Senior Data Analyst', '', 'On behalf of our ...\n",
       "                              ...                        \n",
       "9995    ['Data Analyst, Marketing Operations', '', 'Th...\n",
       "9996    ['Two Sigma is a financial sciences company, c...\n",
       "9997    ['The Data Analyst will participate in all asp...\n",
       "9998    ['Job Description', '', 'GDIT is seeking an Ep...\n",
       "9999    ['Position Purpose', 'Responsible for analytic...\n",
       "Name: Description, Length: 10000, dtype: object"
      ]
     },
     "execution_count": 6,
     "metadata": {},
     "output_type": "execute_result"
    }
   ],
   "source": [
    "df2['Description'] = df2['Description'].str.replace('\\d+','')\n",
    "df2['Description'].dropna()"
   ]
  },
  {
   "cell_type": "markdown",
   "metadata": {},
   "source": [
    "# remove punctuations\n"
   ]
  },
  {
   "cell_type": "code",
   "execution_count": 7,
   "metadata": {},
   "outputs": [],
   "source": [
    "#remove punctuation\n",
    "def remove_pun(txt):\n",
    "    txt_nopun = \"\".join([c for c in txt if c not in string.punctuation])\n",
    "    return txt_nopun"
   ]
  },
  {
   "cell_type": "code",
   "execution_count": 8,
   "metadata": {},
   "outputs": [
    {
     "name": "stderr",
     "output_type": "stream",
     "text": [
      "<ipython-input-8-9a2e1ff69601>:1: SettingWithCopyWarning: \n",
      "A value is trying to be set on a copy of a slice from a DataFrame.\n",
      "Try using .loc[row_indexer,col_indexer] = value instead\n",
      "\n",
      "See the caveats in the documentation: https://pandas.pydata.org/pandas-docs/stable/user_guide/indexing.html#returning-a-view-versus-a-copy\n",
      "  df2['remove_Pun'] = df2['Description'].apply(lambda x:remove_pun(x))\n"
     ]
    },
    {
     "data": {
      "text/plain": [
       "0       Req ID  Region Americas Country Canada StatePr...\n",
       "1       Category IT Services LocationAssist in identif...\n",
       "2       Address   Bloor Street East  Job Family Group ...\n",
       "3       Job Description  Provide data analysis and sta...\n",
       "4       Senior Data Analyst  On behalf of our client i...\n",
       "                              ...                        \n",
       "9995    Data Analyst Marketing Operations  The Opportu...\n",
       "9996    Two Sigma is a financial sciences company comb...\n",
       "9997    The Data Analyst will participate in all aspec...\n",
       "9998    Job Description  GDIT is seeking an Epidemiolo...\n",
       "9999    Position Purpose Responsible for analytic data...\n",
       "Name: remove_Pun, Length: 10000, dtype: object"
      ]
     },
     "execution_count": 8,
     "metadata": {},
     "output_type": "execute_result"
    }
   ],
   "source": [
    "df2['remove_Pun'] = df2['Description'].apply(lambda x:remove_pun(x))\n",
    "df2['remove_Pun'].dropna()\n"
   ]
  },
  {
   "cell_type": "code",
   "execution_count": 9,
   "metadata": {},
   "outputs": [],
   "source": [
    "#text_remove_pun = df1['remove_Pun']\n",
    "#text_remove_pun = ', '.join(df1['remove_Pun'])\n",
    "#text_remove_pun\n",
    "#ab = df['remove_Pun'][0:10]\n",
    "df2['remove_Pun']\n",
    "reindexed_data = df2['remove_Pun']"
   ]
  },
  {
   "cell_type": "code",
   "execution_count": 10,
   "metadata": {},
   "outputs": [],
   "source": [
    "# Define helper functions\n",
    "def get_top_n_words(n_top_words, count_vectorizer, text_data):\n",
    "\n",
    "    vectorized_headlines = count_vectorizer.fit_transform(text_data.values)\n",
    "    vectorized_total = np.sum(vectorized_headlines, axis=0)\n",
    "    word_indices = np.flip(np.argsort(vectorized_total)[0,:], 1)\n",
    "    word_values = np.flip(np.sort(vectorized_total)[0,:],1)\n",
    "    \n",
    "    word_vectors = np.zeros((n_top_words, vectorized_headlines.shape[1]))\n",
    "    for i in range(n_top_words):\n",
    "        word_vectors[i,word_indices[0,i]] = 1\n",
    "\n",
    "    words = [word[0].encode('ascii').decode('utf-8') for \n",
    "             word in count_vectorizer.inverse_transform(word_vectors)]\n",
    "\n",
    "    return (words, word_values[0,:n_top_words].tolist()[0])"
   ]
  },
  {
   "cell_type": "code",
   "execution_count": 11,
   "metadata": {},
   "outputs": [
    {
     "data": {
      "text/plain": [
       "<function __main__.get_top_n_words(n_top_words, count_vectorizer, text_data)>"
      ]
     },
     "execution_count": 11,
     "metadata": {},
     "output_type": "execute_result"
    }
   ],
   "source": [
    "get_top_n_words"
   ]
  },
  {
   "cell_type": "code",
   "execution_count": 12,
   "metadata": {},
   "outputs": [
    {
     "data": {
      "image/png": "[encoded data removed]",
      "text/plain": [
       "<Figure size 1152x576 with 1 Axes>"
      ]
     },
     "metadata": {
      "needs_background": "light"
     },
     "output_type": "display_data"
    }
   ],
   "source": [
    "stopwords = nltk.corpus.stopwords.words('english') + nltk.corpus.stopwords.words('french')\n",
    "count_vectorizer = CountVectorizer(stop_words=stopwords)\n",
    "words, word_values = get_top_n_words(n_top_words=15,\n",
    "                                     count_vectorizer=count_vectorizer, \n",
    "                                     text_data=reindexed_data)\n",
    "\n",
    "fig, ax = plt.subplots(figsize=(16,8))\n",
    "ax.bar(range(len(words)), word_values);\n",
    "ax.set_xticks(range(len(words)));\n",
    "ax.set_xticklabels(words, rotation='vertical');\n",
    "ax.set_title('Top words in headlines dataset (excluding stop words)');\n",
    "ax.set_xlabel('Word');\n",
    "ax.set_ylabel('Number of occurences');\n",
    "plt.show()"
   ]
  },
  {
   "cell_type": "markdown",
   "metadata": {},
   "source": [
    "# count vectorization "
   ]
  },
  {
   "cell_type": "code",
   "execution_count": null,
   "metadata": {},
   "outputs": [],
   "source": [
    "##count vectorization \n",
    "from sklearn.feature_extraction.text import CountVectorizer\n",
    "cv = CountVectorizer()\n",
    "\n",
    "x = cv.fit_transform(text)\n",
    "print (x.shape)\n",
    "print(cv.get_feature_names())  "
   ]
  },
  {
   "cell_type": "markdown",
   "metadata": {},
   "source": []
  },
  {
   "cell_type": "code",
   "execution_count": null,
   "metadata": {},
   "outputs": [],
   "source": []
  },
  {
   "cell_type": "markdown",
   "metadata": {},
   "source": [
    "# preprocessing"
   ]
  },
  {
   "cell_type": "code",
   "execution_count": 15,
   "metadata": {},
   "outputs": [
    {
     "name": "stdout",
     "output_type": "stream",
     "text": [
      "After vectorization: \n",
      "  (0, 5572)\t14\n",
      "  (0, 8217)\t2\n",
      "  (0, 19414)\t1\n",
      "  (0, 13684)\t1\n",
      "  (0, 20778)\t1\n",
      "  (0, 16769)\t1\n",
      "  (0, 19902)\t1\n",
      "  (0, 25508)\t1\n",
      "  (0, 22493)\t1\n",
      "  (0, 1949)\t1\n",
      "  (0, 11251)\t1\n",
      "  (0, 17969)\t2\n",
      "  (0, 19895)\t1\n",
      "  (0, 21601)\t1\n",
      "  (0, 16324)\t1\n",
      "  (0, 25148)\t3\n",
      "  (0, 6231)\t2\n",
      "  (0, 17302)\t1\n",
      "  (0, 123)\t1\n",
      "  (0, 4147)\t3\n",
      "  (0, 18349)\t2\n",
      "  (0, 5139)\t1\n",
      "  (0, 18747)\t1\n",
      "  (0, 19770)\t2\n",
      "  (0, 19178)\t1\n",
      "  :\t:\n",
      "  (0, 20909)\t1\n",
      "  (0, 20109)\t1\n",
      "  (0, 20693)\t2\n",
      "  (0, 25134)\t1\n",
      "  (0, 5187)\t1\n",
      "  (0, 20210)\t1\n",
      "  (0, 8794)\t2\n",
      "  (0, 4269)\t1\n",
      "  (0, 337)\t1\n",
      "  (0, 19192)\t1\n",
      "  (0, 17597)\t1\n",
      "  (0, 9811)\t1\n",
      "  (0, 22343)\t1\n",
      "  (0, 136)\t1\n",
      "  (0, 3427)\t1\n",
      "  (0, 9762)\t1\n",
      "  (0, 11283)\t1\n",
      "  (0, 11685)\t2\n",
      "  (0, 14588)\t1\n",
      "  (0, 18220)\t1\n",
      "  (0, 5561)\t1\n",
      "  (0, 21365)\t1\n",
      "  (0, 567)\t1\n",
      "  (0, 18362)\t1\n",
      "  (0, 17410)\t1\n"
     ]
    }
   ],
   "source": [
    "small_count_vectorizer = CountVectorizer(stop_words=stopwords, max_features=40000)\n",
    "small_text_sample = reindexed_data.sample(n=10000, random_state=0).values\n",
    "\n",
    "\n",
    "small_document_term_matrix = small_count_vectorizer.fit_transform(small_text_sample)\n",
    "\n",
    "print('After vectorization: \\n{}'.format(small_document_term_matrix[123]))"
   ]
  },
  {
   "cell_type": "code",
   "execution_count": 16,
   "metadata": {},
   "outputs": [],
   "source": [
    "n_topics = 8"
   ]
  },
  {
   "cell_type": "code",
   "execution_count": 17,
   "metadata": {},
   "outputs": [],
   "source": [
    "from sklearn.decomposition import LatentDirichletAllocation\n",
    "\n",
    "\n",
    "lda_model = LatentDirichletAllocation(n_components=n_topics, learning_method='batch', \n",
    "                                          random_state=0, verbose=0)\n",
    "lda_topic_matrix = lda_model.fit_transform(small_document_term_matrix)"
   ]
  },
  {
   "cell_type": "code",
   "execution_count": 18,
   "metadata": {},
   "outputs": [
    {
     "data": {
      "text/plain": [
       "array([[5.68478204e-03, 5.68462155e-03, 5.68603305e-03, ...,\n",
       "        6.05670039e-02, 5.68652205e-03, 9.05324489e-01],\n",
       "       [8.39039175e-04, 8.39084825e-04, 8.39114265e-04, ...,\n",
       "        8.39021965e-04, 8.39140051e-04, 8.39111465e-04],\n",
       "       [1.00095518e-03, 1.00100950e-03, 1.28418518e-01, ...,\n",
       "        1.00113870e-03, 1.00145688e-03, 8.48332676e-01],\n",
       "       ...,\n",
       "       [8.39039175e-04, 8.39084825e-04, 8.39114265e-04, ...,\n",
       "        8.39021965e-04, 8.39140051e-04, 8.39111465e-04],\n",
       "       [4.98470412e-04, 1.22095632e-01, 4.98592614e-04, ...,\n",
       "        4.98947352e-04, 7.92094634e-02, 3.56026853e-01],\n",
       "       [2.55413534e-03, 2.55452551e-03, 2.55541659e-03, ...,\n",
       "        2.55342062e-03, 2.53193805e-01, 7.31482750e-01]])"
      ]
     },
     "execution_count": 18,
     "metadata": {},
     "output_type": "execute_result"
    }
   ],
   "source": [
    "lda_topic_matrix"
   ]
  },
  {
   "cell_type": "code",
   "execution_count": 19,
   "metadata": {},
   "outputs": [],
   "source": [
    "def get_keys(topic_matrix):\n",
    "\n",
    "    keys = topic_matrix.argmax(axis=1).tolist()\n",
    "    return keys\n",
    "\n",
    "def keys_to_counts(keys):\n",
    " \n",
    "    count_pairs = Counter(keys).items()\n",
    "    categories = [pair[0] for pair in count_pairs]\n",
    "    counts = [pair[1] for pair in count_pairs]\n",
    "    return (categories, counts)"
   ]
  },
  {
   "cell_type": "code",
   "execution_count": 20,
   "metadata": {},
   "outputs": [],
   "source": [
    "lda_keys = get_keys(lda_topic_matrix)\n",
    "lda_categories, lda_counts = keys_to_counts(lda_keys)"
   ]
  },
  {
   "cell_type": "code",
   "execution_count": 21,
   "metadata": {},
   "outputs": [],
   "source": [
    "# Define helper functions\n",
    "def get_top_n_words(n, keys, document_term_matrix, count_vectorizer):\n",
    "\n",
    "    top_word_indices = []\n",
    "    for topic in range(n_topics):\n",
    "        temp_vector_sum = 0\n",
    "        for i in range(len(keys)):\n",
    "            if keys[i] == topic:\n",
    "                temp_vector_sum += document_term_matrix[i]\n",
    "        temp_vector_sum = temp_vector_sum.toarray()\n",
    "        top_n_word_indices = np.flip(np.argsort(temp_vector_sum)[0][-n:],0)\n",
    "        top_word_indices.append(top_n_word_indices)   \n",
    "    top_words = []\n",
    "    for topic in top_word_indices:\n",
    "        topic_words = []\n",
    "        for index in topic:\n",
    "            temp_word_vector = np.zeros((1,document_term_matrix.shape[1]))\n",
    "            temp_word_vector[:,index] = 1\n",
    "            the_word = count_vectorizer.inverse_transform(temp_word_vector)[0][0]\n",
    "            topic_words.append(the_word)\n",
    "        top_words.append(\" \".join(topic_words))         \n",
    "    return top_words"
   ]
  },
  {
   "cell_type": "code",
   "execution_count": 22,
   "metadata": {},
   "outputs": [
    {
     "data": {
      "text/plain": [
       "<function __main__.get_top_n_words(n, keys, document_term_matrix, count_vectorizer)>"
      ]
     },
     "execution_count": 22,
     "metadata": {},
     "output_type": "execute_result"
    }
   ],
   "source": [
    "get_top_n_words"
   ]
  },
  {
   "cell_type": "code",
   "execution_count": 23,
   "metadata": {},
   "outputs": [
    {
     "name": "stdout",
     "output_type": "stream",
     "text": [
      "Topic 1:  data thales solutions données team technology clients intelligence show world\n",
      "Topic 2:  data business work status team show opportunity us company employment\n",
      "Topic 3:  data job statistical pythian cloud show using implement develop provide\n",
      "Topic 4:  monetizemore team technology work engineer attributes industry company ad show\n",
      "Topic 5:  data team business work show us help learning world company\n",
      "Topic 6:  data information nga applicants experience education must work may application\n",
      "Topic 7:  data team work show business people experience us technology customers\n",
      "Topic 8:  data experience business analyst show work team analysis support management\n"
     ]
    }
   ],
   "source": [
    "top_n_words_lda = get_top_n_words(10, lda_keys, small_document_term_matrix, small_count_vectorizer)\n",
    "\n",
    "for i in range(len(top_n_words_lda)):\n",
    "    print(\"Topic {}: \".format(i+1), top_n_words_lda[i])"
   ]
  },
  {
   "cell_type": "code",
   "execution_count": 24,
   "metadata": {},
   "outputs": [
    {
     "name": "stdout",
     "output_type": "stream",
     "text": [
      "[t-SNE] Computing 151 nearest neighbors...\n",
      "[t-SNE] Indexed 10000 samples in 0.032s...\n",
      "[t-SNE] Computed neighbors for 10000 samples in 0.778s...\n",
      "[t-SNE] Computed conditional probabilities for sample 1000 / 10000\n",
      "[t-SNE] Computed conditional probabilities for sample 2000 / 10000\n",
      "[t-SNE] Computed conditional probabilities for sample 3000 / 10000\n",
      "[t-SNE] Computed conditional probabilities for sample 4000 / 10000\n",
      "[t-SNE] Computed conditional probabilities for sample 5000 / 10000\n",
      "[t-SNE] Computed conditional probabilities for sample 6000 / 10000\n",
      "[t-SNE] Computed conditional probabilities for sample 7000 / 10000\n",
      "[t-SNE] Computed conditional probabilities for sample 8000 / 10000\n",
      "[t-SNE] Computed conditional probabilities for sample 9000 / 10000\n",
      "[t-SNE] Computed conditional probabilities for sample 10000 / 10000\n",
      "[t-SNE] Mean sigma: 0.000000\n",
      "[t-SNE] KL divergence after 250 iterations with early exaggeration: 62.813087\n",
      "[t-SNE] KL divergence after 2000 iterations: 0.494576\n"
     ]
    }
   ],
   "source": [
    "tsne_lda_model = TSNE(n_components=2, perplexity=50, learning_rate=100, \n",
    "                        n_iter=2000, verbose=1, random_state=0, angle=0.75)\n",
    "tsne_lda_vectors = tsne_lda_model.fit_transform(lda_topic_matrix)"
   ]
  },
  {
   "cell_type": "markdown",
   "metadata": {},
   "source": [
    "  # Creating a list of centroid vectors from each predicted topic Cat"
   ]
  },
  {
   "cell_type": "code",
   "execution_count": 25,
   "metadata": {},
   "outputs": [],
   "source": [
    "# Define helper functions\n",
    "def get_mean_topic_vectors(keys, two_dim_vectors):\n",
    "\n",
    "    mean_topic_vectors = []\n",
    "    for t in range(n_topics):\n",
    "        articles_in_that_topic = []\n",
    "        for i in range(len(keys)):\n",
    "            if keys[i] == t:\n",
    "                articles_in_that_topic.append(two_dim_vectors[i])    \n",
    "        \n",
    "        articles_in_that_topic = np.vstack(articles_in_that_topic)\n",
    "        mean_article_in_that_topic = np.mean(articles_in_that_topic, axis=0)\n",
    "        mean_topic_vectors.append(mean_article_in_that_topic)\n",
    "    return mean_topic_vectors"
   ]
  },
  {
   "cell_type": "code",
   "execution_count": 26,
   "metadata": {},
   "outputs": [
    {
     "data": {
      "text/html": [
       "\n",
       "\n",
       "\n",
       "\n",
       "\n",
       "\n",
       "  <div class=\"bk-root\" id=\"7725434e-4ac5-4b08-b488-b3b32243d734\" data-root-id=\"1003\"></div>\n"
      ]
     },
     "metadata": {},
     "output_type": "display_data"
    },
    {
     "data": {
      "application/javascript": [
       "(function(root) {\n",
       "  function embed_document(root) {\n",
       "    \n",
       "  var docs_json = {\"df6ab895-2e5f-4aa1-884d-e3cd47b7568b\":{\"defs\":[{\"extends\":null,\"module\":null,\"name\":\"DataModel\",\"overrides\":[],\"properties\":[]}],\"roots\":{\"references\":[{\"attributes\":{\"below\":[{\"id\":\"1014\"}],\"center\":[{\"id\":\"1017\"},{\"id\":\"1021\"},{\"id\":\"1041\"},{\"id\":\"1042\"},{\"id\":\"1043\"},{\"id\":\"1044\"},{\"id\":\"1045\"},{\"id\":\"1046\"},{\"id\":\"1047\"},{\"id\":\"1048\"}],\"height\":700,\"left\":[{\"id\":\"1018\"}],\"renderers\":[{\"id\":\"1039\"}],\"title\":{\"id\":\"1004\"},\"toolbar\":{\"id\":\"1029\"},\"width\":700,\"x_range\":{\"id\":\"1006\"},\"x_scale\":{\"id\":\"1010\"},\"y_range\":{\"id\":\"1008\"},\"y_scale\":{\"id\":\"1012\"}},\"id\":\"1003\",\"subtype\":\"Figure\",\"type\":\"Plot\"},{\"attributes\":{},\"id\":\"1010\",\"type\":\"LinearScale\"},{\"attributes\":{},\"id\":\"1057\",\"type\":\"UnionRenderers\"},{\"attributes\":{\"formatter\":{\"id\":\"1053\"},\"major_label_policy\":{\"id\":\"1054\"},\"ticker\":{\"id\":\"1015\"}},\"id\":\"1014\",\"type\":\"LinearAxis\"},{\"attributes\":{},\"id\":\"1015\",\"type\":\"BasicTicker\"},{\"attributes\":{},\"id\":\"1027\",\"type\":\"HelpTool\"},{\"attributes\":{\"text\":\"data thales solutions\",\"x\":28.255361557006836,\"y\":32.55834197998047},\"id\":\"1041\",\"type\":\"Label\"},{\"attributes\":{\"text\":\"data job statistical\",\"x\":-12.358366966247559,\"y\":21.03142547607422},\"id\":\"1043\",\"type\":\"Label\"},{\"attributes\":{},\"id\":\"1058\",\"type\":\"Selection\"},{\"attributes\":{\"axis\":{\"id\":\"1018\"},\"dimension\":1,\"ticker\":null},\"id\":\"1021\",\"type\":\"Grid\"},{\"attributes\":{},\"id\":\"1025\",\"type\":\"SaveTool\"},{\"attributes\":{},\"id\":\"1053\",\"type\":\"BasicTickFormatter\"},{\"attributes\":{},\"id\":\"1012\",\"type\":\"LinearScale\"},{\"attributes\":{},\"id\":\"1050\",\"type\":\"BasicTickFormatter\"},{\"attributes\":{\"fill_alpha\":{\"value\":0.1},\"fill_color\":{\"value\":\"#1f77b4\"},\"line_alpha\":{\"value\":0.1},\"line_color\":{\"value\":\"#1f77b4\"},\"x\":{\"field\":\"x\"},\"y\":{\"field\":\"y\"}},\"id\":\"1038\",\"type\":\"Scatter\"},{\"attributes\":{},\"id\":\"1054\",\"type\":\"AllLabels\"},{\"attributes\":{},\"id\":\"1008\",\"type\":\"DataRange1d\"},{\"attributes\":{\"active_multi\":null,\"tools\":[{\"id\":\"1022\"},{\"id\":\"1023\"},{\"id\":\"1024\"},{\"id\":\"1025\"},{\"id\":\"1026\"},{\"id\":\"1027\"}]},\"id\":\"1029\",\"type\":\"Toolbar\"},{\"attributes\":{\"text\":\"monetizemore team technology\",\"x\":-23.372535705566406,\"y\":1.8186832666397095},\"id\":\"1044\",\"type\":\"Label\"},{\"attributes\":{},\"id\":\"1026\",\"type\":\"ResetTool\"},{\"attributes\":{\"data_source\":{\"id\":\"1036\"},\"glyph\":{\"id\":\"1037\"},\"hover_glyph\":null,\"muted_glyph\":null,\"nonselection_glyph\":{\"id\":\"1038\"},\"view\":{\"id\":\"1040\"}},\"id\":\"1039\",\"type\":\"GlyphRenderer\"},{\"attributes\":{\"text\":\"data experience business\",\"x\":-3.631751775741577,\"y\":-18.596513748168945},\"id\":\"1048\",\"type\":\"Label\"},{\"attributes\":{\"text\":\"data information nga\",\"x\":-38.85968780517578,\"y\":13.779825210571289},\"id\":\"1046\",\"type\":\"Label\"},{\"attributes\":{\"formatter\":{\"id\":\"1050\"},\"major_label_policy\":{\"id\":\"1051\"},\"ticker\":{\"id\":\"1019\"}},\"id\":\"1018\",\"type\":\"LinearAxis\"},{\"attributes\":{},\"id\":\"1022\",\"type\":\"PanTool\"},{\"attributes\":{\"text\":\"data team work\",\"x\":-11.458986282348633,\"y\":10.087668418884277},\"id\":\"1047\",\"type\":\"Label\"},{\"attributes\":{\"bottom_units\":\"screen\",\"fill_alpha\":0.5,\"fill_color\":\"lightgrey\",\"left_units\":\"screen\",\"level\":\"overlay\",\"line_alpha\":1.0,\"line_color\":\"black\",\"line_dash\":[4,4],\"line_width\":2,\"right_units\":\"screen\",\"syncable\":false,\"top_units\":\"screen\"},\"id\":\"1028\",\"type\":\"BoxAnnotation\"},{\"attributes\":{\"axis\":{\"id\":\"1014\"},\"ticker\":null},\"id\":\"1017\",\"type\":\"Grid\"},{\"attributes\":{\"text\":\"data team business\",\"x\":28.301225662231445,\"y\":21.319795608520508},\"id\":\"1045\",\"type\":\"Label\"},{\"attributes\":{\"overlay\":{\"id\":\"1028\"}},\"id\":\"1024\",\"type\":\"BoxZoomTool\"},{\"attributes\":{},\"id\":\"1006\",\"type\":\"DataRange1d\"},{\"attributes\":{\"text\":\"t-SNE Clustering of 8 LDA Topics\"},\"id\":\"1004\",\"type\":\"Title\"},{\"attributes\":{},\"id\":\"1051\",\"type\":\"AllLabels\"},{\"attributes\":{},\"id\":\"1023\",\"type\":\"WheelZoomTool\"},{\"attributes\":{\"source\":{\"id\":\"1036\"}},\"id\":\"1040\",\"type\":\"CDSView\"},{\"attributes\":{\"data\":{\"x\":{\"__ndarray__\":\"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\",\"dtype\":\"float32\",\"order\":\"little\",\"shape\":[10000]},\"y\":{\"__ndarray__\":\"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\",\"dtype\":\"float32\",\"order\":\"little\",\"shape\":[10000]}},\"selected\":{\"id\":\"1058\"},\"selection_policy\":{\"id\":\"1057\"}},\"id\":\"1036\",\"type\":\"ColumnDataSource\"},{\"attributes\":{\"text\":\"data business work\",\"x\":53.90057373046875,\"y\":-7.278257369995117},\"id\":\"1042\",\"type\":\"Label\"},{\"attributes\":{},\"id\":\"1019\",\"type\":\"BasicTicker\"},{\"attributes\":{\"fill_color\":{\"value\":\"#1f77b4\"},\"line_color\":{\"value\":\"#1f77b4\"},\"x\":{\"field\":\"x\"},\"y\":{\"field\":\"y\"}},\"id\":\"1037\",\"type\":\"Scatter\"}],\"root_ids\":[\"1003\"]},\"title\":\"Bokeh Application\",\"version\":\"2.3.0\"}};\n",
       "  var render_items = [{\"docid\":\"df6ab895-2e5f-4aa1-884d-e3cd47b7568b\",\"root_ids\":[\"1003\"],\"roots\":{\"1003\":\"7725434e-4ac5-4b08-b488-b3b32243d734\"}}];\n",
       "  root.Bokeh.embed.embed_items_notebook(docs_json, render_items);\n",
       "\n",
       "  }\n",
       "  if (root.Bokeh !== undefined) {\n",
       "    embed_document(root);\n",
       "  } else {\n",
       "    var attempts = 0;\n",
       "    var timer = setInterval(function(root) {\n",
       "      if (root.Bokeh !== undefined) {\n",
       "        clearInterval(timer);\n",
       "        embed_document(root);\n",
       "      } else {\n",
       "        attempts++;\n",
       "        if (attempts > 100) {\n",
       "          clearInterval(timer);\n",
       "          console.log(\"Bokeh: ERROR: Unable to run BokehJS code because BokehJS library is missing\");\n",
       "        }\n",
       "      }\n",
       "    }, 10, root)\n",
       "  }\n",
       "})(window);"
      ],
      "application/vnd.bokehjs_exec.v0+json": ""
     },
     "metadata": {
      "application/vnd.bokehjs_exec.v0+json": {
       "id": "1003"
      }
     },
     "output_type": "display_data"
    }
   ],
   "source": [
    "\n",
    "top_3_words_lda = get_top_n_words(3, lda_keys, small_document_term_matrix, small_count_vectorizer)\n",
    "lda_mean_topic_vectors = get_mean_topic_vectors(lda_keys, tsne_lda_vectors)\n",
    "\n",
    "plot = figure(title=\"t-SNE Clustering of {} LDA Topics\".format(n_topics), plot_width=700, plot_height=700)\n",
    "plot.scatter(x=tsne_lda_vectors[:,0], y=tsne_lda_vectors[:,1])\n",
    "\n",
    "for t in range(n_topics):\n",
    "    label = Label(x=lda_mean_topic_vectors[t][0], y=lda_mean_topic_vectors[t][1], \n",
    "                  text=top_3_words_lda[t])\n",
    "    plot.add_layout(label)\n",
    "\n",
    "show(plot)"
   ]
  },
  {
   "cell_type": "code",
   "execution_count": 27,
   "metadata": {
    "scrolled": true
   },
   "outputs": [
    {
     "data": {
      "text/plain": [
       "['data thales solutions',\n",
       " 'data business work',\n",
       " 'data job statistical',\n",
       " 'monetizemore team technology',\n",
       " 'data team business',\n",
       " 'data information nga',\n",
       " 'data team work',\n",
       " 'data experience business']"
      ]
     },
     "execution_count": 27,
     "metadata": {},
     "output_type": "execute_result"
    }
   ],
   "source": [
    "top_3_words_lda"
   ]
  },
  {
   "cell_type": "markdown",
   "metadata": {},
   "source": [
    "# Scalling up "
   ]
  },
  {
   "cell_type": "code",
   "execution_count": null,
   "metadata": {},
   "outputs": [],
   "source": []
  },
  {
   "cell_type": "code",
   "execution_count": null,
   "metadata": {},
   "outputs": [],
   "source": []
  },
  {
   "cell_type": "code",
   "execution_count": null,
   "metadata": {},
   "outputs": [],
   "source": []
  },
  {
   "cell_type": "code",
   "execution_count": null,
   "metadata": {},
   "outputs": [],
   "source": []
  },
  {
   "cell_type": "code",
   "execution_count": null,
   "metadata": {},
   "outputs": [],
   "source": []
  }
 ],
 "metadata": {
  "kernelspec": {
   "display_name": "Python 3",
   "language": "python",
   "name": "python3"
  },
  "language_info": {
   "codemirror_mode": {
    "name": "ipython",
    "version": 3
   },
   "file_extension": ".py",
   "mimetype": "text/x-python",
   "name": "python",
   "nbconvert_exporter": "python",
   "pygments_lexer": "ipython3",
   "version": "3.8.5"
  }
 },
 "nbformat": 4,
 "nbformat_minor": 4
}
